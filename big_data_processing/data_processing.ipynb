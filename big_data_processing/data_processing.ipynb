{
 "cells": [
  {
   "cell_type": "code",
   "execution_count": null,
   "id": "initial_id",
   "metadata": {
    "collapsed": true
   },
   "outputs": [],
   "source": [
    "pip install pyspark "
   ]
  },
  {
   "cell_type": "code",
   "execution_count": null,
   "outputs": [],
   "source": [
    "pip install numpy "
   ],
   "metadata": {
    "collapsed": false
   },
   "id": "a73ed3083388f90f"
  },
  {
   "cell_type": "code",
   "execution_count": 16,
   "outputs": [
    {
     "name": "stdout",
     "output_type": "stream",
     "text": [
      "+---+---------------+--------------------+----------+------------+------+--------------------+-----+----------------+---------------------+------+--------------------+---------------+--------------------+--------------------+\n",
      "|PID|       Category|            Location|  Latitude|   Longitude|Gender|               Title|Price|Total Sold Items|Total Available Items|Rating|         Seller Name|Seller Feedback|   Product Condition|                 URL|\n",
      "+---+---------------+--------------------+----------+------------+------+--------------------+-----+----------------+---------------------+------+--------------------+---------------+--------------------+--------------------+\n",
      "|  0|Car Accessories|Boston, United St...|42.3554334|  -71.060511|Unisex|Car Steering Whee...|15.46|               2|                    3|   3.0|             luobo-e|           100%|                 New|https://www.ebay....|\n",
      "|  1|Car Accessories|Chicago, Illinois...|41.8755616| -87.6244212|Unisex|1pc Carbon Fiber ...| 6.54|               4|                   10|   0.5|             luobo-e|           100%|                 New|https://www.ebay....|\n",
      "|  2|Car Accessories|Redwood City, Cal...|37.4863239| -122.232523|Unisex|For Toyota Camry ...| 8.69|             255|                   34|   2.5|         easyfind123|          96.5%|                 New|https://www.ebay....|\n",
      "|  3|Car Accessories|Rowland Heights, ...|33.9761238| -117.905339|Unisex|4PCS Car Mud Flap...|12.89|              11|                   10|   3.5|          wallet1444|          95.5%|                 New|https://www.ebay....|\n",
      "|  4|Car Accessories|Longwood, Florida...|28.7008496| -81.3465575|Unisex|2X Cup Pad Car Ac...| 9.99|               2|                   10|   4.2|          casedazzle|            99%|                 New|https://www.ebay....|\n",
      "|  5|Car Accessories|Dumont, New Jerse...|40.9406541| -73.9968051|Unisex|Multicolor Car In...| 4.05|             857|                   10|   3.0|          ciphercir3|            97%|                 New|https://www.ebay....|\n",
      "|  6|Car Accessories|Houston, TX, Unit...|29.7589382| -95.3676974|Unisex|2m Blue LED Car I...| 8.99|               4|                   10|   1.0|AUXITO official s...|          99.6%|                 New|https://www.ebay....|\n",
      "|  7|Car Accessories|Longwood, Florida...|28.7008496| -81.3465575|Unisex|1x Mini LED USB C...| 2.89|             379|                   10|   1.5|            faiths75|          97.2%|New other (see de...|https://www.ebay....|\n",
      "|  8|Car Accessories|New York, New Yor...|40.7127281| -74.0060152|Unisex|New 2Pcs Car Truc...| 4.49|              23|                   10|   4.0|           ideal8253|          99.3%|                 New|https://www.ebay....|\n",
      "|  9|Car Accessories|Nanuet, New York,...|41.0902848| -74.0148205|Unisex|Car Auto Accessor...| 4.99|             562|                   10|   1.0|     valuebuybattery|          98.3%|                 New|https://www.ebay....|\n",
      "| 10|Car Accessories|Fountain Valley, ...|33.7038145|-117.9627349|Unisex|Car Accessories A...|13.79|              73|                   10|   3.0|  Doremojp8890 Store|          98.6%|                 New|https://www.ebay....|\n",
      "| 11|Car Accessories|Alameda, Californ...|37.6090291| -121.899142|Unisex|Left Side Car Acc...|17.26|             103|                   10|   2.5|     EverydayGadgetz|          99.5%|                 New|https://www.ebay....|\n",
      "| 12|Car Accessories|Longwood, Florida...|28.7008496| -81.3465575|Unisex|USB Car Accessori...| 4.69|              45|                   10|   5.0|            Sheve101|          98.5%|                 New|https://www.ebay....|\n",
      "| 13|Car Accessories|Hebron, Kentucky,...| 39.065813| -84.7027575|Unisex|Car Accessories A...| 4.99|             186|                    8|   1.0|      quadpartstore4|          99.5%|                 New|https://www.ebay....|\n",
      "| 14|Car Accessories|New York, New Yor...|40.7127281| -74.0060152|Unisex|28Pcs Car Interio...| 9.99|             187|                   10|   4.5| autocarlighting9012|          98.7%|                 New|https://www.ebay....|\n",
      "| 15|Car Accessories|Fountain Valley, ...|33.7038145|-117.9627349|Unisex|Car Sun Shade Sid...|13.79|             449|                    6|   2.0|          entaifirst|          98.6%|                 New|https://www.ebay....|\n",
      "| 16|Car Accessories|Houston, TX, Unit...|29.7589382| -95.3676974|Unisex|Universal White F...|11.96|             440|                   10|   4.5|            adjac-37|          96.4%|                 New|https://www.ebay....|\n",
      "| 17|Car Accessories|New York, New Yor...|40.7127281| -74.0060152|Unisex|USB Car Accessori...|  5.9|               1|                   10|   3.7|         iokhouse-19|            99%|                 New|https://www.ebay....|\n",
      "| 18|Car Accessories|Houston, TX, Unit...|29.7589382| -95.3676974|Unisex|Universal Blue Lu...| 3.87|             183|                   10|   4.5|         dolphin4107|          98.3%|                 New|https://www.ebay....|\n",
      "| 19|Car Accessories|Longwood, Florida...|28.7008496| -81.3465575|Unisex|SUV Car Accessori...| 9.95|               1|                   10|   2.5|   fantastic_fairing|          98.6%|                 New|https://www.ebay....|\n",
      "+---+---------------+--------------------+----------+------------+------+--------------------+-----+----------------+---------------------+------+--------------------+---------------+--------------------+--------------------+\n"
     ]
    }
   ],
   "source": [
    "import os\n",
    "from pyspark.sql import SparkSession\n",
    "\n",
    "# Create a Spark session\n",
    "os.environ[\"HADOOP_HOME\"] = \"C:\\\\hadoop-3.3.5\"\n",
    "\n",
    "# Set hadoop.home.dir system property\n",
    "os.environ[\"hadoop.home.dir\"] = \"C:\\\\hadoop-3.3.5\"\n",
    "\n",
    "# Initialize SparkSession\n",
    "spark = SparkSession.builder.appName(\"ebay_analysis\").getOrCreate()\n",
    "\n",
    "# File location and type\n",
    "file_location = \"Data\\\\Final_Dataset.csv\"\n",
    "file_type = \"csv\"\n",
    "\n",
    "# CSV options\n",
    "infer_schema = \"false\"\n",
    "first_row_is_header = \"true\"\n",
    "delimiter = \",\"\n",
    "\n",
    "# Read data from CSV file into a DataFrame\n",
    "final_dataset = spark.read.format(file_type) \\\n",
    "    .option(\"inferSchema\", infer_schema) \\\n",
    "    .option(\"header\", first_row_is_header) \\\n",
    "    .option(\"sep\", delimiter) \\\n",
    "    .load(file_location)\n",
    "\n",
    "# Show the DataFrame\n",
    "final_dataset.show()"
   ],
   "metadata": {
    "collapsed": false,
    "ExecuteTime": {
     "end_time": "2023-12-10T04:07:14.686324700Z",
     "start_time": "2023-12-10T04:07:14.258236400Z"
    }
   },
   "id": "686b7ec1e61854ef"
  },
  {
   "cell_type": "code",
   "execution_count": 5,
   "outputs": [
    {
     "name": "stdout",
     "output_type": "stream",
     "text": [
      "root\n",
      " |-- PID: string (nullable = true)\n",
      " |-- Category: string (nullable = true)\n",
      " |-- Location: string (nullable = true)\n",
      " |-- Latitude: string (nullable = true)\n",
      " |-- Longitude: string (nullable = true)\n",
      " |-- Gender: string (nullable = true)\n",
      " |-- Title: string (nullable = true)\n",
      " |-- Price: string (nullable = true)\n",
      " |-- Total Sold Items: string (nullable = true)\n",
      " |-- Total Available Items: string (nullable = true)\n",
      " |-- Rating: string (nullable = true)\n",
      " |-- Seller Name: string (nullable = true)\n",
      " |-- Seller Feedback: string (nullable = true)\n",
      " |-- Product Condition: string (nullable = true)\n",
      " |-- URL: string (nullable = true)\n"
     ]
    }
   ],
   "source": [
    "final_dataset.printSchema()"
   ],
   "metadata": {
    "collapsed": false,
    "ExecuteTime": {
     "end_time": "2023-12-06T22:17:36.162278400Z",
     "start_time": "2023-12-06T22:17:36.135276800Z"
    }
   },
   "id": "cafa626e42a25060"
  },
  {
   "cell_type": "code",
   "execution_count": 3,
   "outputs": [],
   "source": [
    "final_dataset = final_dataset.dropna()"
   ],
   "metadata": {
    "collapsed": false,
    "ExecuteTime": {
     "end_time": "2023-12-06T07:13:20.345990900Z",
     "start_time": "2023-12-06T07:13:20.252239900Z"
    }
   },
   "id": "742f840e2890091d"
  },
  {
   "cell_type": "code",
   "execution_count": 6,
   "outputs": [],
   "source": [
    "from pyspark.sql.functions import col\n",
    "\n",
    "final_dataset = final_dataset.withColumn(\"Price\", col(\"Price\").cast(\"double\"))\n",
    "final_dataset = final_dataset.withColumn(\"Total Sold Items\", col(\"Total Sold Items\").cast(\"int\"))\n",
    "final_dataset = final_dataset.withColumn(\"Total Available Items\", col(\"Total Available Items\").cast(\"int\"))\n",
    "final_dataset = final_dataset.withColumn(\"Rating\", col(\"Rating\").cast(\"double\"))\n"
   ],
   "metadata": {
    "collapsed": false,
    "ExecuteTime": {
     "end_time": "2023-12-06T22:17:45.721280700Z",
     "start_time": "2023-12-06T22:17:45.609278900Z"
    }
   },
   "id": "e6d6b390af168c6"
  },
  {
   "cell_type": "code",
   "execution_count": 7,
   "outputs": [],
   "source": [
    "final_dataset = final_dataset.drop(\"URL\")\n"
   ],
   "metadata": {
    "collapsed": false,
    "ExecuteTime": {
     "end_time": "2023-12-06T22:17:46.364282700Z",
     "start_time": "2023-12-06T22:17:46.304277800Z"
    }
   },
   "id": "ca229f34e2f68b4d"
  },
  {
   "cell_type": "code",
   "execution_count": 8,
   "outputs": [
    {
     "name": "stdout",
     "output_type": "stream",
     "text": [
      "+-----------+--------------------+--------------------+------------------+------------------+-----------+--------------------+-----+----------------+---------------------+------+--------------------+--------------------+-----------------+\n",
      "|        PID|            Category|            Location|          Latitude|         Longitude|     Gender|               Title|Price|Total Sold Items|Total Available Items|Rating|         Seller Name|     Seller Feedback|Product Condition|\n",
      "+-----------+--------------------+--------------------+------------------+------------------+-----------+--------------------+-----+----------------+---------------------+------+--------------------+--------------------+-----------------+\n",
      "|42949700571|https://www.ebay....|      \"\"\"Minnesota\"\"|    United States\"|        43.6166163|-116.200886|              Unisex| 24.0|               9|                  755|  NULL|                 5.0|RBP Random Bike P...|            99.8%|\n",
      "|25769856955|              Sports|    ., United States|        39.7837304|       -100.445882|       Male|Basketball Backpa...|46.69|               1|                    5|   2.5|        fierex-deals|                100%|    New with tags|\n",
      "|25769804259|Home and Industri...|    ., United States|        39.7837304|       -100.445882|     Unisex|MOC Military VIIC...|265.0|               1|                   43|   4.5|      FAVORITE PERKS|                100%|              New|\n",
      "|42949694935|         Electronics|06001, United States|41.791279959227765| -72.8667468642877|     Unisex|\"8 Pack Green 12 ...|17.99|              24|                   10|   3.5|DIAMOND DGC COMIC...|               99.6%|              New|\n",
      "|51539636426| Musical Instruments|06001, United States|41.791279959227765| -72.8667468642877|     Unisex|Lot of 10 Cyalume...|19.99|              40|                   10|   3.5|DIAMOND DGC COMIC...|               99.6%|              New|\n",
      "|42949696949|         Electronics|06001, United States|41.791279959227765| -72.8667468642877|     Unisex|Lot of 6 White 8H...|12.99|               7|                    7|   4.5|DIAMOND DGC COMIC...|               99.6%|              New|\n",
      "|42949697284|         Electronics|06085, United States|  41.7470425091706|-72.88811322245449|     Unisex|Lot 10 Cyalume Wh...|19.99|               6|                    8|   3.5|leerdev1SurvivalGear|               97.9%|              New|\n",
      "|34359759249|              Sports|06085, United States|  41.7470425091706|-72.88811322245449|     Unisex|Lot 10 Cyalume Wh...|19.99|               6|                    8|   1.0|leerdev1SurvivalGear|               97.9%|              New|\n",
      "|      47375|      Women Clothing|11716, United States|  40.7701045849589| -73.1095047481893|     Female|Girl Mama - Mom M...|25.95|               1|                   10|   1.5|        Tcombo, Inc.|               97.5%| New without tags|\n",
      "|42949698817|         Electronics|150 35th Street, ...|        40.6553605|       -74.0048857|     Unisex|ROCKBROS Bike Fro...|18.18|               3|                    5|   1.5|       rockbrosusa22|               99.7%|              New|\n",
      "|42949713653|         Electronics|29556, United States| 33.67381586435453|-79.79747744007706|     Unisex|\"Egret Baits E-VS...| 9.06|               2|                    5|   3.0|          SBB Sports|               99.6%|              New|\n",
      "|34359774946|              Sports|29556, United States| 33.67381586435453|-79.79747744007706|     Unisex|Tsunami TSS-4-50 ...| 7.42|              18|                   10|   4.8|          SBB Sports|               99.6%|              New|\n",
      "|25769852286|              Sports|38118, United States| 35.06063461857123|-89.90967831952938|     Unisex|90859 Lee Precisi...|346.5|              46|                   14|   4.7|      commercedirect|               97.4%|              New|\n",
      "|42949725410| Musical Instruments|38118, United States| 35.06063461857123|-89.90967831952938|     Unisex|Deluxe Perfect Po...| 82.8|              19|                   16|   4.8|      commercedirect|               97.4%|              New|\n",
      "|42949681611|         Electronics|38118, United States| 35.06063461857123|-89.90967831952938|     Unisex|HME Products Mult...| 0.99|               1|                    4|   3.5|      commercedirect|               97.5%|               --|\n",
      "|42949727010| Musical Instruments|38118, United States| 35.06063461857123|-89.90967831952938|     Unisex|LEE PRECISION .45...|40.49|              29|                   44|   4.6|      commercedirect|               97.4%|              New|\n",
      "|34359789061|         Electronics|38118, United States| 35.06063461857123|-89.90967831952938|     Unisex|LEE PRECISION .50...|51.29|              33|                    2|   5.0|      commercedirect|               97.4%|              New|\n",
      "|34359787386|         Electronics|38118, United States| 35.06063461857123|-89.90967831952938|     Unisex|LEE PRECISION 12-...|26.99|              19|                   48|   2.0|      commercedirect|               97.4%|              New|\n",
      "|42949726112| Musical Instruments|38118, United States| 35.06063461857123|-89.90967831952938|     Unisex|LEE PRECISION 22/...|42.29|               1|                   48|   5.0|      commercedirect|               97.4%|              New|\n",
      "|42949725184| Musical Instruments|38118, United States| 35.06063461857123|-89.90967831952938|     Unisex|LEE PRECISION 222...|27.89|               8|                   20|   4.8|      commercedirect|               97.4%|              New|\n",
      "+-----------+--------------------+--------------------+------------------+------------------+-----------+--------------------+-----+----------------+---------------------+------+--------------------+--------------------+-----------------+\n"
     ]
    }
   ],
   "source": [
    "# Drop duplicate rows based on selected columns\n",
    "columns_for_deduplication = ['PID', 'Category', 'Location', 'Latitude', 'Longitude', 'Seller Name', 'Title']\n",
    "final_dataset = final_dataset.dropDuplicates(subset=columns_for_deduplication)\n",
    "final_dataset.show()"
   ],
   "metadata": {
    "collapsed": false,
    "ExecuteTime": {
     "end_time": "2023-12-06T22:17:55.937280700Z",
     "start_time": "2023-12-06T22:17:50.200278900Z"
    }
   },
   "id": "f861f4b93af105ec"
  },
  {
   "cell_type": "code",
   "execution_count": 9,
   "outputs": [],
   "source": [
    "from pyspark.sql.functions import regexp_replace\n",
    "\n",
    "final_dataset = final_dataset.withColumn(\"Title\", regexp_replace(col(\"Title\"), \"[^a-zA-Z0-9\\\\s]\", \"\"))\n"
   ],
   "metadata": {
    "collapsed": false,
    "ExecuteTime": {
     "end_time": "2023-12-06T22:18:09.032276100Z",
     "start_time": "2023-12-06T22:18:08.979279500Z"
    }
   },
   "id": "fe3c30f6a0094fd8"
  },
  {
   "cell_type": "code",
   "execution_count": 10,
   "outputs": [],
   "source": [
    "# Remove rows where Category contains URLs\n",
    "final_dataset = final_dataset.filter(~col('Category').contains('http'))\n"
   ],
   "metadata": {
    "collapsed": false,
    "ExecuteTime": {
     "end_time": "2023-12-06T22:18:12.056281500Z",
     "start_time": "2023-12-06T22:18:12.026280300Z"
    }
   },
   "id": "35fc0e30f50fbcc7"
  },
  {
   "cell_type": "code",
   "execution_count": 9,
   "outputs": [
    {
     "name": "stdout",
     "output_type": "stream",
     "text": [
      "+-----------+--------------------+--------------------+------------------+------------------+------+--------------------+-----+----------------+---------------------+------+--------------------+---------------+-----------------+\n",
      "|        PID|            Category|            Location|          Latitude|         Longitude|Gender|               Title|Price|Total Sold Items|Total Available Items|Rating|         Seller Name|Seller Feedback|Product Condition|\n",
      "+-----------+--------------------+--------------------+------------------+------------------+------+--------------------+-----+----------------+---------------------+------+--------------------+---------------+-----------------+\n",
      "|25769856955|              Sports|    ., United States|        39.7837304|       -100.445882|  Male|Basketball Backpa...|46.69|               1|                    5|   2.5|        fierex-deals|           100%|    New with tags|\n",
      "|25769804259|Home and Industri...|    ., United States|        39.7837304|       -100.445882|Unisex|MOC Military VIIC...|265.0|               1|                   43|   4.5|      FAVORITE PERKS|           100%|              New|\n",
      "|42949694935|         Electronics|06001, United States|41.791279959227765| -72.8667468642877|Unisex|8 Pack Green 12 H...|17.99|              24|                   10|   3.5|DIAMOND DGC COMIC...|          99.6%|              New|\n",
      "|51539636426| Musical Instruments|06001, United States|41.791279959227765| -72.8667468642877|Unisex|Lot of 10 Cyalume...|19.99|              40|                   10|   3.5|DIAMOND DGC COMIC...|          99.6%|              New|\n",
      "|42949696949|         Electronics|06001, United States|41.791279959227765| -72.8667468642877|Unisex|Lot of 6 White 8H...|12.99|               7|                    7|   4.5|DIAMOND DGC COMIC...|          99.6%|              New|\n",
      "|42949697284|         Electronics|06085, United States|  41.7470425091706|-72.88811322245449|Unisex|Lot 10 Cyalume Wh...|19.99|               6|                    8|   3.5|leerdev1SurvivalGear|          97.9%|              New|\n",
      "|34359759249|              Sports|06085, United States|  41.7470425091706|-72.88811322245449|Unisex|Lot 10 Cyalume Wh...|19.99|               6|                    8|   1.0|leerdev1SurvivalGear|          97.9%|              New|\n",
      "|      47375|      Women Clothing|11716, United States|  40.7701045849589| -73.1095047481893|Female|Girl Mama  Mom Mo...|25.95|               1|                   10|   1.5|        Tcombo, Inc.|          97.5%| New without tags|\n",
      "|42949698817|         Electronics|150 35th Street, ...|        40.6553605|       -74.0048857|Unisex|ROCKBROS Bike Fro...|18.18|               3|                    5|   1.5|       rockbrosusa22|          99.7%|              New|\n",
      "|42949713653|         Electronics|29556, United States| 33.67381586435453|-79.79747744007706|Unisex|Egret Baits EVS35...| 9.06|               2|                    5|   3.0|          SBB Sports|          99.6%|              New|\n",
      "|34359774946|              Sports|29556, United States| 33.67381586435453|-79.79747744007706|Unisex|Tsunami TSS450 St...| 7.42|              18|                   10|   4.8|          SBB Sports|          99.6%|              New|\n",
      "|25769852286|              Sports|38118, United States| 35.06063461857123|-89.90967831952938|Unisex|90859 Lee Precisi...|346.5|              46|                   14|   4.7|      commercedirect|          97.4%|              New|\n",
      "|42949725410| Musical Instruments|38118, United States| 35.06063461857123|-89.90967831952938|Unisex|Deluxe Perfect Po...| 82.8|              19|                   16|   4.8|      commercedirect|          97.4%|              New|\n",
      "|42949681611|         Electronics|38118, United States| 35.06063461857123|-89.90967831952938|Unisex|HME Products Mult...| 0.99|               1|                    4|   3.5|      commercedirect|          97.5%|               --|\n",
      "|42949727010| Musical Instruments|38118, United States| 35.06063461857123|-89.90967831952938|Unisex|LEE PRECISION 451...|40.49|              29|                   44|   4.6|      commercedirect|          97.4%|              New|\n",
      "|34359789061|         Electronics|38118, United States| 35.06063461857123|-89.90967831952938|Unisex|LEE PRECISION 500...|51.29|              33|                    2|   5.0|      commercedirect|          97.4%|              New|\n",
      "|34359787386|         Electronics|38118, United States| 35.06063461857123|-89.90967831952938|Unisex|LEE PRECISION 12G...|26.99|              19|                   48|   2.0|      commercedirect|          97.4%|              New|\n",
      "|42949726112| Musical Instruments|38118, United States| 35.06063461857123|-89.90967831952938|Unisex|LEE PRECISION 222...|42.29|               1|                   48|   5.0|      commercedirect|          97.4%|              New|\n",
      "|42949725184| Musical Instruments|38118, United States| 35.06063461857123|-89.90967831952938|Unisex|LEE PRECISION 222...|27.89|               8|                   20|   4.8|      commercedirect|          97.4%|              New|\n",
      "|42949725378| Musical Instruments|38118, United States| 35.06063461857123|-89.90967831952938|Unisex|LEE PRECISION 243...|42.29|              20|                    4|   5.0|      commercedirect|          97.4%|              New|\n",
      "+-----------+--------------------+--------------------+------------------+------------------+------+--------------------+-----+----------------+---------------------+------+--------------------+---------------+-----------------+\n"
     ]
    }
   ],
   "source": [
    "final_dataset.show()"
   ],
   "metadata": {
    "collapsed": false,
    "ExecuteTime": {
     "end_time": "2023-12-06T07:13:36.465224300Z",
     "start_time": "2023-12-06T07:13:33.531365700Z"
    }
   },
   "id": "e1e5a4ace9a5b01"
  },
  {
   "cell_type": "code",
   "execution_count": 11,
   "outputs": [
    {
     "name": "stdout",
     "output_type": "stream",
     "text": [
      "+-----------+--------------------+--------------------+------------------+------------------+------+--------------------+-----+----------------+---------------------+------+--------------------+---------------+-----------------+\n",
      "|        PID|            Category|            Location|          Latitude|         Longitude|Gender|               Title|Price|Total Sold Items|Total Available Items|Rating|         Seller Name|Seller Feedback|Product Condition|\n",
      "+-----------+--------------------+--------------------+------------------+------------------+------+--------------------+-----+----------------+---------------------+------+--------------------+---------------+-----------------+\n",
      "|25769856955|              Sports|    ., United States|        39.7837304|       -100.445882|  Male|Basketball Backpa...|46.69|               1|                    5|   2.5|        fierex-deals|           100%|    New with tags|\n",
      "|25769804259|Home and Industri...|    ., United States|        39.7837304|       -100.445882|Unisex|MOC Military VIIC...|265.0|               1|                   43|   4.5|      FAVORITE PERKS|           100%|              New|\n",
      "|42949694935|         Electronics|06001, United States|41.791279959227765| -72.8667468642877|Unisex|8 Pack Green 12 H...|17.99|              24|                   10|   3.5|DIAMOND DGC COMIC...|          99.6%|              New|\n",
      "|51539636426| Musical Instruments|06001, United States|41.791279959227765| -72.8667468642877|Unisex|Lot of 10 Cyalume...|19.99|              40|                   10|   3.5|DIAMOND DGC COMIC...|          99.6%|              New|\n",
      "|42949696949|         Electronics|06001, United States|41.791279959227765| -72.8667468642877|Unisex|Lot of 6 White 8H...|12.99|               7|                    7|   4.5|DIAMOND DGC COMIC...|          99.6%|              New|\n",
      "|42949697284|         Electronics|06085, United States|  41.7470425091706|-72.88811322245449|Unisex|Lot 10 Cyalume Wh...|19.99|               6|                    8|   3.5|leerdev1SurvivalGear|          97.9%|              New|\n",
      "|34359759249|              Sports|06085, United States|  41.7470425091706|-72.88811322245449|Unisex|Lot 10 Cyalume Wh...|19.99|               6|                    8|   1.0|leerdev1SurvivalGear|          97.9%|              New|\n",
      "|      47375|      Women Clothing|11716, United States|  40.7701045849589| -73.1095047481893|Female|Girl Mama  Mom Mo...|25.95|               1|                   10|   1.5|        Tcombo, Inc.|          97.5%| New without tags|\n",
      "|42949698817|         Electronics|150 35th Street, ...|        40.6553605|       -74.0048857|Unisex|ROCKBROS Bike Fro...|18.18|               3|                    5|   1.5|       rockbrosusa22|          99.7%|              New|\n",
      "|42949713653|         Electronics|29556, United States| 33.67381586435453|-79.79747744007706|Unisex|Egret Baits EVS35...| 9.06|               2|                    5|   3.0|          SBB Sports|          99.6%|              New|\n",
      "|34359774946|              Sports|29556, United States| 33.67381586435453|-79.79747744007706|Unisex|Tsunami TSS450 St...| 7.42|              18|                   10|   4.8|          SBB Sports|          99.6%|              New|\n",
      "|25769852286|              Sports|38118, United States| 35.06063461857123|-89.90967831952938|Unisex|90859 Lee Precisi...|346.5|              46|                   14|   4.7|      commercedirect|          97.4%|              New|\n",
      "|42949725410| Musical Instruments|38118, United States| 35.06063461857123|-89.90967831952938|Unisex|Deluxe Perfect Po...| 82.8|              19|                   16|   4.8|      commercedirect|          97.4%|              New|\n",
      "|42949681611|         Electronics|38118, United States| 35.06063461857123|-89.90967831952938|Unisex|HME Products Mult...| 0.99|               1|                    4|   3.5|      commercedirect|          97.5%|               --|\n",
      "|42949727010| Musical Instruments|38118, United States| 35.06063461857123|-89.90967831952938|Unisex|LEE PRECISION 451...|40.49|              29|                   44|   4.6|      commercedirect|          97.4%|              New|\n",
      "|34359789061|         Electronics|38118, United States| 35.06063461857123|-89.90967831952938|Unisex|LEE PRECISION 500...|51.29|              33|                    2|   5.0|      commercedirect|          97.4%|              New|\n",
      "|34359787386|         Electronics|38118, United States| 35.06063461857123|-89.90967831952938|Unisex|LEE PRECISION 12G...|26.99|              19|                   48|   2.0|      commercedirect|          97.4%|              New|\n",
      "|42949726112| Musical Instruments|38118, United States| 35.06063461857123|-89.90967831952938|Unisex|LEE PRECISION 222...|42.29|               1|                   48|   5.0|      commercedirect|          97.4%|              New|\n",
      "|42949725184| Musical Instruments|38118, United States| 35.06063461857123|-89.90967831952938|Unisex|LEE PRECISION 222...|27.89|               8|                   20|   4.8|      commercedirect|          97.4%|              New|\n",
      "|42949725378| Musical Instruments|38118, United States| 35.06063461857123|-89.90967831952938|Unisex|LEE PRECISION 243...|42.29|              20|                    4|   5.0|      commercedirect|          97.4%|              New|\n",
      "+-----------+--------------------+--------------------+------------------+------------------+------+--------------------+-----+----------------+---------------------+------+--------------------+---------------+-----------------+\n"
     ]
    }
   ],
   "source": [
    "# Convert Rating to DoubleType\n",
    "from pyspark.sql.types import DoubleType\n",
    "\n",
    "\n",
    "final_dataset = final_dataset.withColumn('Rating', col('Rating').cast(DoubleType()))\n",
    "\n",
    "final_dataset.show()"
   ],
   "metadata": {
    "collapsed": false,
    "ExecuteTime": {
     "end_time": "2023-12-06T22:18:27.097278400Z",
     "start_time": "2023-12-06T22:18:23.502277900Z"
    }
   },
   "id": "cdcd0e5114826c11"
  },
  {
   "cell_type": "code",
   "execution_count": null,
   "outputs": [],
   "source": [
    "\n"
   ],
   "metadata": {
    "collapsed": false
   },
   "id": "635c345cd3a66e29"
  },
  {
   "cell_type": "code",
   "execution_count": 12,
   "outputs": [
    {
     "name": "stdout",
     "output_type": "stream",
     "text": [
      "+-----------+--------------------+--------------------+----------+------------+------+--------------------+-------+----------------+---------------------+------+--------------------+---------------+-----------------+\n",
      "|        PID|            Category|            Location|  Latitude|   Longitude|Gender|               Title|  Price|Total Sold Items|Total Available Items|Rating|         Seller Name|Seller Feedback|Product Condition|\n",
      "+-----------+--------------------+--------------------+----------+------------+------+--------------------+-------+----------------+---------------------+------+--------------------+---------------+-----------------+\n",
      "|17179912701|Home and Industri...|Fort Payne, Alaba...|34.4442547| -85.7196893|Unisex| 12 Pair Toddler ...|   8.49|              12|                   10|   4.0|             pam6209|          99.5%|    New with tags|\n",
      "|25769815441|            Vehicles|New York, New Yor...|40.7127281| -74.0060152|Unisex|   1985 HARLEY FXRT |16500.0|              36|                   31|   0.5|             jpince2|  Not Available|             Used|\n",
      "| 8589978393|                Kids|Fort Payne, Alaba...|34.4442547| -85.7196893|Unisex| 6 Pair Boys or G...|    8.0|              18|                   10|   4.5|              art861|          99.5%|    New with tags|\n",
      "|17179905194|Home and Industri...|Fort Payne, Alaba...|34.4442547| -85.7196893|Unisex| 6 Pair Boys or G...|   7.99|              31|                   16|   2.5|              art861|          99.5%|    New with tags|\n",
      "|60129570882|         Electronics|Chicago, Illinois...|41.8755616| -87.6244212|Unisex| Apple iPhone 5C ...|   25.0|             193|                   27|   3.0|         smile365day|          96.8%|             Used|\n",
      "|60129594156|         Electronics|Pomona,California...|34.0553813|-117.7517496|Unisex| BI03XL ON03XL Ba...|  22.49|              29|                   34|   3.5|              MYiYAE|          99.2%|              New|\n",
      "|      14395|          Automotive|Cookeville, Tenne...|36.1623886| -85.4997057|Unisex| Electronic YL 99...|   50.0|               4|                   12|   4.8|        HeavyLifters|          98.6%|               --|\n",
      "|42949712741|         Electronics|Rossville, Georgi...| 34.983376|   -85.28603|Unisex| Franklin Sports ...|   15.0|               3|                    6|   2.5|           emmamommy|           100%|              New|\n",
      "|68719492634|       Miscellaneous|Redwood City, Cal...|37.4863239| -122.232523|Unisex| HOME is where lo...|  25.95|              37|                    3|   1.5|     i_mall HM Decal|          91.3%|              New|\n",
      "|34359740828|              Sports|Sacramento, Calif...|38.5810606| -121.493895|Unisex| Inflatable Swimm...|   7.64|              32|                   12|   1.0|Video Games and G...|            99%|              New|\n",
      "|17179883224|                Kids|Miami, Florida, U...|25.7741728|   -80.19362|Unisex| Kids Star Karaok...|  33.65|              33|                    2|   2.0|           arrabin-0|          98.7%|              New|\n",
      "|      55815|      Women Clothing|Zephyrhills, Flor...|28.2336196| -82.1811947|Female| LA BLUES WOMENS ...|  17.99|              36|                    3|   2.0|           gb-outlet|           100%|    New with tags|\n",
      "|51539663160|         Electronics|Olathe, Kansas, U...|38.8838856|   -94.81887|Unisex| LG 65 NanoCell 9...|1539.99|              43|                   33|   2.0|          redtagdeal|           100%|         Open box|\n",
      "|60129553582|         Electronics|Chicago, Illinois...|41.8755616| -87.6244212|Unisex| Lavadora Mini Po...|  84.85|               2|                    3|   1.0|         Sonama Shop|            92%|              New|\n",
      "|      54291|      Women Clothing|Chicago, Illinois...|41.8755616| -87.6244212|Female| MAGGIE T  Womens...|   45.0|              17|                   17|   2.0|           LFVCLOSET|           100%|        Pre-owned|\n",
      "|68719497918|       Miscellaneous|Ontario, Californ...| 34.065846|-117.6484304|Unisex| MSI H270A PRO MO...|  79.99|               1|                   23|   5.0|      goodios_direct|            99%|             Used|\n",
      "|51539657803|         Electronics|Davenport, Iowa, ...|41.5235808| -90.5770967|Unisex| Maytag Neptune D...|  97.49|              16|                   25|   2.5|       Amyâs Parts|          96.5%|             Used|\n",
      "|60129571806|         Electronics|   mi, United States|43.6211955| -84.6824346|Unisex| NEW  Samsung Gal...| 219.95|              19|                   34|   4.1|    Super Gear Store|           100%|              New|\n",
      "|34359755546|              Sports|Fort Lauderdale, ...|26.1223084| -80.1433786|  Male| NEW Premium Emer...|  39.95|              45|                    7|   3.5|     C&L Trading LLC|            98%|              New|\n",
      "|60129561484|         Electronics|Longwood, Florida...|28.7008496| -81.3465575|Unisex| NIB Sunbeam 07 c...|   55.0|              25|                    1|   4.5|           smoutlet1|          99.5%|             Used|\n",
      "+-----------+--------------------+--------------------+----------+------------+------+--------------------+-------+----------------+---------------------+------+--------------------+---------------+-----------------+\n"
     ]
    }
   ],
   "source": [
    "# Drop duplicate rows based on the 'Title' column\n",
    "final_dataset = final_dataset.dropDuplicates(subset=['Title'])\n",
    "\n",
    "final_dataset.show()"
   ],
   "metadata": {
    "collapsed": false,
    "ExecuteTime": {
     "end_time": "2023-12-06T22:18:57.009282400Z",
     "start_time": "2023-12-06T22:18:49.931280100Z"
    }
   },
   "id": "90fbbcb21e331599"
  },
  {
   "cell_type": "code",
   "execution_count": 13,
   "outputs": [
    {
     "name": "stdout",
     "output_type": "stream",
     "text": [
      "root\n",
      " |-- PID: string (nullable = true)\n",
      " |-- Category: string (nullable = true)\n",
      " |-- Location: string (nullable = true)\n",
      " |-- Latitude: string (nullable = true)\n",
      " |-- Longitude: string (nullable = true)\n",
      " |-- Gender: string (nullable = true)\n",
      " |-- Title: string (nullable = true)\n",
      " |-- Price: double (nullable = true)\n",
      " |-- Total Sold Items: integer (nullable = true)\n",
      " |-- Total Available Items: integer (nullable = true)\n",
      " |-- Rating: double (nullable = true)\n",
      " |-- Seller Name: string (nullable = true)\n",
      " |-- Seller Feedback: string (nullable = true)\n",
      " |-- Product Condition: string (nullable = true)\n"
     ]
    }
   ],
   "source": [
    "final_dataset.printSchema()\n"
   ],
   "metadata": {
    "collapsed": false,
    "ExecuteTime": {
     "end_time": "2023-12-06T22:19:22.642277200Z",
     "start_time": "2023-12-06T22:19:22.600278Z"
    }
   },
   "id": "d46b10d14a6bec"
  },
  {
   "cell_type": "code",
   "execution_count": 14,
   "outputs": [],
   "source": [
    "final_dataset.coalesce(1).write.csv(\"E:\\\\Ebay Data Analysis\\\\Ebay_Analysis\\\\Output\", header=True, mode=\"overwrite\")"
   ],
   "metadata": {
    "collapsed": false,
    "ExecuteTime": {
     "end_time": "2023-12-06T22:19:59.509206400Z",
     "start_time": "2023-12-06T22:19:51.436208900Z"
    }
   },
   "id": "7ed7a4f90e19c501"
  },
  {
   "cell_type": "code",
   "execution_count": 12,
   "outputs": [
    {
     "name": "stdout",
     "output_type": "stream",
     "text": [
      "+-----------+--------------------+--------------------+----------+------------+------+--------------------+-------+----------------+---------------------+------+--------------------+---------------+-----------------+\n",
      "|        PID|            Category|            Location|  Latitude|   Longitude|Gender|               Title|  Price|Total Sold Items|Total Available Items|Rating|         Seller Name|Seller Feedback|Product Condition|\n",
      "+-----------+--------------------+--------------------+----------+------------+------+--------------------+-------+----------------+---------------------+------+--------------------+---------------+-----------------+\n",
      "|17179912701|Home and Industri...|Fort Payne, Alaba...|34.4442547| -85.7196893|Unisex| 12 Pair Toddler ...|   8.49|              12|                   10|   4.0|             pam6209|          99.5%|    New with tags|\n",
      "|25769815441|            Vehicles|New York, New Yor...|40.7127281| -74.0060152|Unisex|   1985 HARLEY FXRT |16500.0|              36|                   31|   0.5|             jpince2|  Not Available|             Used|\n",
      "| 8589978393|                Kids|Fort Payne, Alaba...|34.4442547| -85.7196893|Unisex| 6 Pair Boys or G...|    8.0|              18|                   10|   4.5|              art861|          99.5%|    New with tags|\n",
      "|17179905194|Home and Industri...|Fort Payne, Alaba...|34.4442547| -85.7196893|Unisex| 6 Pair Boys or G...|   7.99|              31|                   16|   2.5|              art861|          99.5%|    New with tags|\n",
      "|60129570882|         Electronics|Chicago, Illinois...|41.8755616| -87.6244212|Unisex| Apple iPhone 5C ...|   25.0|             193|                   27|   3.0|         smile365day|          96.8%|             Used|\n",
      "|60129594156|         Electronics|Pomona,California...|34.0553813|-117.7517496|Unisex| BI03XL ON03XL Ba...|  22.49|              29|                   34|   3.5|              MYiYAE|          99.2%|              New|\n",
      "|      14395|          Automotive|Cookeville, Tenne...|36.1623886| -85.4997057|Unisex| Electronic YL 99...|   50.0|               4|                   12|   4.8|        HeavyLifters|          98.6%|               --|\n",
      "|42949712741|         Electronics|Rossville, Georgi...| 34.983376|   -85.28603|Unisex| Franklin Sports ...|   15.0|               3|                    6|   2.5|           emmamommy|           100%|              New|\n",
      "|68719492634|       Miscellaneous|Redwood City, Cal...|37.4863239| -122.232523|Unisex| HOME is where lo...|  25.95|              37|                    3|   1.5|     i_mall HM Decal|          91.3%|              New|\n",
      "|34359740828|              Sports|Sacramento, Calif...|38.5810606| -121.493895|Unisex| Inflatable Swimm...|   7.64|              32|                   12|   1.0|Video Games and G...|            99%|              New|\n",
      "|17179883224|                Kids|Miami, Florida, U...|25.7741728|   -80.19362|Unisex| Kids Star Karaok...|  33.65|              33|                    2|   2.0|           arrabin-0|          98.7%|              New|\n",
      "|      55815|      Women Clothing|Zephyrhills, Flor...|28.2336196| -82.1811947|Female| LA BLUES WOMENS ...|  17.99|              36|                    3|   2.0|           gb-outlet|           100%|    New with tags|\n",
      "|51539663160|         Electronics|Olathe, Kansas, U...|38.8838856|   -94.81887|Unisex| LG 65 NanoCell 9...|1539.99|              43|                   33|   2.0|          redtagdeal|           100%|         Open box|\n",
      "|60129553582|         Electronics|Chicago, Illinois...|41.8755616| -87.6244212|Unisex| Lavadora Mini Po...|  84.85|               2|                    3|   1.0|         Sonama Shop|            92%|              New|\n",
      "|      54291|      Women Clothing|Chicago, Illinois...|41.8755616| -87.6244212|Female| MAGGIE T  Womens...|   45.0|              17|                   17|   2.0|           LFVCLOSET|           100%|        Pre-owned|\n",
      "|68719497918|       Miscellaneous|Ontario, Californ...| 34.065846|-117.6484304|Unisex| MSI H270A PRO MO...|  79.99|               1|                   23|   5.0|      goodios_direct|            99%|             Used|\n",
      "|51539657803|         Electronics|Davenport, Iowa, ...|41.5235808| -90.5770967|Unisex| Maytag Neptune D...|  97.49|              16|                   25|   2.5|       Amyâs Parts|          96.5%|             Used|\n",
      "|60129571806|         Electronics|   mi, United States|43.6211955| -84.6824346|Unisex| NEW  Samsung Gal...| 219.95|              19|                   34|   4.1|    Super Gear Store|           100%|              New|\n",
      "|34359755546|              Sports|Fort Lauderdale, ...|26.1223084| -80.1433786|  Male| NEW Premium Emer...|  39.95|              45|                    7|   3.5|     C&L Trading LLC|            98%|              New|\n",
      "|60129561484|         Electronics|Longwood, Florida...|28.7008496| -81.3465575|Unisex| NIB Sunbeam 07 c...|   55.0|              25|                    1|   4.5|           smoutlet1|          99.5%|             Used|\n",
      "+-----------+--------------------+--------------------+----------+------------+------+--------------------+-------+----------------+---------------------+------+--------------------+---------------+-----------------+\n"
     ]
    }
   ],
   "source": [
    "temp_df = final_dataset\n",
    "temp_df.show()"
   ],
   "metadata": {
    "collapsed": false,
    "ExecuteTime": {
     "end_time": "2023-12-06T07:14:20.068440100Z",
     "start_time": "2023-12-06T07:14:14.985736900Z"
    }
   },
   "id": "815594c827d05da2"
  },
  {
   "cell_type": "code",
   "execution_count": 45,
   "outputs": [
    {
     "name": "stdout",
     "output_type": "stream",
     "text": [
      "+-----------------------------------------------------------+------------------+-------------------+-------------------------------+----------------+\n",
      "|Location                                                   |Latitude          |Longitude          |Category                       |Total Sold Items|\n",
      "+-----------------------------------------------------------+------------------+-------------------+-------------------------------+----------------+\n",
      "|, Oxfordshire, United Kingdom                              |51.833333         |-1.25              |Electronics                    |26              |\n",
      "|., United States                                           |39.7837304        |-100.445882        |Sports                         |1               |\n",
      "|., United States                                           |39.7837304        |-100.445882        |Home and Industrial Accessories|1               |\n",
      "|06001, United States                                       |41.791279959227765|-72.8667468642877  |Musical Instruments            |40              |\n",
      "|06001, United States                                       |41.791279959227765|-72.8667468642877  |Electronics                    |24              |\n",
      "|06001, United States                                       |41.791279959227765|-72.8667468642877  |Electronics                    |9               |\n",
      "|06085, United States                                       |41.7470425091706  |-72.88811322245449 |Electronics                    |11              |\n",
      "|06085, United States                                       |41.7470425091706  |-72.88811322245449 |Sports                         |6               |\n",
      "|06085, United States                                       |41.7470425091706  |-72.88811322245449 |Sports                         |2               |\n",
      "|07001, United States                                       |40.580759844736846|-74.27884827302631 |Automotive                     |37              |\n",
      "|10010, United States                                       |40.739833856230526|-73.98511106066978 |Automotive                     |43              |\n",
      "|11716, United States                                       |40.7701045849589  |-73.1095047481893  |Women Clothing                 |2               |\n",
      "|11716, United States                                       |40.7701045849589  |-73.1095047481893  |Women Clothing                 |1               |\n",
      "|12 Locations Nationwide, United States                     |33.0136764        |-74.0148205        |Electronics                    |1               |\n",
      "|14 inches - speedometer  14 inches - tires  , United States|41.0902848        |-116.200886        |Vehicles                       |17              |\n",
      "|1458 East Mission Boulevard, Pomona CA 91766, United States|34.05559777160715 |-117.72696525106008|Vehicles                       |5               |\n",
      "|150 35th Street, Brooklyn, NY 11232 , United States        |40.6553605        |-74.0048857        |Electronics                    |33              |\n",
      "|150 35th Street, Brooklyn, NY 11232 , United States        |40.6553605        |-74.0048857        |Musical Instruments            |28              |\n",
      "|150 35th Street, Brooklyn, NY 11232, United States         |40.6553605        |-74.0048857        |Sports                         |14              |\n",
      "|150 35th Street, Brooklyn, NY 11232, United States         |40.6553605        |-74.0048857        |Electronics                    |3               |\n",
      "+-----------------------------------------------------------+------------------+-------------------+-------------------------------+----------------+\n"
     ]
    }
   ],
   "source": [
    "# Top selling categories in each location \n",
    "\n",
    "from pyspark.sql.functions import desc, rank\n",
    "from pyspark.sql.window import Window\n",
    "\n",
    "# Add a rank to each category based on the total sold items\n",
    "windowSpec = Window.partitionBy(\"Location\").orderBy(desc(\"Total Sold Items\"))\n",
    "\n",
    "top_categories_in_each_location = (\n",
    "    temp_df\n",
    "    .withColumn(\"rank\", rank().over(windowSpec))\n",
    "    .filter(col(\"rank\") <= 3)  # Adjust the number as needed\n",
    "    .select(\"Location\",\"Latitude\", \"Longitude\", \"Category\", \"Total Sold Items\")\n",
    "    .orderBy(\"Location\", \"rank\")\n",
    ")\n",
    "\n",
    "top_categories_in_each_location.show(20, truncate=False)\n",
    "\n",
    "# top_categories_in_each_location.coalesce(1).write.csv(\"E:\\\\Ebay Data Analysis\\\\Ebay_Analysis\\\\Output\", header=True, mode=\"overwrite\")\n",
    "\n",
    "# top_categories_in_each_location.printSchema()\n"
   ],
   "metadata": {
    "collapsed": false,
    "ExecuteTime": {
     "end_time": "2023-12-06T08:51:56.567526300Z",
     "start_time": "2023-12-06T08:51:42.728652200Z"
    }
   },
   "id": "4d3040e6f6b4cab"
  },
  {
   "cell_type": "code",
   "execution_count": 50,
   "outputs": [
    {
     "name": "stdout",
     "output_type": "stream",
     "text": [
      "+-------------------------------------------+----------+------------+----------------+\n",
      "|Location                                   |Latitude  |Longitude   |Total Items Sold|\n",
      "+-------------------------------------------+----------+------------+----------------+\n",
      "|New York, New York, United States          |40.7127281|-74.0060152 |310671          |\n",
      "|Chicago, Illinois, United States           |41.8755616|-87.6244212 |293611          |\n",
      "|Dumont, New Jersey, United States          |40.9406541|-73.9968051 |268651          |\n",
      "|Longwood, Florida, United States           |28.7008496|-81.3465575 |268362          |\n",
      "|Boston, United States                      |42.3554334|-71.060511  |264147          |\n",
      "|Houston, TX, United States                 |29.7589382|-95.3676974 |263052          |\n",
      "|Redwood City, California, United States    |37.4863239|-122.232523 |260538          |\n",
      "|Ontario, California, United States         |34.065846 |-117.6484304|181444          |\n",
      "|Los Angeles, California, United States     |34.0536909|-118.242766 |151627          |\n",
      "|Brooklyn, New York, United States          |40.6526006|-73.9497211 |110437          |\n",
      "|Chino, California, United States           |34.0133561|-117.690075 |95387           |\n",
      "|Miami, Florida, United States              |25.7741728|-80.19362   |91495           |\n",
      "|Walnut, California, United States          |33.7085883|-117.7926096|61780           |\n",
      "|Denver, Colorado, United States            |39.7392364|-104.984862 |59583           |\n",
      "|Houston, Texas, United States              |29.7589382|-95.3676974 |54004           |\n",
      "|Hacienda Heights, California, United States|33.9930677|-117.968675 |40809           |\n",
      "|Rowland Heights, California, United States |33.9761238|-117.905339 |39956           |\n",
      "|Rancho Cucamonga, California, United States|34.1033192|-117.5751735|38601           |\n",
      "|Mount Horeb, Wisconsin, United States      |43.0086183|-89.7384557 |37513           |\n",
      "|Portland, Oregon, United States            |45.5202471|-122.674194 |35536           |\n",
      "+-------------------------------------------+----------+------------+----------------+\n"
     ]
    }
   ],
   "source": [
    "#Top selling locations \n",
    "\n",
    "from pyspark.sql.functions import sum\n",
    "\n",
    "top_selling_locations = (\n",
    "    temp_df\n",
    "    .groupBy(\"Location\", \"Latitude\", \"Longitude\")\n",
    "    .agg(sum(\"Total Sold Items\").alias(\"Total Items Sold\"))\n",
    "    .orderBy(desc(\"Total Items Sold\"))\n",
    ")\n",
    "\n",
    "top_selling_locations.show(truncate=False)\n",
    "top_selling_locations.coalesce(1).write.csv(\"E:\\\\Ebay Data Analysis\\\\Ebay_Analysis\\\\Output\", header=True, mode=\"overwrite\")\n",
    "\n"
   ],
   "metadata": {
    "collapsed": false,
    "ExecuteTime": {
     "end_time": "2023-12-06T08:55:08.165943100Z",
     "start_time": "2023-12-06T08:54:56.489175800Z"
    }
   },
   "id": "6fdb0c2212108d34"
  },
  {
   "cell_type": "code",
   "execution_count": 51,
   "outputs": [
    {
     "name": "stdout",
     "output_type": "stream",
     "text": [
      "root\n",
      " |-- Seller Name: string (nullable = true)\n",
      " |-- Latitude: string (nullable = true)\n",
      " |-- Longitude: string (nullable = true)\n",
      " |-- Unique Locations: long (nullable = false)\n"
     ]
    }
   ],
   "source": [
    "# Geographic distribution of sellers by latitude and longitude\n",
    "from pyspark.sql.functions import countDistinct\n",
    "\n",
    "seller_geographic_spread = (\n",
    "    temp_df\n",
    "    .groupBy(\"Seller Name\", \"Latitude\", \"Longitude\")\n",
    "    .agg(countDistinct(\"Location\").alias(\"Unique Locations\"))\n",
    "    .filter(col(\"Unique Locations\") > 1)  # Sellers with presence in multiple locations\n",
    "    .orderBy(desc(\"Unique Locations\"))\n",
    ")\n",
    "\n",
    "seller_geographic_spread.printSchema()\n",
    "# seller_geographic_spread.show(truncate=False)\n",
    "seller_geographic_spread.coalesce(1).write.csv(\"E:\\\\Ebay Data Analysis\\\\Ebay_Analysis\\\\Output\", header=True, mode=\"overwrite\")\n"
   ],
   "metadata": {
    "collapsed": false,
    "ExecuteTime": {
     "end_time": "2023-12-06T08:56:33.202753600Z",
     "start_time": "2023-12-06T08:56:28.383014200Z"
    }
   },
   "id": "e6e904ca7212098e"
  },
  {
   "cell_type": "code",
   "execution_count": 54,
   "outputs": [
    {
     "name": "stdout",
     "output_type": "stream",
     "text": [
      "root\n",
      " |-- Location: string (nullable = true)\n",
      " |-- Average Price: double (nullable = true)\n",
      " |-- Price Standard Deviation: double (nullable = true)\n"
     ]
    }
   ],
   "source": [
    "#Price Distribution by location \n",
    "from pyspark.sql.functions import avg, stddev\n",
    "price_distribution_by_location = (\n",
    "    temp_df\n",
    "    .groupBy(\"Location\")\n",
    "    .agg(avg(\"Price\").alias(\"Average Price\"), stddev(\"Price\").alias(\"Price Standard Deviation\"))\n",
    ")\n",
    "\n",
    "# price_distribution_by_location.show(truncate=False)\n",
    "price_distribution_by_location.printSchema()\n",
    "price_distribution_by_location.coalesce(1).write.csv(\"E:\\\\Ebay Data Analysis\\\\Ebay_Analysis\\\\Output\", header=True, mode=\"overwrite\")\n"
   ],
   "metadata": {
    "collapsed": false,
    "ExecuteTime": {
     "end_time": "2023-12-06T08:58:42.194326800Z",
     "start_time": "2023-12-06T08:58:36.949618200Z"
    }
   },
   "id": "dc54fdc0034ecd2"
  },
  {
   "cell_type": "code",
   "execution_count": 34,
   "outputs": [
    {
     "ename": "TypeError",
     "evalue": "'Column' object is not callable",
     "output_type": "error",
     "traceback": [
      "\u001B[1;31m---------------------------------------------------------------------------\u001B[0m",
      "\u001B[1;31mTypeError\u001B[0m                                 Traceback (most recent call last)",
      "Cell \u001B[1;32mIn[34], line 29\u001B[0m\n\u001B[0;32m     26\u001B[0m     \u001B[38;5;28;01mreturn\u001B[39;00m state_to_region\u001B[38;5;241m.\u001B[39mget(state_col, \u001B[38;5;124m'\u001B[39m\u001B[38;5;124mOther\u001B[39m\u001B[38;5;124m'\u001B[39m)\n\u001B[0;32m     28\u001B[0m \u001B[38;5;66;03m# Create a new column 'State' by extracting it from the 'Location' column\u001B[39;00m\n\u001B[1;32m---> 29\u001B[0m temp_df_state \u001B[38;5;241m=\u001B[39m final_dataset\u001B[38;5;241m.\u001B[39mwithColumn(\u001B[38;5;124m\"\u001B[39m\u001B[38;5;124mState\u001B[39m\u001B[38;5;124m\"\u001B[39m, \u001B[43mextract_state\u001B[49m\u001B[43m(\u001B[49m\u001B[43mcol\u001B[49m\u001B[43m(\u001B[49m\u001B[38;5;124;43m\"\u001B[39;49m\u001B[38;5;124;43mLocation\u001B[39;49m\u001B[38;5;124;43m\"\u001B[39;49m\u001B[43m)\u001B[49m\u001B[43m)\u001B[49m)\n\u001B[0;32m     31\u001B[0m \u001B[38;5;66;03m# Create a new column 'Region' based on the 'State' column\u001B[39;00m\n\u001B[0;32m     32\u001B[0m temp_df_coast \u001B[38;5;241m=\u001B[39m temp_df_state\u001B[38;5;241m.\u001B[39mwithColumn(\u001B[38;5;124m\"\u001B[39m\u001B[38;5;124mRegion\u001B[39m\u001B[38;5;124m\"\u001B[39m, determine_region(col(\u001B[38;5;124m\"\u001B[39m\u001B[38;5;124mState\u001B[39m\u001B[38;5;124m\"\u001B[39m)))\n",
      "Cell \u001B[1;32mIn[34], line 9\u001B[0m, in \u001B[0;36mextract_state\u001B[1;34m(location_col)\u001B[0m\n\u001B[0;32m      7\u001B[0m \u001B[38;5;28;01mdef\u001B[39;00m \u001B[38;5;21mextract_state\u001B[39m(location_col):\n\u001B[0;32m      8\u001B[0m     \u001B[38;5;66;03m# Split the 'Location' column by commas and get the second element (assuming state is the second element)\u001B[39;00m\n\u001B[1;32m----> 9\u001B[0m     \u001B[38;5;28;01mreturn\u001B[39;00m \u001B[43msplit\u001B[49m\u001B[43m(\u001B[49m\u001B[43mlocation_col\u001B[49m\u001B[43m,\u001B[49m\u001B[43m \u001B[49m\u001B[38;5;124;43m'\u001B[39;49m\u001B[38;5;124;43m,\u001B[39;49m\u001B[38;5;124;43m'\u001B[39;49m\u001B[43m)\u001B[49m\u001B[43m[\u001B[49m\u001B[38;5;241;43m1\u001B[39;49m\u001B[43m]\u001B[49m\u001B[38;5;241;43m.\u001B[39;49m\u001B[43mtrim\u001B[49m\u001B[43m(\u001B[49m\u001B[43m)\u001B[49m\n",
      "\u001B[1;31mTypeError\u001B[0m: 'Column' object is not callable"
     ]
    }
   ],
   "source": [
    "from pyspark.sql.functions import col, sum, desc, split\n",
    "\n",
    "# Assuming your dataframe is named 'final_dataset'\n",
    "# Assuming you have a 'Location' column with state names\n",
    "\n",
    "# Define a function to extract state from the 'Location' column\n",
    "def extract_state(location_col):\n",
    "    # Split the 'Location' column by commas and get the second element (assuming state is the second element)\n",
    "    return split(location_col, ',')[1].trim()\n",
    "\n",
    "# Create a dictionary to map states to regions\n",
    "state_to_region = {\n",
    "    'California': 'West Coast',\n",
    "    'Oregon': 'West Coast',\n",
    "    'Washington': 'West Coast',\n",
    "    'Nevada': 'West Coast',\n",
    "    'New York': 'East Coast',\n",
    "    'New Jersey': 'East Coast',\n",
    "    'Connecticut': 'East Coast',\n",
    "    'Florida' : 'East Coast',\n",
    "    'Georgia' : 'East Coast'\n",
    "}\n",
    "\n",
    "# Define a function to determine the region based on state\n",
    "def determine_region(state_col):\n",
    "    return state_to_region.get(state_col, 'Other')\n",
    "\n",
    "# Create a new column 'State' by extracting it from the 'Location' column\n",
    "temp_df_state = final_dataset.withColumn(\"State\", extract_state(col(\"Location\")))\n",
    "\n",
    "# Create a new column 'Region' based on the 'State' column\n",
    "temp_df_coast = temp_df_state.withColumn(\"Region\", determine_region(col(\"State\")))\n",
    "\n",
    "# Group by 'Region' and 'Category' and calculate the total sold items\n",
    "popular_categories_by_region = (\n",
    "    temp_df_coast\n",
    "    .groupBy(\"Region\", \"Category\")\n",
    "    .agg(sum(col(\"Total Sold Items\")).alias(\"Total Sold Items\"))\n",
    "    .orderBy(\"Region\", desc(\"Total Sold Items\"))\n",
    ")\n",
    "\n",
    "# Show the results\n",
    "popular_categories_by_region.show(truncate=False)"
   ],
   "metadata": {
    "collapsed": false,
    "ExecuteTime": {
     "end_time": "2023-12-06T07:45:02.194748Z",
     "start_time": "2023-12-06T07:45:02.075216100Z"
    }
   },
   "id": "386deb2261e81c56"
  },
  {
   "cell_type": "code",
   "execution_count": 40,
   "outputs": [
    {
     "name": "stdout",
     "output_type": "stream",
     "text": [
      "+-------------------------------+------+-----+\n",
      "|Category                       |Gender|Count|\n",
      "+-------------------------------+------+-----+\n",
      "|17                             |Unisex|1    |\n",
      "|4.8                            |Unisex|1    |\n",
      "|Antiques                       |Female|489  |\n",
      "|Antiques                       |Male  |2519 |\n",
      "|Antiques                       |Unisex|1947 |\n",
      "|Automotive                     |Male  |438  |\n",
      "|Automotive                     |Unisex|18354|\n",
      "|Car Accessories                |Female|5    |\n",
      "|Car Accessories                |Male  |121  |\n",
      "|Car Accessories                |Unisex|6732 |\n",
      "|Electronics                    |Female|676  |\n",
      "|Electronics                    |Male  |5893 |\n",
      "|Electronics                    |Unisex|55940|\n",
      "|For parts or not working       |Male  |1    |\n",
      "|For parts or not working       |Unisex|2    |\n",
      "|Home and Industrial Accessories|Female|131  |\n",
      "|Home and Industrial Accessories|Male  |348  |\n",
      "|Home and Industrial Accessories|Unisex|15606|\n",
      "|Kids                           |Female|91   |\n",
      "|Kids                           |Male  |286  |\n",
      "+-------------------------------+------+-----+\n"
     ]
    }
   ],
   "source": [
    "from pyspark.sql.functions import col, count, desc\n",
    "\n",
    "# Assuming your dataframe is named 'final_dataset'\n",
    "\n",
    "# Group by 'Category' and 'Gender', then calculate the count of each category for each gender\n",
    "category_analysis_by_gender = (\n",
    "    temp_df\n",
    "    .groupBy(\"Category\", \"Gender\")\n",
    "    .agg(count(\"*\").alias(\"Count\"))\n",
    "    .orderBy(\"Category\", \"Gender\")\n",
    ")\n",
    "\n",
    "# Show the results\n",
    "category_analysis_by_gender.show(truncate=False)\n"
   ],
   "metadata": {
    "collapsed": false,
    "ExecuteTime": {
     "end_time": "2023-12-06T08:21:55.469302900Z",
     "start_time": "2023-12-06T08:21:40.124518400Z"
    }
   },
   "id": "478fbc89d4d15c1e"
  },
  {
   "cell_type": "code",
   "execution_count": 3,
   "outputs": [
    {
     "name": "stdout",
     "output_type": "stream",
     "text": [
      "+---+---------------+--------------------+----------+------------+------+--------------------+-----+----------------+---------------------+------+--------------------+---------------+--------------------+--------------------+\n",
      "|PID|       Category|            Location|  Latitude|   Longitude|Gender|               Title|Price|Total Sold Items|Total Available Items|Rating|         Seller Name|Seller Feedback|   Product Condition|                 URL|\n",
      "+---+---------------+--------------------+----------+------------+------+--------------------+-----+----------------+---------------------+------+--------------------+---------------+--------------------+--------------------+\n",
      "|  0|Car Accessories|Boston, United St...|42.3554334|  -71.060511|Unisex|Car Steering Whee...|15.46|               2|                    3|   3.0|             luobo-e|           100%|                 New|https://www.ebay....|\n",
      "|  1|Car Accessories|Chicago, Illinois...|41.8755616| -87.6244212|Unisex|1pc Carbon Fiber ...| 6.54|               4|                   10|   0.5|             luobo-e|           100%|                 New|https://www.ebay....|\n",
      "|  2|Car Accessories|Redwood City, Cal...|37.4863239| -122.232523|Unisex|For Toyota Camry ...| 8.69|             255|                   34|   2.5|         easyfind123|          96.5%|                 New|https://www.ebay....|\n",
      "|  3|Car Accessories|Rowland Heights, ...|33.9761238| -117.905339|Unisex|4PCS Car Mud Flap...|12.89|              11|                   10|   3.5|          wallet1444|          95.5%|                 New|https://www.ebay....|\n",
      "|  4|Car Accessories|Longwood, Florida...|28.7008496| -81.3465575|Unisex|2X Cup Pad Car Ac...| 9.99|               2|                   10|   4.2|          casedazzle|            99%|                 New|https://www.ebay....|\n",
      "|  5|Car Accessories|Dumont, New Jerse...|40.9406541| -73.9968051|Unisex|Multicolor Car In...| 4.05|             857|                   10|   3.0|          ciphercir3|            97%|                 New|https://www.ebay....|\n",
      "|  6|Car Accessories|Houston, TX, Unit...|29.7589382| -95.3676974|Unisex|2m Blue LED Car I...| 8.99|               4|                   10|   1.0|AUXITO official s...|          99.6%|                 New|https://www.ebay....|\n",
      "|  7|Car Accessories|Longwood, Florida...|28.7008496| -81.3465575|Unisex|1x Mini LED USB C...| 2.89|             379|                   10|   1.5|            faiths75|          97.2%|New other (see de...|https://www.ebay....|\n",
      "|  8|Car Accessories|New York, New Yor...|40.7127281| -74.0060152|Unisex|New 2Pcs Car Truc...| 4.49|              23|                   10|   4.0|           ideal8253|          99.3%|                 New|https://www.ebay....|\n",
      "|  9|Car Accessories|Nanuet, New York,...|41.0902848| -74.0148205|Unisex|Car Auto Accessor...| 4.99|             562|                   10|   1.0|     valuebuybattery|          98.3%|                 New|https://www.ebay....|\n",
      "| 10|Car Accessories|Fountain Valley, ...|33.7038145|-117.9627349|Unisex|Car Accessories A...|13.79|              73|                   10|   3.0|  Doremojp8890 Store|          98.6%|                 New|https://www.ebay....|\n",
      "| 11|Car Accessories|Alameda, Californ...|37.6090291| -121.899142|Unisex|Left Side Car Acc...|17.26|             103|                   10|   2.5|     EverydayGadgetz|          99.5%|                 New|https://www.ebay....|\n",
      "| 12|Car Accessories|Longwood, Florida...|28.7008496| -81.3465575|Unisex|USB Car Accessori...| 4.69|              45|                   10|   5.0|            Sheve101|          98.5%|                 New|https://www.ebay....|\n",
      "| 13|Car Accessories|Hebron, Kentucky,...| 39.065813| -84.7027575|Unisex|Car Accessories A...| 4.99|             186|                    8|   1.0|      quadpartstore4|          99.5%|                 New|https://www.ebay....|\n",
      "| 14|Car Accessories|New York, New Yor...|40.7127281| -74.0060152|Unisex|28Pcs Car Interio...| 9.99|             187|                   10|   4.5| autocarlighting9012|          98.7%|                 New|https://www.ebay....|\n",
      "| 15|Car Accessories|Fountain Valley, ...|33.7038145|-117.9627349|Unisex|Car Sun Shade Sid...|13.79|             449|                    6|   2.0|          entaifirst|          98.6%|                 New|https://www.ebay....|\n",
      "| 16|Car Accessories|Houston, TX, Unit...|29.7589382| -95.3676974|Unisex|Universal White F...|11.96|             440|                   10|   4.5|            adjac-37|          96.4%|                 New|https://www.ebay....|\n",
      "| 17|Car Accessories|New York, New Yor...|40.7127281| -74.0060152|Unisex|USB Car Accessori...|  5.9|               1|                   10|   3.7|         iokhouse-19|            99%|                 New|https://www.ebay....|\n",
      "| 18|Car Accessories|Houston, TX, Unit...|29.7589382| -95.3676974|Unisex|Universal Blue Lu...| 3.87|             183|                   10|   4.5|         dolphin4107|          98.3%|                 New|https://www.ebay....|\n",
      "| 19|Car Accessories|Longwood, Florida...|28.7008496| -81.3465575|Unisex|SUV Car Accessori...| 9.95|               1|                   10|   2.5|   fantastic_fairing|          98.6%|                 New|https://www.ebay....|\n",
      "+---+---------------+--------------------+----------+------------+------+--------------------+-----+----------------+---------------------+------+--------------------+---------------+--------------------+--------------------+\n"
     ]
    }
   ],
   "source": [
    "file_location1 = \"Data\\\\Cleanest_Dataset_Deduplication.csv\"\n",
    "file_type = \"csv\"\n",
    "\n",
    "# CSV options\n",
    "infer_schema = \"false\"\n",
    "first_row_is_header = \"true\"\n",
    "delimiter = \",\"\n",
    "\n",
    "# Read data from CSV file into a DataFrame\n",
    "clean_df = spark.read.format(file_type) \\\n",
    "    .option(\"inferSchema\", infer_schema) \\\n",
    "    .option(\"header\", first_row_is_header) \\\n",
    "    .option(\"sep\", delimiter) \\\n",
    "    .load(file_location)\n",
    "\n",
    "# Show the DataFrame\n",
    "clean_df.show()"
   ],
   "metadata": {
    "collapsed": false,
    "ExecuteTime": {
     "end_time": "2023-12-06T22:16:40.351256300Z",
     "start_time": "2023-12-06T22:16:40.038254200Z"
    }
   },
   "id": "246b8ba03e5bfacf"
  },
  {
   "cell_type": "code",
   "execution_count": 4,
   "outputs": [
    {
     "name": "stdout",
     "output_type": "stream",
     "text": [
      "root\n",
      " |-- PID: string (nullable = true)\n",
      " |-- Category: string (nullable = true)\n",
      " |-- Location: string (nullable = true)\n",
      " |-- Latitude: string (nullable = true)\n",
      " |-- Longitude: string (nullable = true)\n",
      " |-- Gender: string (nullable = true)\n",
      " |-- Title: string (nullable = true)\n",
      " |-- Price: string (nullable = true)\n",
      " |-- Total Sold Items: string (nullable = true)\n",
      " |-- Total Available Items: string (nullable = true)\n",
      " |-- Rating: string (nullable = true)\n",
      " |-- Seller Name: string (nullable = true)\n",
      " |-- Seller Feedback: string (nullable = true)\n",
      " |-- Product Condition: string (nullable = true)\n",
      " |-- URL: string (nullable = true)\n"
     ]
    }
   ],
   "source": [
    "clean_df.printSchema()"
   ],
   "metadata": {
    "collapsed": false,
    "ExecuteTime": {
     "end_time": "2023-12-06T22:16:40.576256100Z",
     "start_time": "2023-12-06T22:16:40.532255Z"
    }
   },
   "id": "a39b41e282733592"
  },
  {
   "cell_type": "code",
   "execution_count": null,
   "outputs": [],
   "source": [
    "category_location_df = category_location_df.withColumn(\"Total Sold Items\", col(\"Total Sold Items\").cast(\"int\"))\n"
   ],
   "metadata": {
    "collapsed": false
   },
   "id": "f7a7d9712aaca99e"
  }
 ],
 "metadata": {
  "kernelspec": {
   "display_name": "Python 3",
   "language": "python",
   "name": "python3"
  },
  "language_info": {
   "codemirror_mode": {
    "name": "ipython",
    "version": 2
   },
   "file_extension": ".py",
   "mimetype": "text/x-python",
   "name": "python",
   "nbconvert_exporter": "python",
   "pygments_lexer": "ipython2",
   "version": "2.7.6"
  }
 },
 "nbformat": 4,
 "nbformat_minor": 5
}
