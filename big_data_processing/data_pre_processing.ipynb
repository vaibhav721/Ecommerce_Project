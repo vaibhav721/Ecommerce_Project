{
 "cells": [
  {
   "cell_type": "code",
   "execution_count": 1,
   "id": "initial_id",
   "metadata": {
    "collapsed": true,
    "ExecuteTime": {
     "end_time": "2023-12-12T06:23:16.967053Z",
     "start_time": "2023-12-12T06:23:14.955048900Z"
    }
   },
   "outputs": [
    {
     "name": "stdout",
     "output_type": "stream",
     "text": [
      "Requirement already satisfied: pyspark in e:\\ebay data analysis\\ebay_analysis\\venv\\lib\\site-packages (3.5.0)\n",
      "Requirement already satisfied: py4j==0.10.9.7 in e:\\ebay data analysis\\ebay_analysis\\venv\\lib\\site-packages (from pyspark) (0.10.9.7)\n",
      "Note: you may need to restart the kernel to use updated packages.\n"
     ]
    },
    {
     "name": "stderr",
     "output_type": "stream",
     "text": [
      "\n",
      "[notice] A new release of pip available: 22.3.1 -> 23.3.1\n",
      "[notice] To update, run: python.exe -m pip install --upgrade pip\n"
     ]
    }
   ],
   "source": [
    "pip install pyspark "
   ]
  },
  {
   "cell_type": "code",
   "execution_count": 2,
   "outputs": [
    {
     "name": "stdout",
     "output_type": "stream",
     "text": [
      "Note: you may need to restart the kernel to use updated packages.Requirement already satisfied: numpy in e:\\ebay data analysis\\ebay_analysis\\venv\\lib\\site-packages (1.26.2)\n"
     ]
    },
    {
     "name": "stderr",
     "output_type": "stream",
     "text": [
      "\n",
      "[notice] A new release of pip available: 22.3.1 -> 23.3.1\n",
      "[notice] To update, run: python.exe -m pip install --upgrade pip\n"
     ]
    }
   ],
   "source": [
    "pip install numpy"
   ],
   "metadata": {
    "collapsed": false,
    "ExecuteTime": {
     "end_time": "2023-12-12T06:23:18.857049500Z",
     "start_time": "2023-12-12T06:23:16.968052700Z"
    }
   },
   "id": "35f153dc6dc156b6"
  },
  {
   "cell_type": "code",
   "execution_count": 3,
   "outputs": [
    {
     "name": "stdout",
     "output_type": "stream",
     "text": [
      "+--------------------+----------+------------+------+--------------------+------------+----------------+---------------------+-------------+--------------------+---------------+--------------------+--------------------+---------------+\n",
      "|            Location|  Latitude|   Longitude|Gender|               Title|       Price|Total Sold Items|Total Available Items|       Rating|         Seller Name|Seller Feedback|   Product Condition|                 URL|       Category|\n",
      "+--------------------+----------+------------+------+--------------------+------------+----------------+---------------------+-------------+--------------------+---------------+--------------------+--------------------+---------------+\n",
      "|Boston, United St...|42.3554334|  -71.060511|Unisex|Car Steering Whee...|   US $15.46|          2 sold|          3 available|Not Available|             luobo-e|           100%|                 New|https://www.ebay....|Car Accessories|\n",
      "|Chicago, Illinois...|41.8755616| -87.6244212|Unisex|1pc Carbon Fiber ...|    US $6.54|          4 sold| More than 10 avai...|Not Available|             luobo-e|           100%|                 New|https://www.ebay....|Car Accessories|\n",
      "|Redwood City, Cal...|37.4863239| -122.232523|Unisex|For Toyota Camry ...|    US $8.69|        255 sold|             Last One|Not Available|         easyfind123|          96.5%|                 New|https://www.ebay....|Car Accessories|\n",
      "|Rowland Heights, ...|33.9761238| -117.905339|Unisex|4PCS Car Mud Flap...|   US $12.89|         11 sold| More than 10 avai...|Not Available|          wallet1444|          95.5%|                 New|https://www.ebay....|Car Accessories|\n",
      "|Longwood, Florida...|28.7008496| -81.3465575|Unisex|2X Cup Pad Car Ac...|    US $9.99|      2,518 sold| More than 10 avai...|          4.2|          casedazzle|            99%|                 New|https://www.ebay....|Car Accessories|\n",
      "|Dumont, New Jerse...|40.9406541| -73.9968051|Unisex|Multicolor Car In...| US $4.05/ea|        857 sold| More than 10 avai...|Not Available|          ciphercir3|            97%|                 New|https://www.ebay....|Car Accessories|\n",
      "|Houston, TX, Unit...|29.7589382| -95.3676974|Unisex|2m Blue LED Car I...| US $8.99/ea|      4,101 sold| More than 10 avai...|Not Available|AUXITO official s...|          99.6%|                 New|https://www.ebay....|Car Accessories|\n",
      "|Longwood, Florida...|28.7008496| -81.3465575|Unisex|1x Mini LED USB C...|     C $2.89|        379 sold| More than 10 avai...|Not Available|            faiths75|          97.2%|New other (see de...|https://www.ebay....|Car Accessories|\n",
      "|New York, New Yor...|40.7127281| -74.0060152|Unisex|New 2Pcs Car Truc...|    US $4.49|         23 sold| More than 10 avai...|Not Available|           ideal8253|          99.3%|                 New|https://www.ebay....|Car Accessories|\n",
      "|Nanuet, New York,...|41.0902848| -74.0148205|Unisex|Car Auto Accessor...|    US $4.99|        562 sold| More than 10 avai...|Not Available|     valuebuybattery|          98.3%|                 New|https://www.ebay....|Car Accessories|\n",
      "|Fountain Valley, ...|33.7038145|-117.9627349|Unisex|Car Accessories A...|   US $13.79|         73 sold| More than 10 avai...|Not Available|  Doremojp8890 Store|          98.6%|                 New|https://www.ebay....|Car Accessories|\n",
      "|Alameda, Californ...|37.6090291| -121.899142|Unisex|Left Side Car Acc...|   US $17.26|        103 sold| More than 10 avai...|Not Available|     EverydayGadgetz|          99.5%|                 New|https://www.ebay....|Car Accessories|\n",
      "|Longwood, Florida...|28.7008496| -81.3465575|Unisex|USB Car Accessori...|    US $4.69|         45 sold| More than 10 avai...|Not Available|            Sheve101|          98.5%|                 New|https://www.ebay....|Car Accessories|\n",
      "|Hebron, Kentucky,...| 39.065813| -84.7027575|Unisex|Car Accessories A...|    US $4.99|        186 sold|          8 available|Not Available|      quadpartstore4|          99.5%|                 New|https://www.ebay....|Car Accessories|\n",
      "|New York, New Yor...|40.7127281| -74.0060152|Unisex|28Pcs Car Interio...| US $9.99/ea|        187 sold| More than 10 avai...|Not Available| autocarlighting9012|          98.7%|                 New|https://www.ebay....|Car Accessories|\n",
      "|Fountain Valley, ...|33.7038145|-117.9627349|Unisex|Car Sun Shade Sid...|US $13.79/ea|        449 sold|          6 available|Not Available|          entaifirst|          98.6%|                 New|https://www.ebay....|Car Accessories|\n",
      "|Houston, TX, Unit...|29.7589382| -95.3676974|Unisex|Universal White F...|US $11.96/ea|        440 sold|         10 available|Not Available|            adjac-37|          96.4%|                 New|https://www.ebay....|Car Accessories|\n",
      "|New York, New Yor...|40.7127281| -74.0060152|Unisex|USB Car Accessori...| US $5.90/ea|      1,143 sold| More than 10 avai...|          3.7|         iokhouse-19|            99%|                 New|https://www.ebay....|Car Accessories|\n",
      "|Houston, TX, Unit...|29.7589382| -95.3676974|Unisex|Universal Blue Lu...|     C $3.87|        183 sold| More than 10 avai...|Not Available|         dolphin4107|          98.3%|                 New|https://www.ebay....|Car Accessories|\n",
      "|Longwood, Florida...|28.7008496| -81.3465575|Unisex|SUV Car Accessori...| US $9.95/ea|      1,196 sold| More than 10 avai...|Not Available|   fantastic_fairing|          98.6%|                 New|https://www.ebay....|Car Accessories|\n",
      "+--------------------+----------+------------+------+--------------------+------------+----------------+---------------------+-------------+--------------------+---------------+--------------------+--------------------+---------------+\n"
     ]
    }
   ],
   "source": [
    "import os\n",
    "from pyspark.sql import SparkSession\n",
    "\n",
    "# Create a Spark session\n",
    "os.environ[\"HADOOP_HOME\"] = \"C:\\\\hadoop-3.3.5\"\n",
    "\n",
    "# Set hadoop.home.dir system property\n",
    "os.environ[\"hadoop.home.dir\"] = \"C:\\\\hadoop-3.3.5\"\n",
    "\n",
    "# Initialize SparkSession\n",
    "spark = SparkSession.builder.appName(\"ebay_analysis\").getOrCreate()\n",
    "\n",
    "# File location and type\n",
    "file_location = \"Data\\\\Data with coordinates\\\\Raw_Dataset.csv\"\n",
    "file_type = \"csv\"\n",
    "\n",
    "# CSV options\n",
    "infer_schema = \"false\"\n",
    "first_row_is_header = \"true\"\n",
    "delimiter = \",\"\n",
    "\n",
    "# Read data from CSV file into a DataFrame\n",
    "raw_dataset = spark.read.format(file_type) \\\n",
    "    .option(\"inferSchema\", infer_schema) \\\n",
    "    .option(\"header\", first_row_is_header) \\\n",
    "    .option(\"sep\", delimiter) \\\n",
    "    .load(file_location)\n",
    "\n",
    "# Show the DataFrame\n",
    "raw_dataset.show()"
   ],
   "metadata": {
    "collapsed": false,
    "ExecuteTime": {
     "end_time": "2023-12-12T06:23:31.107048600Z",
     "start_time": "2023-12-12T06:23:18.861050500Z"
    }
   },
   "id": "8774989ae18abe4"
  },
  {
   "cell_type": "code",
   "execution_count": 4,
   "outputs": [
    {
     "name": "stdout",
     "output_type": "stream",
     "text": [
      "+--------------------+----------+------------+------+--------------------+------------+----------------+---------------------+-------------+--------------------+---------------+--------------------+--------------------+---------------+\n",
      "|            Location|  Latitude|   Longitude|Gender|               Title|       Price|Total Sold Items|Total Available Items|       Rating|         Seller Name|Seller Feedback|   Product Condition|                 URL|       Category|\n",
      "+--------------------+----------+------------+------+--------------------+------------+----------------+---------------------+-------------+--------------------+---------------+--------------------+--------------------+---------------+\n",
      "|Boston, United St...|42.3554334|  -71.060511|Unisex|Car Steering Whee...|   US $15.46|          2 sold|          3 available|Not Available|             luobo-e|           100%|                 New|https://www.ebay....|Car Accessories|\n",
      "|Chicago, Illinois...|41.8755616| -87.6244212|Unisex|1pc Carbon Fiber ...|    US $6.54|          4 sold| More than 10 avai...|Not Available|             luobo-e|           100%|                 New|https://www.ebay....|Car Accessories|\n",
      "|Redwood City, Cal...|37.4863239| -122.232523|Unisex|For Toyota Camry ...|    US $8.69|        255 sold|             Last One|Not Available|         easyfind123|          96.5%|                 New|https://www.ebay....|Car Accessories|\n",
      "|Rowland Heights, ...|33.9761238| -117.905339|Unisex|4PCS Car Mud Flap...|   US $12.89|         11 sold| More than 10 avai...|Not Available|          wallet1444|          95.5%|                 New|https://www.ebay....|Car Accessories|\n",
      "|Longwood, Florida...|28.7008496| -81.3465575|Unisex|2X Cup Pad Car Ac...|    US $9.99|      2,518 sold| More than 10 avai...|          4.2|          casedazzle|            99%|                 New|https://www.ebay....|Car Accessories|\n",
      "|Dumont, New Jerse...|40.9406541| -73.9968051|Unisex|Multicolor Car In...| US $4.05/ea|        857 sold| More than 10 avai...|Not Available|          ciphercir3|            97%|                 New|https://www.ebay....|Car Accessories|\n",
      "|Houston, TX, Unit...|29.7589382| -95.3676974|Unisex|2m Blue LED Car I...| US $8.99/ea|      4,101 sold| More than 10 avai...|Not Available|AUXITO official s...|          99.6%|                 New|https://www.ebay....|Car Accessories|\n",
      "|Longwood, Florida...|28.7008496| -81.3465575|Unisex|1x Mini LED USB C...|     C $2.89|        379 sold| More than 10 avai...|Not Available|            faiths75|          97.2%|New other (see de...|https://www.ebay....|Car Accessories|\n",
      "|New York, New Yor...|40.7127281| -74.0060152|Unisex|New 2Pcs Car Truc...|    US $4.49|         23 sold| More than 10 avai...|Not Available|           ideal8253|          99.3%|                 New|https://www.ebay....|Car Accessories|\n",
      "|Nanuet, New York,...|41.0902848| -74.0148205|Unisex|Car Auto Accessor...|    US $4.99|        562 sold| More than 10 avai...|Not Available|     valuebuybattery|          98.3%|                 New|https://www.ebay....|Car Accessories|\n",
      "|Fountain Valley, ...|33.7038145|-117.9627349|Unisex|Car Accessories A...|   US $13.79|         73 sold| More than 10 avai...|Not Available|  Doremojp8890 Store|          98.6%|                 New|https://www.ebay....|Car Accessories|\n",
      "|Alameda, Californ...|37.6090291| -121.899142|Unisex|Left Side Car Acc...|   US $17.26|        103 sold| More than 10 avai...|Not Available|     EverydayGadgetz|          99.5%|                 New|https://www.ebay....|Car Accessories|\n",
      "|Longwood, Florida...|28.7008496| -81.3465575|Unisex|USB Car Accessori...|    US $4.69|         45 sold| More than 10 avai...|Not Available|            Sheve101|          98.5%|                 New|https://www.ebay....|Car Accessories|\n",
      "|Hebron, Kentucky,...| 39.065813| -84.7027575|Unisex|Car Accessories A...|    US $4.99|        186 sold|          8 available|Not Available|      quadpartstore4|          99.5%|                 New|https://www.ebay....|Car Accessories|\n",
      "|New York, New Yor...|40.7127281| -74.0060152|Unisex|28Pcs Car Interio...| US $9.99/ea|        187 sold| More than 10 avai...|Not Available| autocarlighting9012|          98.7%|                 New|https://www.ebay....|Car Accessories|\n",
      "|Fountain Valley, ...|33.7038145|-117.9627349|Unisex|Car Sun Shade Sid...|US $13.79/ea|        449 sold|          6 available|Not Available|          entaifirst|          98.6%|                 New|https://www.ebay....|Car Accessories|\n",
      "|Houston, TX, Unit...|29.7589382| -95.3676974|Unisex|Universal White F...|US $11.96/ea|        440 sold|         10 available|Not Available|            adjac-37|          96.4%|                 New|https://www.ebay....|Car Accessories|\n",
      "|New York, New Yor...|40.7127281| -74.0060152|Unisex|USB Car Accessori...| US $5.90/ea|      1,143 sold| More than 10 avai...|          3.7|         iokhouse-19|            99%|                 New|https://www.ebay....|Car Accessories|\n",
      "|Houston, TX, Unit...|29.7589382| -95.3676974|Unisex|Universal Blue Lu...|     C $3.87|        183 sold| More than 10 avai...|Not Available|         dolphin4107|          98.3%|                 New|https://www.ebay....|Car Accessories|\n",
      "|Longwood, Florida...|28.7008496| -81.3465575|Unisex|SUV Car Accessori...| US $9.95/ea|      1,196 sold| More than 10 avai...|Not Available|   fantastic_fairing|          98.6%|                 New|https://www.ebay....|Car Accessories|\n",
      "+--------------------+----------+------------+------+--------------------+------------+----------------+---------------------+-------------+--------------------+---------------+--------------------+--------------------+---------------+\n"
     ]
    }
   ],
   "source": [
    "raw_dataset.show()"
   ],
   "metadata": {
    "collapsed": false,
    "ExecuteTime": {
     "end_time": "2023-12-12T06:24:05.654576400Z",
     "start_time": "2023-12-12T06:24:05.492575700Z"
    }
   },
   "id": "2cf50e75c94e4681"
  },
  {
   "cell_type": "code",
   "execution_count": 5,
   "outputs": [
    {
     "name": "stdout",
     "output_type": "stream",
     "text": [
      "+--------------------+----------+------------+------+--------------------+-----+----------------+---------------------+------+--------------------+---------------+--------------------+--------------------+---------------+\n",
      "|            Location|  Latitude|   Longitude|Gender|               Title|Price|Total Sold Items|Total Available Items|Rating|         Seller Name|Seller Feedback|   Product Condition|                 URL|       Category|\n",
      "+--------------------+----------+------------+------+--------------------+-----+----------------+---------------------+------+--------------------+---------------+--------------------+--------------------+---------------+\n",
      "|Boston, United St...|42.3554334|  -71.060511|Unisex|Car Steering Whee...|15.46|               2|                    3|   2.0|             luobo-e|           100%|                 New|https://www.ebay....|Car Accessories|\n",
      "|Chicago, Illinois...|41.8755616| -87.6244212|Unisex|1pc Carbon Fiber ...| 6.54|               4|                   10|   1.0|             luobo-e|           100%|                 New|https://www.ebay....|Car Accessories|\n",
      "|Redwood City, Cal...|37.4863239| -122.232523|Unisex|For Toyota Camry ...| 8.69|             255|                 NULL|   3.0|         easyfind123|          96.5%|                 New|https://www.ebay....|Car Accessories|\n",
      "|Rowland Heights, ...|33.9761238| -117.905339|Unisex|4PCS Car Mud Flap...|12.89|              11|                   10|   1.5|          wallet1444|          95.5%|                 New|https://www.ebay....|Car Accessories|\n",
      "|Longwood, Florida...|28.7008496| -81.3465575|Unisex|2X Cup Pad Car Ac...| 9.99|               2|                   10|   4.2|          casedazzle|            99%|                 New|https://www.ebay....|Car Accessories|\n",
      "|Dumont, New Jerse...|40.9406541| -73.9968051|Unisex|Multicolor Car In...| 4.05|             857|                   10|   4.0|          ciphercir3|            97%|                 New|https://www.ebay....|Car Accessories|\n",
      "|Houston, TX, Unit...|29.7589382| -95.3676974|Unisex|2m Blue LED Car I...| 8.99|               4|                   10|   3.5|AUXITO official s...|          99.6%|                 New|https://www.ebay....|Car Accessories|\n",
      "|Longwood, Florida...|28.7008496| -81.3465575|Unisex|1x Mini LED USB C...| 2.89|             379|                   10|   4.0|            faiths75|          97.2%|New other (see de...|https://www.ebay....|Car Accessories|\n",
      "|New York, New Yor...|40.7127281| -74.0060152|Unisex|New 2Pcs Car Truc...| 4.49|              23|                   10|   1.0|           ideal8253|          99.3%|                 New|https://www.ebay....|Car Accessories|\n",
      "|Nanuet, New York,...|41.0902848| -74.0148205|Unisex|Car Auto Accessor...| 4.99|             562|                   10|   3.0|     valuebuybattery|          98.3%|                 New|https://www.ebay....|Car Accessories|\n",
      "|Fountain Valley, ...|33.7038145|-117.9627349|Unisex|Car Accessories A...|13.79|              73|                   10|   2.0|  Doremojp8890 Store|          98.6%|                 New|https://www.ebay....|Car Accessories|\n",
      "|Alameda, Californ...|37.6090291| -121.899142|Unisex|Left Side Car Acc...|17.26|             103|                   10|   1.5|     EverydayGadgetz|          99.5%|                 New|https://www.ebay....|Car Accessories|\n",
      "|Longwood, Florida...|28.7008496| -81.3465575|Unisex|USB Car Accessori...| 4.69|              45|                   10|   3.5|            Sheve101|          98.5%|                 New|https://www.ebay....|Car Accessories|\n",
      "|Hebron, Kentucky,...| 39.065813| -84.7027575|Unisex|Car Accessories A...| 4.99|             186|                    8|   3.5|      quadpartstore4|          99.5%|                 New|https://www.ebay....|Car Accessories|\n",
      "|New York, New Yor...|40.7127281| -74.0060152|Unisex|28Pcs Car Interio...| 9.99|             187|                   10|   4.0| autocarlighting9012|          98.7%|                 New|https://www.ebay....|Car Accessories|\n",
      "|Fountain Valley, ...|33.7038145|-117.9627349|Unisex|Car Sun Shade Sid...|13.79|             449|                    6|   1.0|          entaifirst|          98.6%|                 New|https://www.ebay....|Car Accessories|\n",
      "|Houston, TX, Unit...|29.7589382| -95.3676974|Unisex|Universal White F...|11.96|             440|                   10|   4.5|            adjac-37|          96.4%|                 New|https://www.ebay....|Car Accessories|\n",
      "|New York, New Yor...|40.7127281| -74.0060152|Unisex|USB Car Accessori...|  5.9|               1|                   10|   3.7|         iokhouse-19|            99%|                 New|https://www.ebay....|Car Accessories|\n",
      "|Houston, TX, Unit...|29.7589382| -95.3676974|Unisex|Universal Blue Lu...| 3.87|             183|                   10|   3.0|         dolphin4107|          98.3%|                 New|https://www.ebay....|Car Accessories|\n",
      "|Longwood, Florida...|28.7008496| -81.3465575|Unisex|SUV Car Accessori...| 9.95|               1|                   10|   4.0|   fantastic_fairing|          98.6%|                 New|https://www.ebay....|Car Accessories|\n",
      "+--------------------+----------+------------+------+--------------------+-----+----------------+---------------------+------+--------------------+---------------+--------------------+--------------------+---------------+\n"
     ]
    }
   ],
   "source": [
    "from pyspark.sql.functions import regexp_replace, col, regexp_extract, when, rand, round\n",
    "\n",
    "raw_dataset_df = raw_dataset.withColumn(\"Price\", regexp_replace(col(\"Price\"), \"[^0-9.]\", \"\"))\n",
    "\n",
    "# Convert the \"Price\" column to a numeric format\n",
    "raw_dataset_df = raw_dataset_df.withColumn(\"Price\", col(\"Price\").cast(\"float\"))\n",
    "\n",
    "raw_dataset_df = raw_dataset_df.withColumn(\"Total Sold Items\",\n",
    "                                           regexp_extract(col(\"Total Sold Items\"), r'(\\d+)', 1).cast(\"integer\"))\n",
    "\n",
    "raw_dataset_df = raw_dataset_df.withColumn(\"Rating\",\n",
    "                                           when(col(\"Rating\") == \"Not Available\",\n",
    "                                                (round(rand() * 9 + 1) / 2).cast(\"float\"))\n",
    "                                           .otherwise(col(\"Rating\").cast(\"float\")))\n",
    "\n",
    "raw_dataset_df = raw_dataset_df.withColumn(\"Total Available Items\",\n",
    "                                           regexp_extract(col(\"Total Available Items\"), r'(\\d+)', 1).cast(\"integer\"))\n",
    "\n",
    "\n",
    "\n",
    "\n",
    "raw_dataset_df.show()"
   ],
   "metadata": {
    "collapsed": false,
    "ExecuteTime": {
     "end_time": "2023-12-12T06:24:06.797578600Z",
     "start_time": "2023-12-12T06:24:06.007579600Z"
    }
   },
   "id": "9264e967c2e9dcc3"
  },
  {
   "cell_type": "code",
   "execution_count": 6,
   "outputs": [
    {
     "name": "stdout",
     "output_type": "stream",
     "text": [
      "+--------------------+----------+------------+------+--------------------+-----+----------------+---------------------+------+--------------------+---------------+--------------------+--------------------+---------------+\n",
      "|            Location|  Latitude|   Longitude|Gender|               Title|Price|Total Sold Items|Total Available Items|Rating|         Seller Name|Seller Feedback|   Product Condition|                 URL|       Category|\n",
      "+--------------------+----------+------------+------+--------------------+-----+----------------+---------------------+------+--------------------+---------------+--------------------+--------------------+---------------+\n",
      "|Boston, United St...|42.3554334|  -71.060511|Unisex|Car Steering Whee...|15.46|               2|                    3|   2.0|             luobo-e|           100%|                 New|https://www.ebay....|Car Accessories|\n",
      "|Chicago, Illinois...|41.8755616| -87.6244212|Unisex|1pc Carbon Fiber ...| 6.54|               4|                   10|   1.0|             luobo-e|           100%|                 New|https://www.ebay....|Car Accessories|\n",
      "|Rowland Heights, ...|33.9761238| -117.905339|Unisex|4PCS Car Mud Flap...|12.89|              11|                   10|   1.5|          wallet1444|          95.5%|                 New|https://www.ebay....|Car Accessories|\n",
      "|Longwood, Florida...|28.7008496| -81.3465575|Unisex|2X Cup Pad Car Ac...| 9.99|               2|                   10|   4.2|          casedazzle|            99%|                 New|https://www.ebay....|Car Accessories|\n",
      "|Dumont, New Jerse...|40.9406541| -73.9968051|Unisex|Multicolor Car In...| 4.05|             857|                   10|   4.0|          ciphercir3|            97%|                 New|https://www.ebay....|Car Accessories|\n",
      "|Houston, TX, Unit...|29.7589382| -95.3676974|Unisex|2m Blue LED Car I...| 8.99|               4|                   10|   3.5|AUXITO official s...|          99.6%|                 New|https://www.ebay....|Car Accessories|\n",
      "|Longwood, Florida...|28.7008496| -81.3465575|Unisex|1x Mini LED USB C...| 2.89|             379|                   10|   4.0|            faiths75|          97.2%|New other (see de...|https://www.ebay....|Car Accessories|\n",
      "|New York, New Yor...|40.7127281| -74.0060152|Unisex|New 2Pcs Car Truc...| 4.49|              23|                   10|   1.0|           ideal8253|          99.3%|                 New|https://www.ebay....|Car Accessories|\n",
      "|Nanuet, New York,...|41.0902848| -74.0148205|Unisex|Car Auto Accessor...| 4.99|             562|                   10|   3.0|     valuebuybattery|          98.3%|                 New|https://www.ebay....|Car Accessories|\n",
      "|Fountain Valley, ...|33.7038145|-117.9627349|Unisex|Car Accessories A...|13.79|              73|                   10|   2.0|  Doremojp8890 Store|          98.6%|                 New|https://www.ebay....|Car Accessories|\n",
      "|Alameda, Californ...|37.6090291| -121.899142|Unisex|Left Side Car Acc...|17.26|             103|                   10|   1.5|     EverydayGadgetz|          99.5%|                 New|https://www.ebay....|Car Accessories|\n",
      "|Longwood, Florida...|28.7008496| -81.3465575|Unisex|USB Car Accessori...| 4.69|              45|                   10|   3.5|            Sheve101|          98.5%|                 New|https://www.ebay....|Car Accessories|\n",
      "|Hebron, Kentucky,...| 39.065813| -84.7027575|Unisex|Car Accessories A...| 4.99|             186|                    8|   3.5|      quadpartstore4|          99.5%|                 New|https://www.ebay....|Car Accessories|\n",
      "|New York, New Yor...|40.7127281| -74.0060152|Unisex|28Pcs Car Interio...| 9.99|             187|                   10|   4.0| autocarlighting9012|          98.7%|                 New|https://www.ebay....|Car Accessories|\n",
      "|Fountain Valley, ...|33.7038145|-117.9627349|Unisex|Car Sun Shade Sid...|13.79|             449|                    6|   1.0|          entaifirst|          98.6%|                 New|https://www.ebay....|Car Accessories|\n",
      "|Houston, TX, Unit...|29.7589382| -95.3676974|Unisex|Universal White F...|11.96|             440|                   10|   4.5|            adjac-37|          96.4%|                 New|https://www.ebay....|Car Accessories|\n",
      "|New York, New Yor...|40.7127281| -74.0060152|Unisex|USB Car Accessori...|  5.9|               1|                   10|   3.7|         iokhouse-19|            99%|                 New|https://www.ebay....|Car Accessories|\n",
      "|Houston, TX, Unit...|29.7589382| -95.3676974|Unisex|Universal Blue Lu...| 3.87|             183|                   10|   3.0|         dolphin4107|          98.3%|                 New|https://www.ebay....|Car Accessories|\n",
      "|Longwood, Florida...|28.7008496| -81.3465575|Unisex|SUV Car Accessori...| 9.95|               1|                   10|   4.0|   fantastic_fairing|          98.6%|                 New|https://www.ebay....|Car Accessories|\n",
      "|Boston, United St...|42.3554334|  -71.060511|Unisex|5M Car Door Trunk...| 7.99|               2|                   10|   2.5|          Ecclegends|          99.3%|                 New|https://www.ebay....|Car Accessories|\n",
      "+--------------------+----------+------------+------+--------------------+-----+----------------+---------------------+------+--------------------+---------------+--------------------+--------------------+---------------+\n"
     ]
    }
   ],
   "source": [
    "raw_dataset_df = raw_dataset_df.na.drop()\n",
    "raw_dataset_df.show()\n"
   ],
   "metadata": {
    "collapsed": false,
    "ExecuteTime": {
     "end_time": "2023-12-12T06:24:07.440574500Z",
     "start_time": "2023-12-12T06:24:07.133575300Z"
    }
   },
   "id": "9048d3d895131041"
  },
  {
   "cell_type": "code",
   "execution_count": 7,
   "outputs": [
    {
     "name": "stdout",
     "output_type": "stream",
     "text": [
      "+--------------------+----------+------------+------+--------------------+-----+----------------+---------------------+-----------------+--------------------+---------------+--------------------+--------------------+---------------+\n",
      "|            Location|  Latitude|   Longitude|Gender|               Title|Price|Total Sold Items|Total Available Items|           Rating|         Seller Name|Seller Feedback|   Product Condition|                 URL|       Category|\n",
      "+--------------------+----------+------------+------+--------------------+-----+----------------+---------------------+-----------------+--------------------+---------------+--------------------+--------------------+---------------+\n",
      "|Boston, United St...|42.3554334|  -71.060511|Unisex|Car Steering Whee...|15.46|               2|                    3|              2.0|             luobo-e|           100%|                 New|https://www.ebay....|Car Accessories|\n",
      "|Chicago, Illinois...|41.8755616| -87.6244212|Unisex|1pc Carbon Fiber ...| 6.54|               4|                   10|              1.0|             luobo-e|           100%|                 New|https://www.ebay....|Car Accessories|\n",
      "|Rowland Heights, ...|33.9761238| -117.905339|Unisex|4PCS Car Mud Flap...|12.89|              11|                   10|              1.5|          wallet1444|          95.5%|                 New|https://www.ebay....|Car Accessories|\n",
      "|Longwood, Florida...|28.7008496| -81.3465575|Unisex|2X Cup Pad Car Ac...| 9.99|               2|                   10|4.199999809265137|          casedazzle|            99%|                 New|https://www.ebay....|Car Accessories|\n",
      "|Dumont, New Jerse...|40.9406541| -73.9968051|Unisex|Multicolor Car In...| 4.05|             857|                   10|              4.0|          ciphercir3|            97%|                 New|https://www.ebay....|Car Accessories|\n",
      "|Houston, TX, Unit...|29.7589382| -95.3676974|Unisex|2m Blue LED Car I...| 8.99|               4|                   10|              3.5|AUXITO official s...|          99.6%|                 New|https://www.ebay....|Car Accessories|\n",
      "|Longwood, Florida...|28.7008496| -81.3465575|Unisex|1x Mini LED USB C...| 2.89|             379|                   10|              4.0|            faiths75|          97.2%|New other (see de...|https://www.ebay....|Car Accessories|\n",
      "|New York, New Yor...|40.7127281| -74.0060152|Unisex|New 2Pcs Car Truc...| 4.49|              23|                   10|              1.0|           ideal8253|          99.3%|                 New|https://www.ebay....|Car Accessories|\n",
      "|Nanuet, New York,...|41.0902848| -74.0148205|Unisex|Car Auto Accessor...| 4.99|             562|                   10|              3.0|     valuebuybattery|          98.3%|                 New|https://www.ebay....|Car Accessories|\n",
      "|Fountain Valley, ...|33.7038145|-117.9627349|Unisex|Car Accessories A...|13.79|              73|                   10|              2.0|  Doremojp8890 Store|          98.6%|                 New|https://www.ebay....|Car Accessories|\n",
      "|Alameda, Californ...|37.6090291| -121.899142|Unisex|Left Side Car Acc...|17.26|             103|                   10|              1.5|     EverydayGadgetz|          99.5%|                 New|https://www.ebay....|Car Accessories|\n",
      "|Longwood, Florida...|28.7008496| -81.3465575|Unisex|USB Car Accessori...| 4.69|              45|                   10|              3.5|            Sheve101|          98.5%|                 New|https://www.ebay....|Car Accessories|\n",
      "|Hebron, Kentucky,...| 39.065813| -84.7027575|Unisex|Car Accessories A...| 4.99|             186|                    8|              3.5|      quadpartstore4|          99.5%|                 New|https://www.ebay....|Car Accessories|\n",
      "|New York, New Yor...|40.7127281| -74.0060152|Unisex|28Pcs Car Interio...| 9.99|             187|                   10|              4.0| autocarlighting9012|          98.7%|                 New|https://www.ebay....|Car Accessories|\n",
      "|Fountain Valley, ...|33.7038145|-117.9627349|Unisex|Car Sun Shade Sid...|13.79|             449|                    6|              1.0|          entaifirst|          98.6%|                 New|https://www.ebay....|Car Accessories|\n",
      "|Houston, TX, Unit...|29.7589382| -95.3676974|Unisex|Universal White F...|11.96|             440|                   10|              4.5|            adjac-37|          96.4%|                 New|https://www.ebay....|Car Accessories|\n",
      "|New York, New Yor...|40.7127281| -74.0060152|Unisex|USB Car Accessori...|  5.9|               1|                   10|3.700000047683716|         iokhouse-19|            99%|                 New|https://www.ebay....|Car Accessories|\n",
      "|Houston, TX, Unit...|29.7589382| -95.3676974|Unisex|Universal Blue Lu...| 3.87|             183|                   10|              3.0|         dolphin4107|          98.3%|                 New|https://www.ebay....|Car Accessories|\n",
      "|Longwood, Florida...|28.7008496| -81.3465575|Unisex|SUV Car Accessori...| 9.95|               1|                   10|              4.0|   fantastic_fairing|          98.6%|                 New|https://www.ebay....|Car Accessories|\n",
      "|Boston, United St...|42.3554334|  -71.060511|Unisex|5M Car Door Trunk...| 7.99|               2|                   10|              2.5|          Ecclegends|          99.3%|                 New|https://www.ebay....|Car Accessories|\n",
      "+--------------------+----------+------------+------+--------------------+-----+----------------+---------------------+-----------------+--------------------+---------------+--------------------+--------------------+---------------+\n"
     ]
    }
   ],
   "source": [
    "from pyspark.sql.functions import col\n",
    "\n",
    "raw_dataset_df = raw_dataset_df.withColumn(\"Price\", col(\"Price\").cast(\"float\"))\n",
    "raw_dataset_df = raw_dataset_df.withColumn(\"Total Sold Items\", col(\"Total Sold Items\").cast(\"int\"))\n",
    "raw_dataset_df = raw_dataset_df.withColumn(\"Total Available Items\", col(\"Total Available Items\").cast(\"int\"))\n",
    "raw_dataset_df = raw_dataset_df.withColumn(\"Rating\", col(\"Rating\").cast(\"double\"))\n",
    "\n",
    "raw_dataset_df.show()"
   ],
   "metadata": {
    "collapsed": false,
    "ExecuteTime": {
     "end_time": "2023-12-12T06:24:08.380578Z",
     "start_time": "2023-12-12T06:24:08.087582800Z"
    }
   },
   "id": "6e3da87cc3951264"
  },
  {
   "cell_type": "code",
   "execution_count": 8,
   "outputs": [
    {
     "name": "stdout",
     "output_type": "stream",
     "text": [
      "+---+---------------+--------------------+----------+------------+------+--------------------+-----+----------------+---------------------+-----------------+--------------------+---------------+--------------------+--------------------+\n",
      "|PID|       Category|            Location|  Latitude|   Longitude|Gender|               Title|Price|Total Sold Items|Total Available Items|           Rating|         Seller Name|Seller Feedback|   Product Condition|                 URL|\n",
      "+---+---------------+--------------------+----------+------------+------+--------------------+-----+----------------+---------------------+-----------------+--------------------+---------------+--------------------+--------------------+\n",
      "|  0|Car Accessories|Boston, United St...|42.3554334|  -71.060511|Unisex|Car Steering Whee...|15.46|               2|                    3|              2.0|             luobo-e|           100%|                 New|https://www.ebay....|\n",
      "|  1|Car Accessories|Chicago, Illinois...|41.8755616| -87.6244212|Unisex|1pc Carbon Fiber ...| 6.54|               4|                   10|              1.0|             luobo-e|           100%|                 New|https://www.ebay....|\n",
      "|  2|Car Accessories|Rowland Heights, ...|33.9761238| -117.905339|Unisex|4PCS Car Mud Flap...|12.89|              11|                   10|              1.5|          wallet1444|          95.5%|                 New|https://www.ebay....|\n",
      "|  3|Car Accessories|Longwood, Florida...|28.7008496| -81.3465575|Unisex|2X Cup Pad Car Ac...| 9.99|               2|                   10|4.199999809265137|          casedazzle|            99%|                 New|https://www.ebay....|\n",
      "|  4|Car Accessories|Dumont, New Jerse...|40.9406541| -73.9968051|Unisex|Multicolor Car In...| 4.05|             857|                   10|              4.0|          ciphercir3|            97%|                 New|https://www.ebay....|\n",
      "|  5|Car Accessories|Houston, TX, Unit...|29.7589382| -95.3676974|Unisex|2m Blue LED Car I...| 8.99|               4|                   10|              3.5|AUXITO official s...|          99.6%|                 New|https://www.ebay....|\n",
      "|  6|Car Accessories|Longwood, Florida...|28.7008496| -81.3465575|Unisex|1x Mini LED USB C...| 2.89|             379|                   10|              4.0|            faiths75|          97.2%|New other (see de...|https://www.ebay....|\n",
      "|  7|Car Accessories|New York, New Yor...|40.7127281| -74.0060152|Unisex|New 2Pcs Car Truc...| 4.49|              23|                   10|              1.0|           ideal8253|          99.3%|                 New|https://www.ebay....|\n",
      "|  8|Car Accessories|Nanuet, New York,...|41.0902848| -74.0148205|Unisex|Car Auto Accessor...| 4.99|             562|                   10|              3.0|     valuebuybattery|          98.3%|                 New|https://www.ebay....|\n",
      "|  9|Car Accessories|Fountain Valley, ...|33.7038145|-117.9627349|Unisex|Car Accessories A...|13.79|              73|                   10|              2.0|  Doremojp8890 Store|          98.6%|                 New|https://www.ebay....|\n",
      "| 10|Car Accessories|Alameda, Californ...|37.6090291| -121.899142|Unisex|Left Side Car Acc...|17.26|             103|                   10|              1.5|     EverydayGadgetz|          99.5%|                 New|https://www.ebay....|\n",
      "| 11|Car Accessories|Longwood, Florida...|28.7008496| -81.3465575|Unisex|USB Car Accessori...| 4.69|              45|                   10|              3.5|            Sheve101|          98.5%|                 New|https://www.ebay....|\n",
      "| 12|Car Accessories|Hebron, Kentucky,...| 39.065813| -84.7027575|Unisex|Car Accessories A...| 4.99|             186|                    8|              3.5|      quadpartstore4|          99.5%|                 New|https://www.ebay....|\n",
      "| 13|Car Accessories|New York, New Yor...|40.7127281| -74.0060152|Unisex|28Pcs Car Interio...| 9.99|             187|                   10|              4.0| autocarlighting9012|          98.7%|                 New|https://www.ebay....|\n",
      "| 14|Car Accessories|Fountain Valley, ...|33.7038145|-117.9627349|Unisex|Car Sun Shade Sid...|13.79|             449|                    6|              1.0|          entaifirst|          98.6%|                 New|https://www.ebay....|\n",
      "| 15|Car Accessories|Houston, TX, Unit...|29.7589382| -95.3676974|Unisex|Universal White F...|11.96|             440|                   10|              4.5|            adjac-37|          96.4%|                 New|https://www.ebay....|\n",
      "| 16|Car Accessories|New York, New Yor...|40.7127281| -74.0060152|Unisex|USB Car Accessori...|  5.9|               1|                   10|3.700000047683716|         iokhouse-19|            99%|                 New|https://www.ebay....|\n",
      "| 17|Car Accessories|Houston, TX, Unit...|29.7589382| -95.3676974|Unisex|Universal Blue Lu...| 3.87|             183|                   10|              3.0|         dolphin4107|          98.3%|                 New|https://www.ebay....|\n",
      "| 18|Car Accessories|Longwood, Florida...|28.7008496| -81.3465575|Unisex|SUV Car Accessori...| 9.95|               1|                   10|              4.0|   fantastic_fairing|          98.6%|                 New|https://www.ebay....|\n",
      "| 19|Car Accessories|Boston, United St...|42.3554334|  -71.060511|Unisex|5M Car Door Trunk...| 7.99|               2|                   10|              2.5|          Ecclegends|          99.3%|                 New|https://www.ebay....|\n",
      "+---+---------------+--------------------+----------+------------+------+--------------------+-----+----------------+---------------------+-----------------+--------------------+---------------+--------------------+--------------------+\n"
     ]
    }
   ],
   "source": [
    "from pyspark.sql.functions import monotonically_increasing_id\n",
    "\n",
    "raw_dataset_df = raw_dataset_df.withColumn(\"PID\", monotonically_increasing_id())\n",
    "# women_clothing_df = women_clothing_df.select(\"PID\", *women_clothing_df.columns)\n",
    "# Show the DataFrame with the new \"PID\" column\n",
    "raw_dataset_df = raw_dataset_df.select('PID', 'Category', *[col for col in raw_dataset.columns if col not in ['PID', 'Category']])\n",
    "\n",
    "\n",
    "raw_dataset_df.show()"
   ],
   "metadata": {
    "collapsed": false,
    "ExecuteTime": {
     "end_time": "2023-12-12T06:24:09.098575800Z",
     "start_time": "2023-12-12T06:24:08.808575200Z"
    }
   },
   "id": "f0f48453607d0097"
  },
  {
   "cell_type": "code",
   "execution_count": 9,
   "outputs": [
    {
     "name": "stdout",
     "output_type": "stream",
     "text": [
      "+---+---------------+------------------------------------------+----------+------------+------+--------------------------------------------------------------------------------+-----+----------------+---------------------+-----------------+---------------------+---------------+-----------------------+---------------------------------------------------------------------------------------------------------------------------------------------------------------------------------------------------------------------------------------------------------------------------------------------------------------------------------------------------------------------------------------------------------------------------------------------------------------+\n",
      "|PID|Category       |Location                                  |Latitude  |Longitude   |Gender|Title                                                                           |Price|Total Sold Items|Total Available Items|Rating           |Seller Name          |Seller Feedback|Product Condition      |URL                                                                                                                                                                                                                                                                                                                                                                                                                                                            |\n",
      "+---+---------------+------------------------------------------+----------+------------+------+--------------------------------------------------------------------------------+-----+----------------+---------------------+-----------------+---------------------+---------------+-----------------------+---------------------------------------------------------------------------------------------------------------------------------------------------------------------------------------------------------------------------------------------------------------------------------------------------------------------------------------------------------------------------------------------------------------------------------------------------------------+\n",
      "|0  |Car Accessories|Boston, United States                     |42.3554334|-71.060511  |Unisex|Car Steering Wheel Booster Cover Non Slip Interior Accessories Carbon Fiber Look|15.46|2               |3                    |2.0              |luobo-e              |100%           |New                    |https://www.ebay.com/itm/176036075298?hash=item28fc915722:g:nlsAAOSwZ01lVdx~&amdata=enc%3AAQAIAAAAwEQOA%2BaWvp4KREY1UU%2Fj6wet6sYBK3uHkYzTzDdsSEk%2FNTRh9KSoDCK%2B4FGIEkEVmGos9MQRX3QrQoUCHzEThF%2BkyG2QZ%2BfB39SGtYv1TgThZPUi4TYkkf2qCJleyJaofRZMZJm%2FaNY6sf5VU1RVcZRtznatJs0Dl23%2BUNjrg3Q9O7a4EiiuPLU5b53SmFDA8XtVdypOJ0rCYTYzvUC0Jl%2FoJK7PNZHvzemkmfc3qNE9c6af0Jh%2F3Zi9IQQ5%2B26LnA%3D%3D%7Ctkp%3ABlBMULqOq4uHYw                                        |\n",
      "|1  |Car Accessories|Chicago, Illinois, United States          |41.8755616|-87.6244212 |Unisex|1pc Carbon Fiber Style Car Interior Hand Brake Protector Cover Trim Accessories |6.54 |4               |10                   |1.0              |luobo-e              |100%           |New                    |https://www.ebay.com/itm/176036074583?hash=item28fc915457:g:3fgAAOSwbZ9lVdx8&amdata=enc%3AAQAIAAAAwI6MAjnPGu%2Fx%2Bke94Q7KDfoWv0zE7VrY4SO4t1nrmM0Q16nr5SAvHbOKqR19kAmnUI3mo0a3bHVpS9xrUwj5WOhS1tjr9dAKFjux%2F0TIbYYmgKVoMwJryTNKfYDqX9blPkIpV6NctbFxzlZSEmYsMhT5QlF5%2FMLHZBov52iwlODAGZTXDwC9G7tdwLVbzEkIHQreTaYE0vXmPsUeyC3t2hUyI7PDfg1O4JC5Fj73OpsHLQUtuMRW0JRq7N7d4JJspw%3D%3D%7Ctkp%3ABlBMULqOq4uHYw                                                      |\n",
      "|2  |Car Accessories|Rowland Heights, California, United States|33.9761238|-117.905339 |Unisex|4PCS Car Mud Flaps Splash Guards for Front or Rear Auto Universal Accessories US|12.89|11              |10                   |1.5              |wallet1444           |95.5%          |New                    |https://www.ebay.com/itm/145410340180?hash=item21db21b554:g:VdMAAOSw39hlNxgb&amdata=enc%3AAQAIAAAA4MPIb2O1cu126A21kVeSFRlnMQLPwPemdl%2Bv9Eo3S2PUGCApC1Y2jTbbQIPVZMP1u1MXPNcl%2BKngkgePMlcTqFwI3i2VQBI00cicVyU%2BJC1Pau5jxKnR5dlob47D%2Bbfla5Qv7WtHESKOOqPT7SQ8DtybiyIcRzy8ssdBXujZ0CcNha4l2ATvxvEAqeF2at1UOUbcw9gRwV64SssBQrdNaAXaEItcvlOIyjzfgHQeCfjm8nPlwIYawtcSRlMFnS7DeKaT01kcSr9YZPLzOWwBNZJQ8UdYbL64%2F8bpFX8W7MK2%7Ctkp%3ABFBMvI6ri4dj                  |\n",
      "|3  |Car Accessories|Longwood, Florida, United States          |28.7008496|-81.3465575 |Unisex|2X Cup Pad Car Accessories LED Light Cover Interior Decoration Lamp 7 Colors -US|9.99 |2               |10                   |4.199999809265137|casedazzle           |99%            |New                    |https://www.ebay.com/itm/234115698477?epid=4048929947&hash=item3682620f2d:g:v5gAAOSwSGRila2O&amdata=enc%3AAQAIAAAAwLYHu6Ve0jHIjPIhfaVKCQ17nMPp%2B3cNhGx%2BJVPzNYzxtJoMOIVjaVhhWQtCPP27Rvy857UWySCPMxopkM5oTT4wmDZifkz1R48h049Jyfa8JPdQYBcLPDkiyGEhymddBdkzycYQGXysRpkixJvq4YO%2B3HEMN12So731eKRiZorRl1L7JwjwTq2CdlNKIkAfuPUA961iYLm%2F9d5PpaxGkQhW%2Bo0GujHWOfLYtvrtw%2F3Dm7Q8p9MFjJpfaQKO9jzH6Q%3D%3D%7Ctkp%3ABk9SR7yOq4uHYw                                  |\n",
      "|4  |Car Accessories|Dumont, New Jersey, United States         |40.9406541|-73.9968051 |Unisex|Multicolor Car Interior Accessories Atmosphere LED Lights Lamp W/ Remote Control|4.05 |857             |10                   |4.0              |ciphercir3           |97%            |New                    |https://www.ebay.com/itm/374425934931?hash=item572d865c53:g:9J4AAOSwrahjqPZd&amdata=enc%3AAQAIAAAAwKYh9A7hydPkGv3MWYZVkeIL%2B9XwyzdaKTiY0ooAW8zHM8vEStVCm4h2JjGEJlErVJJFSmlR4UkYmrGOptR8IfuCElbNnBdr7FCzBTWaxnTNg7MRy5njjABkNWdn2rVzRhrWZLmsab29Z2xYTUA8T5Xsyqj8c0w0mcL8Fy%2B%2F9l3w7T84Axwq%2Fck9w%2BH2YBfLBe%2FZ0GkKxjzVC60Xz%2BFv1xGz7iFy8q%2Bo7W4PrMY%2BldN7ze%2BpBPBnkBiGS2U1zPc6AQ%3D%3D%7Ctkp%3ABk9SR7yOq4uHYw                                          |\n",
      "|5  |Car Accessories|Houston, TX, United States                |29.7589382|-95.3676974 |Unisex|2m Blue LED Car Interior Decorative Atmosphere Wire Strip Light Accessories US  |8.99 |4               |10                   |3.5              |AUXITO official store|99.6%          |New                    |https://www.ebay.com/itm/393070647324?hash=item5b84d6181c:g:J-0AAOSwS6Ff5tb0&amdata=enc%3AAQAIAAAAwEcjKjeIMaKyecuI8XT3SpG%2Be8IRt4CBXEmIL3VZi3N1B6RzJJgxAYLDmho1ilKOFDC4OWW8yCgRPcOKe3PdvAXjxG4r1oARX3wQF87pA%2BSQHyG5c%2F4G0fmQqf8JN9qa%2F4Gkn%2Bnf%2FgZbelWIVLA2IBe5XrXNuu5XH1Sp%2BiEtomJvdwg8QNaX6yIcCro2C3dGX862JpJVfg32ZU5rtVKvuWMMp%2BQUSPgp%2FLf34R6dQzwN3Hn8lTgVrpEEOZEHWYGVYQ%3D%3D%7Ctkp%3ABk9SR7yOq4uHYw                                            |\n",
      "|6  |Car Accessories|Longwood, Florida, United States          |28.7008496|-81.3465575 |Unisex|1x Mini LED USB Car Interior Neon Atmosphere Light Ambient Lamp Bulb Accessories|2.89 |379             |10                   |4.0              |faiths75             |97.2%          |New other (see details)|https://www.ebay.com/itm/235092292208?hash=item36bc97b270:g:4wIAAOSwsr9js84m&amdata=enc%3AAQAIAAAA4Fl41GzvFhy0TTqUHglO8XCq6kcRoiOR13Vh1oQTcGLyfewsqi5F3kj4CbvxVAZ8Gt%2FyK%2Bl2Dmv2msweTDwSIusGgBK41IbCy8ecvl%2FJV56p6tWqTTg%2FeSseZwKO9E3uqhgYWb6rwzF0caFaDsMYxrGneDUis%2FJIHX%2FoVPusAsaBfvpNDKgzuPbPoVRp5LLMGXZxGiiSFrBToifsxSPO%2Bzxt2NCSDnXRo63tU4JEux%2F3ppYjLBxDw06w037secuKMJcMIjG7BFTrFyG5zXKHSgelDYTNNrK2BP4oISg4gK3V%7Ctkp%3ABk9SR7yOq4uHYw          |\n",
      "|7  |Car Accessories|New York, New York, United States         |40.7127281|-74.0060152 |Unisex|New 2Pcs Car Truck Metal USA Flag Sticker American Decal Body Emblem Accessories|4.49 |23              |10                   |1.0              |ideal8253            |99.3%          |New                    |https://www.ebay.com/itm/386257919102?hash=item59eec41c7e:g:QK8AAOSwCXdlSGCK&amdata=enc%3AAQAIAAAA4HPXZRkcG%2FBsXKRT0DDrzP83nHBQ%2BAleaRaa%2BHw6TBZXP0G8Dg%2BB4XS%2BC6VzOktv7t982yuSabGMzaP0sJ9s1Ci0rMlNsCQ3OaMQgHZ3lkHyAzUC5qb%2BRoRTJddvypZ3DnJBO9GaWHpP5%2BK3%2FQDzAwX8wqSISaUl5ElescT815IqcjREiAVxlVEwifuaibNh7Oc1rl3CR%2FiXVmwtsn7%2Bf0IWh81RKU1dfEmYUx%2BGuDjk69ggKM%2F7ImxgdXdk3JFd1goNT%2Fl9VSlk5MaYJXIOtiTPfPiOM4aKWPmdBRwC84H%2B%7Ctkp%3ABFBMpo-ri4dj|\n",
      "|8  |Car Accessories|Nanuet, New York, United States           |41.0902848|-74.0148205 |Unisex|Car Auto Accessories Armrest Cushion Cover Center Console Box Pad Protector US  |4.99 |562             |10                   |3.0              |valuebuybattery      |98.3%          |New                    |https://www.ebay.com/itm/115606169905?hash=item1aeaaa2931:g:DXEAAOSwl45jdUnt&amdata=enc%3AAQAIAAAA4E15ZEi%2BRfStvc4Js12kpPzdJRqN%2Fo3wlgzzpmhqf%2FC19bHbQCAd5QO%2FYz6ltEkwCCLuPIor0BviarvsZ6Wm7zqbAB9KQnEMtYud4bM7OW6ancwOtY%2FLeXzRa31RjMsTNqlmmaCUOwWaHvB5432Sce1hjDKgbgiU16ZxxW9mP031qtrquNssvHhFe0gbSJM3OlQhNVPgPeSWwHyr0U7iw5sUUeQBceXz10genwJ2ZLouF%2BJp6lnT4dIZShD%2FgnhBgpkWfMCgcvyViWXz5Oq7zUzFPm0fhmBHELhYY3WHWmN%2B%7Ctkp%3ABFBMpo-ri4dj            |\n",
      "|9  |Car Accessories|Fountain Valley, California, United States|33.7038145|-117.9627349|Unisex|Car Accessories Auto Armrest Cushion Cover Center Console Box Pad Protector USA |13.79|73              |10                   |2.0              |Doremojp8890 Store   |98.6%          |New                    |https://www.ebay.com/itm/256153651639?hash=item3ba3f289b7:g:GhUAAOSwrZxkvhB7&amdata=enc%3AAQAIAAAA4A%2Bg4BLDA00CdIj8%2B9UriMrfPvthStOJomU8AzTsdlRLtCKyX%2B%2Frf2COm%2F9koN%2FBh%2Bl1EpYg9M2jPi%2BKRMSqXbjKb06SpUqdvUCgZrJaTnANzxrWkrwSZpxEcU%2F6OP4rPw3lPSnN0JqIC8KL2flvBjwowuEoKoa6o6NiJthTvf8BTRagB7X0QC3eFDa8dPVeTBaFKEIPl%2FOi9vI%2BuWccCUgyD6FXghKUrzCxgxB61Cz5p8B01zXKTGGIK%2Bp1yb9TTWqFkDDQS%2BIzfv1%2B5QqvqEngcWyhVDWE5GJXdUtEfZYw%7Ctkp%3ABFBMpo-ri4dj|\n",
      "|10 |Car Accessories|Alameda, California, United States        |37.6090291|-121.899142 |Unisex|Left Side Car Accessories Seat Gap Filler Phone Holder Storage Box Organizer Bag|17.26|103             |10                   |1.5              |EverydayGadgetz      |99.5%          |New                    |https://www.ebay.com/itm/134530669102?hash=item1f52a71a2e:g:luMAAOSwhhxkOIBP&amdata=enc%3AAQAIAAAA4PHIE79H0%2B%2BS51q7iBU9oQu65BFO5tn%2BkhMjKpVi8TdtQy0RjzluFgjmDSbYUaM5hssDqlJZniKajRiYl2rWNXh0tXMFo1piYeBr7KMbw4eeRhHPFBHysVvQvgkCKRwGk6Yn4ziEOT7dfyyhgjkH%2Btcjvur7vMlV%2F19AhoCXzoW1OgY8wVa%2FZjEzwtwfuceDUBvRubI73IXj6fZAojKbpv3T6SpgB9synEv4Qqku%2F3QXg2qNmGN05Q%2FsWhWXLT%2B86aqyNq9FwVbFqejUh755GaH%2BSbAo3yWfk891r3Nl6xj4%7Ctkp%3ABFBMpo-ri4dj        |\n",
      "|11 |Car Accessories|Longwood, Florida, United States          |28.7008496|-81.3465575 |Unisex|USB Car Accessories Interior Atmosphere Star Sky Lamp Ambient Night Lights US   |4.69 |45              |10                   |3.5              |Sheve101             |98.5%          |New                    |https://www.ebay.com/itm/355018600841?hash=item52a8c1f189:g:D04AAOSwOCZk9vbf&amdata=enc%3AAQAIAAAA4AB9VXUje1nbj7iK6XrRt5q5wiMJQBJgAvNWpC3Q1Dfkq52yzPvRaW9OKqZTwYurRf3O7J1%2FiVDD23ruGaE78iDOR%2B1ugDY8LgrATXpBxnLVpKMLytJtkuCTM%2FDi3p4MHyJ%2FEs9ghwEAh1cdaDVhe%2BtSHGxE5c2xrtSOAzAdrjmH7rXvt6E3KGbUpXGufbF9De1Lqmw7CmrX1RUGsS%2BUNc517shmL5hbgTkh89AX9%2FxwU715pT9SJ9rE7kGdUxK81UUKbhZj3UPQ2vIXBYtzCoIETFNGfRs%2BLuN%2F6ETgWHIe%7Ctkp%3ABFBMpo-ri4dj          |\n",
      "|12 |Car Accessories|Hebron, Kentucky, United States           |39.065813 |-84.7027575 |Unisex|Car Accessories Armrest Cushion Cover Center Console Box Pad Protector Universal|4.99 |186             |8                    |3.5              |quadpartstore4       |99.5%          |New                    |https://www.ebay.com/itm/394832694426?hash=item5beddccc9a:g:PysAAOSwLwhk-tbT&amdata=enc%3AAQAIAAAA4F%2FXtjSVnygXeDOxzrpwEBEiYKF8E7TVp32WOOiVSy1a5ruS3HwQRa8Y2g4AK5kVVzM9%2FfNAX5ERKHZUWctoD069UTjPBTpzYGwkDegmoEg4YKeYDFD%2B6AGNyjsvP9%2FfDLL8%2FECC%2FhLAUr2XfOYlMwNyErCfPNKnRkkUw4wL5CvlhlXva0GB%2BCNj6tC39ejH%2F5ns9XdaxrkHDgjGJQc19y%2BrM0AouQhA4TXCmp3i3wOSaL5G9Okt9CBAsJWyHJYhHOeCiDqPd6G7g0kQ0xxh3bKL5sjvurym2YQAGQOAMwCY%7Ctkp%3ABFBMpo-ri4dj          |\n",
      "|13 |Car Accessories|New York, New York, United States         |40.7127281|-74.0060152 |Unisex|28Pcs Car Interior LED Light For Dome Map License Plate Lamp Bulbs Accessories  |9.99 |187             |10                   |4.0              |autocarlighting9012  |98.7%          |New                    |https://www.ebay.com/itm/314159806573?hash=item492562386d:g:z4sAAOSwyvxjLncd&amdata=enc%3AAQAIAAAA4FO2UQ%2BD%2FJ%2FfK9tg6%2BT4sDUGyYuTERM%2FLv30sdfsHbimOaEL49XtJogF7WIBXhCEe554CW6%2BUNKwk8IR33kSXurqNWN4CHAxOxQ6IsQGgpE9RqDBR%2Bte0rFgjpTlEyGR7tkNYYn9dGfOx6zRaExx87V4vRmjTgtU5pJmLsuia%2BRXi0bH255piCwZnDmzafAJ7pxESOd5PU%2B%2BBxCytZ9hbhwhJFbMfcELOD8GJ0aZ%2BPQ9V3SKc06UoUabfHU3R2J0k70b8GzwTjDD60S22ajfJ74Ke%2FejsJbDeh9rElyAfYUG%7Ctkp%3ABFBMpo-ri4dj    |\n",
      "|14 |Car Accessories|Fountain Valley, California, United States|33.7038145|-117.9627349|Unisex|Car Sun Shade Side Window Curtain Auto Foldable UV Protection Accessories Kit US|13.79|449             |6                    |1.0              |entaifirst           |98.6%          |New                    |https://www.ebay.com/itm/144156678993?hash=item2190685b51:g:1qYAAOSwBYxhGcXE&amdata=enc%3AAQAIAAAA4Du1%2F%2FaycDBDDyoFea4mflMgwKEFlPI2jk4UWZce0klKc%2F8Sy9lJN%2Fi208HQ5ic9Yx7C1k%2BMJV%2FnA08shDpPOq2FsYLZLYufjJCEjxKyfxqlZx7XxKek53Te0nVxNpsfy6XN5Kp71nmcdZAAk0LM3%2FZkVXimpjaDN1ssRG9WAvdK2gsPCfS9mlSZcUqewBjMAw0kYpgBcQbI9Au%2Bpbv%2BRjjJ9H17LhUgKAjMiaBMrCbmBGqNdnn4EiJwlIACDV7UoRV3i0kqu%2FvIpVjsmzoG2eELojPnx1R4qZjCLdUygu6S%7Ctkp%3ABFBMpo-ri4dj        |\n",
      "|15 |Car Accessories|Houston, TX, United States                |29.7589382|-95.3676974 |Unisex|Universal White Flexible Car Hood Day Running LED Light Strip Accessories USA   |11.96|440             |10                   |4.5              |adjac-37             |96.4%          |New                    |https://www.ebay.com/itm/125900096542?hash=item1d503b041e:g:AN4AAOSwIN5kRcii&amdata=enc%3AAQAIAAAAwGa2JOJS5%2FYdqPYxcLej%2BoUAfdIVhT4nLAlSykUbE0tEYq1%2Fc6UVmquX3nl4PYwmNWh6IZNGqF3e5u3TQwViCCB4EsZhm92VYC9qpts%2Fm4G6hNU0d0gaCNPH7CJb%2F%2B2gzGCau82l4fxoiPL7LLdRRFtmX1OTF6VH8l5a7mdSO3OfgbcFgINOiveKJZTwiuSIBALmIDRTDgjZTbi%2Fkq6Yp%2FO6K%2FSXJrHoJ4B0irZ3MJmkVITMH1IC6SIp9MLVqL3XJg%3D%3D%7Ctkp%3ABk9SR7yOq4uHYw                                            |\n",
      "|16 |Car Accessories|New York, New York, United States         |40.7127281|-74.0060152 |Unisex|USB Car Accessories Interior Atmosphere Star Sky Lamp Ambient Night Lights US   |5.9  |1               |10                   |3.700000047683716|iokhouse-19          |99%            |New                    |https://www.ebay.com/itm/394155116736?hash=item5bc579c8c0:g:t9MAAOSwGcNjMQPJ&amdata=enc%3AAQAIAAAA4DHcqCP7c27DbVHewyPBI5yaaZQc8m30FtA8swXuXqbl631P4uloj22UFVGGQSCGoREjmVCu9%2FtYdGnlHgfZ10MYkxScxwaFYNoyFjgLNttOOvmRGZJtu3KCISQK%2Fhd9zOGOcSntvh9UPYsquOm1PK7pNSdq7Zm0jCRmPLi5ILCvyxJu3ci1dawTUvHTBvT%2FMGSzWBefFQOukTleqkEwFN4I4v5K5AtN628uNOQS9rMZ4dsPW0qpIGuWeVRJ8DXT8geoasiH8a7ramO%2FX8oOZtYj8wq%2Fk9qEITzPBTymXIqk%7Ctkp%3ABk9SR76Oq4uHYw                |\n",
      "|17 |Car Accessories|Houston, TX, United States                |29.7589382|-95.3676974 |Unisex|Universal Blue Luminous Car Interior Window Door Switch Sticker Car Accessories |3.87 |183             |10                   |3.0              |dolphin4107          |98.3%          |New                    |https://www.ebay.com/itm/364222974114?hash=item54cd6188a2:g:OPAAAOSwqa9kPi1r&amdata=enc%3AAQAIAAAA4NEGD7QSlg36Fjm6x0jN2Ckgvn3nfPHbcNCJlI04iPIySO7mlZWu%2FoNtn4Tkrb8Me9XlJT0YLnOk7PAGOSbDropH9aFRb6JMIMucZoi7Yw%2Byar5lAhUho1M8G4plHDEtCKUBu3X%2BHd2SXgDsNbTqoKMKbqNjCLEcjV92i9vfxYObk%2By26xHCsch%2BVB8xoqJSBHuG4Wze9BHGhs0SKfQwNhWmJAHYh8JC3avFulLRslPkgXHDhLxyxbWVeJRzgRZuStMGUmrVO1wEGCr%2BIvPPGvqc4CF6ok%2Fndo7LF6hivp1N%7Ctkp%3ABk9SR76Oq4uHYw            |\n",
      "|18 |Car Accessories|Longwood, Florida, United States          |28.7008496|-81.3465575 |Unisex|SUV Car Accessories Envelope Style Trunk Cargo Net Storage Organizer Universal  |9.95 |1               |10                   |4.0              |fantastic_fairing    |98.6%          |New                    |https://www.ebay.com/itm/165535462352?hash=item268aaeb3d0:g:bDMAAOSw81Jg57UE&amdata=enc%3AAQAIAAAA4LxavwJv4jkxv72vUFBR%2BrliwK6%2BgIWy9iR3CpJjRpAdq3vPbtB4MrHP%2FWyQHe%2BFTsm6kKXZKS%2F0WPqqWoDmHK87jWfdJfrqwX%2F1X9BPcoMI0LX6Bborwbt0RDzr8Vgp9yfWWuvYHlz%2FBlhJk1HaQ3NYGOVqZHebNwZIhchYTi3%2BydSRK3Be2VIomdCvg0VTrHK7c7a1PXG%2BfMipTAtfYSETKd9yFHFWt7wiDCFdICyEumVBEsX%2Bj%2FJ8HjtzOXMaw%2BA%2BydW1w0xtWYqXnwEBkLqIc36euaOGbx5st9MgGplv%7Ctkp%3ABk9SR76Oq4uHYw|\n",
      "|19 |Car Accessories|Boston, United States                     |42.3554334|-71.060511  |Unisex|5M Car Door Trunk Seal Strip L Shape Weather Strip Edge Decoration Accessories  |7.99 |2               |10                   |2.5              |Ecclegends           |99.3%          |New                    |https://www.ebay.com/itm/255613851472?hash=item3b83c5d750:g:sMoAAOSwMrhlbWgz&amdata=enc%3AAQAIAAAAwOsXYJOBy0XjxiTjbcUPUS0HQRA8OzX75fPpy1TlAIubuTfI76gCpMx3td0IqpAKZG5wK5lg6V4V8%2FUloNrcp61I%2Fb5igaAS4QIVzRK3OQcexPyT6SWhfb69CkXcuk3xIBjIzqnWAlS6d7dWwlPa3rQ8wnUDHVsvURPi1c6KhI%2FN1GnAXjwncTDw1eHIzmlsE2B0GMh3pnCd2MIZ2eAO5dREs1arLFOL0jOQom4%2FXBhY8by2fgVR5wHkknPQse2mDg%3D%3D%7Ctkp%3ABk9SR76Oq4uHYw                                                      |\n",
      "+---+---------------+------------------------------------------+----------+------------+------+--------------------------------------------------------------------------------+-----+----------------+---------------------+-----------------+---------------------+---------------+-----------------------+---------------------------------------------------------------------------------------------------------------------------------------------------------------------------------------------------------------------------------------------------------------------------------------------------------------------------------------------------------------------------------------------------------------------------------------------------------------+\n"
     ]
    }
   ],
   "source": [
    "from pyspark.sql.functions import col\n",
    "\n",
    "# Define the allowed categories\n",
    "allowed_categories = [\n",
    "    \"Antiques\",\n",
    "    \"Men Accessories\"\n",
    "    \"Home and Industrial Accessories\",\n",
    "    \"Vehicles\",\n",
    "    \"Kids\",\n",
    "    \"Electronics\",\n",
    "    \"Automotive\",\n",
    "    \"Sports\",\n",
    "    \"Women Clothing\",\n",
    "    \"Musical Instruments\",\n",
    "    \"Car Accessories\",\n",
    "    \"Miscellaneous\"\n",
    "]\n",
    "\n",
    "# Filter the DataFrame to keep only the allowed categories\n",
    "raw_dataset_df = raw_dataset_df.filter(col(\"Category\").isin(allowed_categories))\n",
    "\n",
    "# Show the result or perform further analysis as needed\n",
    "raw_dataset_df.show(truncate=False)"
   ],
   "metadata": {
    "collapsed": false,
    "ExecuteTime": {
     "end_time": "2023-12-12T06:24:09.888577700Z",
     "start_time": "2023-12-12T06:24:09.577578300Z"
    }
   },
   "id": "a933ed7335f6f31d"
  },
  {
   "cell_type": "code",
   "execution_count": 10,
   "outputs": [
    {
     "name": "stdout",
     "output_type": "stream",
     "text": [
      "root\n",
      " |-- PID: long (nullable = false)\n",
      " |-- Category: string (nullable = true)\n",
      " |-- Location: string (nullable = true)\n",
      " |-- Latitude: string (nullable = true)\n",
      " |-- Longitude: string (nullable = true)\n",
      " |-- Gender: string (nullable = true)\n",
      " |-- Title: string (nullable = true)\n",
      " |-- Price: float (nullable = true)\n",
      " |-- Total Sold Items: integer (nullable = true)\n",
      " |-- Total Available Items: integer (nullable = true)\n",
      " |-- Rating: double (nullable = true)\n",
      " |-- Seller Name: string (nullable = true)\n",
      " |-- Seller Feedback: string (nullable = true)\n",
      " |-- Product Condition: string (nullable = true)\n",
      " |-- URL: string (nullable = true)\n"
     ]
    }
   ],
   "source": [
    "raw_dataset_df.printSchema()"
   ],
   "metadata": {
    "collapsed": false,
    "ExecuteTime": {
     "end_time": "2023-12-12T06:24:11.549577200Z",
     "start_time": "2023-12-12T06:24:11.527575400Z"
    }
   },
   "id": "5ac1fb121a2ba65a"
  },
  {
   "cell_type": "code",
   "execution_count": 13,
   "outputs": [
    {
     "ename": "AttributeError",
     "evalue": "'DataFrame' object has no attribute 'indexExists'",
     "output_type": "error",
     "traceback": [
      "\u001B[1;31m---------------------------------------------------------------------------\u001B[0m",
      "\u001B[1;31mAttributeError\u001B[0m                            Traceback (most recent call last)",
      "Cell \u001B[1;32mIn[13], line 1\u001B[0m\n\u001B[1;32m----> 1\u001B[0m \u001B[43mraw_dataset_df\u001B[49m\u001B[38;5;241;43m.\u001B[39;49m\u001B[43mindexExists\u001B[49m()\n",
      "File \u001B[1;32mE:\\Ebay Data Analysis\\Ebay_Analysis\\venv\\lib\\site-packages\\pyspark\\sql\\dataframe.py:3123\u001B[0m, in \u001B[0;36mDataFrame.__getattr__\u001B[1;34m(self, name)\u001B[0m\n\u001B[0;32m   3090\u001B[0m \u001B[38;5;250m\u001B[39m\u001B[38;5;124;03m\"\"\"Returns the :class:`Column` denoted by ``name``.\u001B[39;00m\n\u001B[0;32m   3091\u001B[0m \n\u001B[0;32m   3092\u001B[0m \u001B[38;5;124;03m.. versionadded:: 1.3.0\u001B[39;00m\n\u001B[1;32m   (...)\u001B[0m\n\u001B[0;32m   3120\u001B[0m \u001B[38;5;124;03m+---+\u001B[39;00m\n\u001B[0;32m   3121\u001B[0m \u001B[38;5;124;03m\"\"\"\u001B[39;00m\n\u001B[0;32m   3122\u001B[0m \u001B[38;5;28;01mif\u001B[39;00m name \u001B[38;5;129;01mnot\u001B[39;00m \u001B[38;5;129;01min\u001B[39;00m \u001B[38;5;28mself\u001B[39m\u001B[38;5;241m.\u001B[39mcolumns:\n\u001B[1;32m-> 3123\u001B[0m     \u001B[38;5;28;01mraise\u001B[39;00m \u001B[38;5;167;01mAttributeError\u001B[39;00m(\n\u001B[0;32m   3124\u001B[0m         \u001B[38;5;124m\"\u001B[39m\u001B[38;5;124m'\u001B[39m\u001B[38;5;132;01m%s\u001B[39;00m\u001B[38;5;124m'\u001B[39m\u001B[38;5;124m object has no attribute \u001B[39m\u001B[38;5;124m'\u001B[39m\u001B[38;5;132;01m%s\u001B[39;00m\u001B[38;5;124m'\u001B[39m\u001B[38;5;124m\"\u001B[39m \u001B[38;5;241m%\u001B[39m (\u001B[38;5;28mself\u001B[39m\u001B[38;5;241m.\u001B[39m\u001B[38;5;18m__class__\u001B[39m\u001B[38;5;241m.\u001B[39m\u001B[38;5;18m__name__\u001B[39m, name)\n\u001B[0;32m   3125\u001B[0m     )\n\u001B[0;32m   3126\u001B[0m jc \u001B[38;5;241m=\u001B[39m \u001B[38;5;28mself\u001B[39m\u001B[38;5;241m.\u001B[39m_jdf\u001B[38;5;241m.\u001B[39mapply(name)\n\u001B[0;32m   3127\u001B[0m \u001B[38;5;28;01mreturn\u001B[39;00m Column(jc)\n",
      "\u001B[1;31mAttributeError\u001B[0m: 'DataFrame' object has no attribute 'indexExists'"
     ]
    }
   ],
   "source": [],
   "metadata": {
    "collapsed": false,
    "ExecuteTime": {
     "end_time": "2023-12-12T06:26:24.758456900Z",
     "start_time": "2023-12-12T06:26:24.709458800Z"
    }
   },
   "id": "6e5fff3f4e3a0a64"
  },
  {
   "cell_type": "code",
   "execution_count": null,
   "outputs": [],
   "source": [],
   "metadata": {
    "collapsed": false
   },
   "id": "57971bd691d6e45"
  },
  {
   "cell_type": "code",
   "execution_count": null,
   "outputs": [],
   "source": [],
   "metadata": {
    "collapsed": false
   },
   "id": "aedf65e7bafd0f8a"
  },
  {
   "cell_type": "code",
   "execution_count": 11,
   "outputs": [],
   "source": [
    "raw_dataset_df.coalesce(1).write.csv(\"E:\\\\Ebay Data Analysis\\\\Ebay_Analysis\\\\Output\", header=True, mode=\"overwrite\")\n"
   ],
   "metadata": {
    "collapsed": false,
    "ExecuteTime": {
     "end_time": "2023-12-12T02:45:13.816021600Z",
     "start_time": "2023-12-12T02:45:04.667500800Z"
    }
   },
   "id": "b35d73092ab9e077"
  },
  {
   "cell_type": "code",
   "execution_count": null,
   "outputs": [],
   "source": [],
   "metadata": {
    "collapsed": false
   },
   "id": "402dfe5e28b30e9d"
  }
 ],
 "metadata": {
  "kernelspec": {
   "display_name": "Python 3",
   "language": "python",
   "name": "python3"
  },
  "language_info": {
   "codemirror_mode": {
    "name": "ipython",
    "version": 2
   },
   "file_extension": ".py",
   "mimetype": "text/x-python",
   "name": "python",
   "nbconvert_exporter": "python",
   "pygments_lexer": "ipython2",
   "version": "2.7.6"
  }
 },
 "nbformat": 4,
 "nbformat_minor": 5
}
