{
 "cells": [
  {
   "cell_type": "code",
   "execution_count": null,
   "id": "initial_id",
   "metadata": {
    "collapsed": true
   },
   "outputs": [],
   "source": [
    "pip install pyspark"
   ]
  },
  {
   "cell_type": "code",
   "execution_count": 3,
   "outputs": [
    {
     "name": "stdout",
     "output_type": "stream",
     "text": [
      "+---+---------------+--------------------+----------+------------+------+--------------------+-----+----------------+---------------------+------+--------------------+---------------+--------------------+--------------------+\n",
      "|PID|       Category|            Location|  Latitude|   Longitude|Gender|               Title|Price|Total Sold Items|Total Available Items|Rating|         Seller Name|Seller Feedback|   Product Condition|                 URL|\n",
      "+---+---------------+--------------------+----------+------------+------+--------------------+-----+----------------+---------------------+------+--------------------+---------------+--------------------+--------------------+\n",
      "|  0|Car Accessories|Boston, United St...|42.3554334|  -71.060511|Unisex|Car Steering Whee...|15.46|               2|                    3|   3.0|             luobo-e|           100%|                 New|https://www.ebay....|\n",
      "|  1|Car Accessories|Chicago, Illinois...|41.8755616| -87.6244212|Unisex|1pc Carbon Fiber ...| 6.54|               4|                   10|   0.5|             luobo-e|           100%|                 New|https://www.ebay....|\n",
      "|  2|Car Accessories|Redwood City, Cal...|37.4863239| -122.232523|Unisex|For Toyota Camry ...| 8.69|             255|                   34|   2.5|         easyfind123|          96.5%|                 New|https://www.ebay....|\n",
      "|  3|Car Accessories|Rowland Heights, ...|33.9761238| -117.905339|Unisex|4PCS Car Mud Flap...|12.89|              11|                   10|   3.5|          wallet1444|          95.5%|                 New|https://www.ebay....|\n",
      "|  4|Car Accessories|Longwood, Florida...|28.7008496| -81.3465575|Unisex|2X Cup Pad Car Ac...| 9.99|               2|                   10|   4.2|          casedazzle|            99%|                 New|https://www.ebay....|\n",
      "|  5|Car Accessories|Dumont, New Jerse...|40.9406541| -73.9968051|Unisex|Multicolor Car In...| 4.05|             857|                   10|   3.0|          ciphercir3|            97%|                 New|https://www.ebay....|\n",
      "|  6|Car Accessories|Houston, TX, Unit...|29.7589382| -95.3676974|Unisex|2m Blue LED Car I...| 8.99|               4|                   10|   1.0|AUXITO official s...|          99.6%|                 New|https://www.ebay....|\n",
      "|  7|Car Accessories|Longwood, Florida...|28.7008496| -81.3465575|Unisex|1x Mini LED USB C...| 2.89|             379|                   10|   1.5|            faiths75|          97.2%|New other (see de...|https://www.ebay....|\n",
      "|  8|Car Accessories|New York, New Yor...|40.7127281| -74.0060152|Unisex|New 2Pcs Car Truc...| 4.49|              23|                   10|   4.0|           ideal8253|          99.3%|                 New|https://www.ebay....|\n",
      "|  9|Car Accessories|Nanuet, New York,...|41.0902848| -74.0148205|Unisex|Car Auto Accessor...| 4.99|             562|                   10|   1.0|     valuebuybattery|          98.3%|                 New|https://www.ebay....|\n",
      "| 10|Car Accessories|Fountain Valley, ...|33.7038145|-117.9627349|Unisex|Car Accessories A...|13.79|              73|                   10|   3.0|  Doremojp8890 Store|          98.6%|                 New|https://www.ebay....|\n",
      "| 11|Car Accessories|Alameda, Californ...|37.6090291| -121.899142|Unisex|Left Side Car Acc...|17.26|             103|                   10|   2.5|     EverydayGadgetz|          99.5%|                 New|https://www.ebay....|\n",
      "| 12|Car Accessories|Longwood, Florida...|28.7008496| -81.3465575|Unisex|USB Car Accessori...| 4.69|              45|                   10|   5.0|            Sheve101|          98.5%|                 New|https://www.ebay....|\n",
      "| 13|Car Accessories|Hebron, Kentucky,...| 39.065813| -84.7027575|Unisex|Car Accessories A...| 4.99|             186|                    8|   1.0|      quadpartstore4|          99.5%|                 New|https://www.ebay....|\n",
      "| 14|Car Accessories|New York, New Yor...|40.7127281| -74.0060152|Unisex|28Pcs Car Interio...| 9.99|             187|                   10|   4.5| autocarlighting9012|          98.7%|                 New|https://www.ebay....|\n",
      "| 15|Car Accessories|Fountain Valley, ...|33.7038145|-117.9627349|Unisex|Car Sun Shade Sid...|13.79|             449|                    6|   2.0|          entaifirst|          98.6%|                 New|https://www.ebay....|\n",
      "| 16|Car Accessories|Houston, TX, Unit...|29.7589382| -95.3676974|Unisex|Universal White F...|11.96|             440|                   10|   4.5|            adjac-37|          96.4%|                 New|https://www.ebay....|\n",
      "| 17|Car Accessories|New York, New Yor...|40.7127281| -74.0060152|Unisex|USB Car Accessori...|  5.9|               1|                   10|   3.7|         iokhouse-19|            99%|                 New|https://www.ebay....|\n",
      "| 18|Car Accessories|Houston, TX, Unit...|29.7589382| -95.3676974|Unisex|Universal Blue Lu...| 3.87|             183|                   10|   4.5|         dolphin4107|          98.3%|                 New|https://www.ebay....|\n",
      "| 19|Car Accessories|Longwood, Florida...|28.7008496| -81.3465575|Unisex|SUV Car Accessori...| 9.95|               1|                   10|   2.5|   fantastic_fairing|          98.6%|                 New|https://www.ebay....|\n",
      "+---+---------------+--------------------+----------+------------+------+--------------------+-----+----------------+---------------------+------+--------------------+---------------+--------------------+--------------------+\n",
      "only showing top 20 rows\n",
      "\n",
      "root\n",
      " |-- PID: string (nullable = true)\n",
      " |-- Category: string (nullable = true)\n",
      " |-- Location: string (nullable = true)\n",
      " |-- Latitude: string (nullable = true)\n",
      " |-- Longitude: string (nullable = true)\n",
      " |-- Gender: string (nullable = true)\n",
      " |-- Title: string (nullable = true)\n",
      " |-- Price: string (nullable = true)\n",
      " |-- Total Sold Items: string (nullable = true)\n",
      " |-- Total Available Items: string (nullable = true)\n",
      " |-- Rating: string (nullable = true)\n",
      " |-- Seller Name: string (nullable = true)\n",
      " |-- Seller Feedback: string (nullable = true)\n",
      " |-- Product Condition: string (nullable = true)\n",
      " |-- URL: string (nullable = true)\n"
     ]
    }
   ],
   "source": [
    "import os\n",
    "from pyspark.sql import SparkSession\n",
    "\n",
    "# Create a Spark session\n",
    "os.environ[\"HADOOP_HOME\"] = \"C:\\\\hadoop-3.3.5\"\n",
    "\n",
    "# Set hadoop.home.dir system property\n",
    "os.environ[\"hadoop.home.dir\"] = \"C:\\\\hadoop-3.3.5\"\n",
    "\n",
    "# Initialize SparkSession\n",
    "spark = SparkSession.builder.appName(\"ebay_analysis\").getOrCreate()\n",
    "\n",
    "# File location and type\n",
    "file_location = \"Data\\\\Final_Dataset_Cleaned.csv\"\n",
    "file_type = \"csv\"\n",
    "\n",
    "# CSV options\n",
    "infer_schema = \"false\"\n",
    "first_row_is_header = \"true\"\n",
    "delimiter = \",\"\n",
    "\n",
    "# Read data from CSV file into a DataFrame\n",
    "final_dataset = spark.read.format(file_type) \\\n",
    "    .option(\"inferSchema\", infer_schema) \\\n",
    "    .option(\"header\", first_row_is_header) \\\n",
    "    .option(\"sep\", delimiter) \\\n",
    "    .load(file_location)\n",
    "\n",
    "# Show the DataFrame\n",
    "final_dataset.show()\n",
    "final_dataset.printSchema()"
   ],
   "metadata": {
    "collapsed": false,
    "ExecuteTime": {
     "end_time": "2023-12-07T02:43:26.084822Z",
     "start_time": "2023-12-07T02:43:25.816821600Z"
    }
   },
   "id": "be6cf6d9362e00ac"
  },
  {
   "cell_type": "code",
   "execution_count": 4,
   "outputs": [],
   "source": [
    "from pyspark.sql.functions import col\n",
    "\n",
    "final_dataset = final_dataset.withColumn(\"PID\", col(\"PID\").cast(\"int\"))\n",
    "final_dataset = final_dataset.withColumn(\"Price\", col(\"Price\").cast(\"double\"))\n",
    "final_dataset = final_dataset.withColumn(\"Total Sold Items\", col(\"Total Sold Items\").cast(\"int\"))\n",
    "final_dataset = final_dataset.withColumn(\"Total Available Items\", col(\"Total Available Items\").cast(\"int\"))\n",
    "final_dataset = final_dataset.withColumn(\"Rating\", col(\"Rating\").cast(\"double\"))\n"
   ],
   "metadata": {
    "collapsed": false,
    "ExecuteTime": {
     "end_time": "2023-12-07T02:44:48.763825100Z",
     "start_time": "2023-12-07T02:44:48.665826900Z"
    }
   },
   "id": "588eaeb351c8b84f"
  },
  {
   "cell_type": "code",
   "execution_count": 6,
   "outputs": [
    {
     "name": "stdout",
     "output_type": "stream",
     "text": [
      "+---+---------------+--------------------+----------+------------+------+--------------------+-----+----------------+---------------------+------+--------------------+---------------+--------------------+--------------------+\n",
      "|PID|       Category|            Location|  Latitude|   Longitude|Gender|               Title|Price|Total Sold Items|Total Available Items|Rating|         Seller Name|Seller Feedback|   Product Condition|                 URL|\n",
      "+---+---------------+--------------------+----------+------------+------+--------------------+-----+----------------+---------------------+------+--------------------+---------------+--------------------+--------------------+\n",
      "|  0|Car Accessories|Boston, United St...|42.3554334|  -71.060511|Unisex|Car Steering Whee...|15.46|               2|                    3|   3.0|             luobo-e|           100%|                 New|https://www.ebay....|\n",
      "|  1|Car Accessories|Chicago, Illinois...|41.8755616| -87.6244212|Unisex|1pc Carbon Fiber ...| 6.54|               4|                   10|   0.5|             luobo-e|           100%|                 New|https://www.ebay....|\n",
      "|  2|Car Accessories|Redwood City, Cal...|37.4863239| -122.232523|Unisex|For Toyota Camry ...| 8.69|             255|                   34|   2.5|         easyfind123|          96.5%|                 New|https://www.ebay....|\n",
      "|  3|Car Accessories|Rowland Heights, ...|33.9761238| -117.905339|Unisex|4PCS Car Mud Flap...|12.89|              11|                   10|   3.5|          wallet1444|          95.5%|                 New|https://www.ebay....|\n",
      "|  4|Car Accessories|Longwood, Florida...|28.7008496| -81.3465575|Unisex|2X Cup Pad Car Ac...| 9.99|               2|                   10|   4.2|          casedazzle|            99%|                 New|https://www.ebay....|\n",
      "|  5|Car Accessories|Dumont, New Jerse...|40.9406541| -73.9968051|Unisex|Multicolor Car In...| 4.05|             857|                   10|   3.0|          ciphercir3|            97%|                 New|https://www.ebay....|\n",
      "|  6|Car Accessories|Houston, TX, Unit...|29.7589382| -95.3676974|Unisex|2m Blue LED Car I...| 8.99|               4|                   10|   1.0|AUXITO official s...|          99.6%|                 New|https://www.ebay....|\n",
      "|  7|Car Accessories|Longwood, Florida...|28.7008496| -81.3465575|Unisex|1x Mini LED USB C...| 2.89|             379|                   10|   1.5|            faiths75|          97.2%|New other (see de...|https://www.ebay....|\n",
      "|  8|Car Accessories|New York, New Yor...|40.7127281| -74.0060152|Unisex|New 2Pcs Car Truc...| 4.49|              23|                   10|   4.0|           ideal8253|          99.3%|                 New|https://www.ebay....|\n",
      "|  9|Car Accessories|Nanuet, New York,...|41.0902848| -74.0148205|Unisex|Car Auto Accessor...| 4.99|             562|                   10|   1.0|     valuebuybattery|          98.3%|                 New|https://www.ebay....|\n",
      "| 10|Car Accessories|Fountain Valley, ...|33.7038145|-117.9627349|Unisex|Car Accessories A...|13.79|              73|                   10|   3.0|  Doremojp8890 Store|          98.6%|                 New|https://www.ebay....|\n",
      "| 11|Car Accessories|Alameda, Californ...|37.6090291| -121.899142|Unisex|Left Side Car Acc...|17.26|             103|                   10|   2.5|     EverydayGadgetz|          99.5%|                 New|https://www.ebay....|\n",
      "| 12|Car Accessories|Longwood, Florida...|28.7008496| -81.3465575|Unisex|USB Car Accessori...| 4.69|              45|                   10|   5.0|            Sheve101|          98.5%|                 New|https://www.ebay....|\n",
      "| 13|Car Accessories|Hebron, Kentucky,...| 39.065813| -84.7027575|Unisex|Car Accessories A...| 4.99|             186|                    8|   1.0|      quadpartstore4|          99.5%|                 New|https://www.ebay....|\n",
      "| 14|Car Accessories|New York, New Yor...|40.7127281| -74.0060152|Unisex|28Pcs Car Interio...| 9.99|             187|                   10|   4.5| autocarlighting9012|          98.7%|                 New|https://www.ebay....|\n",
      "| 15|Car Accessories|Fountain Valley, ...|33.7038145|-117.9627349|Unisex|Car Sun Shade Sid...|13.79|             449|                    6|   2.0|          entaifirst|          98.6%|                 New|https://www.ebay....|\n",
      "| 16|Car Accessories|Houston, TX, Unit...|29.7589382| -95.3676974|Unisex|Universal White F...|11.96|             440|                   10|   4.5|            adjac-37|          96.4%|                 New|https://www.ebay....|\n",
      "| 17|Car Accessories|New York, New Yor...|40.7127281| -74.0060152|Unisex|USB Car Accessori...|  5.9|               1|                   10|   3.7|         iokhouse-19|            99%|                 New|https://www.ebay....|\n",
      "| 18|Car Accessories|Houston, TX, Unit...|29.7589382| -95.3676974|Unisex|Universal Blue Lu...| 3.87|             183|                   10|   4.5|         dolphin4107|          98.3%|                 New|https://www.ebay....|\n",
      "| 19|Car Accessories|Longwood, Florida...|28.7008496| -81.3465575|Unisex|SUV Car Accessori...| 9.95|               1|                   10|   2.5|   fantastic_fairing|          98.6%|                 New|https://www.ebay....|\n",
      "+---+---------------+--------------------+----------+------------+------+--------------------+-----+----------------+---------------------+------+--------------------+---------------+--------------------+--------------------+\n"
     ]
    }
   ],
   "source": [
    "final_dataset.show()\n"
   ],
   "metadata": {
    "collapsed": false,
    "ExecuteTime": {
     "end_time": "2023-12-07T02:45:06.542824900Z",
     "start_time": "2023-12-07T02:45:06.438830800Z"
    }
   },
   "id": "172a9075bdeda3bf"
  },
  {
   "cell_type": "code",
   "execution_count": 7,
   "outputs": [
    {
     "name": "stdout",
     "output_type": "stream",
     "text": [
      "+---+---------------+------------------------------------------+----------+------------+------+--------------------------------------------------------------------------------+-----+----------------+---------------------+------+---------------------+---------------+-----------------------+---------------------------------------------------------------------------------------------------------------------------------------------------------------------------------------------------------------------------------------------------------------------------------------------------------------------------------------------------------------------------------------------------------------------------------------------------------------+\n",
      "|PID|Category       |Location                                  |Latitude  |Longitude   |Gender|Title                                                                           |Price|Total Sold Items|Total Available Items|Rating|Seller Name          |Seller Feedback|Product Condition      |URL                                                                                                                                                                                                                                                                                                                                                                                                                                                            |\n",
      "+---+---------------+------------------------------------------+----------+------------+------+--------------------------------------------------------------------------------+-----+----------------+---------------------+------+---------------------+---------------+-----------------------+---------------------------------------------------------------------------------------------------------------------------------------------------------------------------------------------------------------------------------------------------------------------------------------------------------------------------------------------------------------------------------------------------------------------------------------------------------------+\n",
      "|0  |Car Accessories|Boston, United States                     |42.3554334|-71.060511  |Unisex|Car Steering Wheel Booster Cover Non Slip Interior Accessories Carbon Fiber Look|15.46|2               |3                    |3.0   |luobo-e              |100%           |New                    |https://www.ebay.com/itm/176036075298?hash=item28fc915722:g:nlsAAOSwZ01lVdx~&amdata=enc%3AAQAIAAAAwEQOA%2BaWvp4KREY1UU%2Fj6wet6sYBK3uHkYzTzDdsSEk%2FNTRh9KSoDCK%2B4FGIEkEVmGos9MQRX3QrQoUCHzEThF%2BkyG2QZ%2BfB39SGtYv1TgThZPUi4TYkkf2qCJleyJaofRZMZJm%2FaNY6sf5VU1RVcZRtznatJs0Dl23%2BUNjrg3Q9O7a4EiiuPLU5b53SmFDA8XtVdypOJ0rCYTYzvUC0Jl%2FoJK7PNZHvzemkmfc3qNE9c6af0Jh%2F3Zi9IQQ5%2B26LnA%3D%3D%7Ctkp%3ABlBMULqOq4uHYw                                        |\n",
      "|1  |Car Accessories|Chicago, Illinois, United States          |41.8755616|-87.6244212 |Unisex|1pc Carbon Fiber Style Car Interior Hand Brake Protector Cover Trim Accessories |6.54 |4               |10                   |0.5   |luobo-e              |100%           |New                    |https://www.ebay.com/itm/176036074583?hash=item28fc915457:g:3fgAAOSwbZ9lVdx8&amdata=enc%3AAQAIAAAAwI6MAjnPGu%2Fx%2Bke94Q7KDfoWv0zE7VrY4SO4t1nrmM0Q16nr5SAvHbOKqR19kAmnUI3mo0a3bHVpS9xrUwj5WOhS1tjr9dAKFjux%2F0TIbYYmgKVoMwJryTNKfYDqX9blPkIpV6NctbFxzlZSEmYsMhT5QlF5%2FMLHZBov52iwlODAGZTXDwC9G7tdwLVbzEkIHQreTaYE0vXmPsUeyC3t2hUyI7PDfg1O4JC5Fj73OpsHLQUtuMRW0JRq7N7d4JJspw%3D%3D%7Ctkp%3ABlBMULqOq4uHYw                                                      |\n",
      "|2  |Car Accessories|Redwood City, California, United States   |37.4863239|-122.232523 |Unisex|For Toyota Camry 2018 2019 2020 2021 2022 2023 Car Accessories Shift Knob Trim  |8.69 |255             |34                   |2.5   |easyfind123          |96.5%          |New                    |https://www.ebay.com/itm/313924057075?hash=item491754f7f3:g:j-oAAOSw-XBgTBQA&amdata=enc%3AAQAIAAAAwB7wum3giZ%2FLBSGzhVlmUiFM6vVfzFkTfJpT3dd13nPjGqDmKLN5srCpjp8F0H8mwq6WQd3X7ceaMgonmsT%2F3O5HjWdd%2BNSZcjLcV%2Fvm9QGrvcOUHseVJFkomPNqVCj27NWLuVigip53q31OBORhB5MDlNJGU8aT0DfPILxqto9Uot0tj7HdeJcymU0ZFTKfEUnkzWM0CFIGGzyKN5OkqVcjo%2BuII9FT%2Fd6tA%2FQQnMobTDpOSZ6dhWUGtbtqBK2Haw%3D%3D%7Ctkp%3ABlBMULyOq4uHYw                                                |\n",
      "|3  |Car Accessories|Rowland Heights, California, United States|33.9761238|-117.905339 |Unisex|4PCS Car Mud Flaps Splash Guards for Front or Rear Auto Universal Accessories US|12.89|11              |10                   |3.5   |wallet1444           |95.5%          |New                    |https://www.ebay.com/itm/145410340180?hash=item21db21b554:g:VdMAAOSw39hlNxgb&amdata=enc%3AAQAIAAAA4MPIb2O1cu126A21kVeSFRlnMQLPwPemdl%2Bv9Eo3S2PUGCApC1Y2jTbbQIPVZMP1u1MXPNcl%2BKngkgePMlcTqFwI3i2VQBI00cicVyU%2BJC1Pau5jxKnR5dlob47D%2Bbfla5Qv7WtHESKOOqPT7SQ8DtybiyIcRzy8ssdBXujZ0CcNha4l2ATvxvEAqeF2at1UOUbcw9gRwV64SssBQrdNaAXaEItcvlOIyjzfgHQeCfjm8nPlwIYawtcSRlMFnS7DeKaT01kcSr9YZPLzOWwBNZJQ8UdYbL64%2F8bpFX8W7MK2%7Ctkp%3ABFBMvI6ri4dj                  |\n",
      "|4  |Car Accessories|Longwood, Florida, United States          |28.7008496|-81.3465575 |Unisex|2X Cup Pad Car Accessories LED Light Cover Interior Decoration Lamp 7 Colors -US|9.99 |2               |10                   |4.2   |casedazzle           |99%            |New                    |https://www.ebay.com/itm/234115698477?epid=4048929947&hash=item3682620f2d:g:v5gAAOSwSGRila2O&amdata=enc%3AAQAIAAAAwLYHu6Ve0jHIjPIhfaVKCQ17nMPp%2B3cNhGx%2BJVPzNYzxtJoMOIVjaVhhWQtCPP27Rvy857UWySCPMxopkM5oTT4wmDZifkz1R48h049Jyfa8JPdQYBcLPDkiyGEhymddBdkzycYQGXysRpkixJvq4YO%2B3HEMN12So731eKRiZorRl1L7JwjwTq2CdlNKIkAfuPUA961iYLm%2F9d5PpaxGkQhW%2Bo0GujHWOfLYtvrtw%2F3Dm7Q8p9MFjJpfaQKO9jzH6Q%3D%3D%7Ctkp%3ABk9SR7yOq4uHYw                                  |\n",
      "|5  |Car Accessories|Dumont, New Jersey, United States         |40.9406541|-73.9968051 |Unisex|Multicolor Car Interior Accessories Atmosphere LED Lights Lamp W/ Remote Control|4.05 |857             |10                   |3.0   |ciphercir3           |97%            |New                    |https://www.ebay.com/itm/374425934931?hash=item572d865c53:g:9J4AAOSwrahjqPZd&amdata=enc%3AAQAIAAAAwKYh9A7hydPkGv3MWYZVkeIL%2B9XwyzdaKTiY0ooAW8zHM8vEStVCm4h2JjGEJlErVJJFSmlR4UkYmrGOptR8IfuCElbNnBdr7FCzBTWaxnTNg7MRy5njjABkNWdn2rVzRhrWZLmsab29Z2xYTUA8T5Xsyqj8c0w0mcL8Fy%2B%2F9l3w7T84Axwq%2Fck9w%2BH2YBfLBe%2FZ0GkKxjzVC60Xz%2BFv1xGz7iFy8q%2Bo7W4PrMY%2BldN7ze%2BpBPBnkBiGS2U1zPc6AQ%3D%3D%7Ctkp%3ABk9SR7yOq4uHYw                                          |\n",
      "|6  |Car Accessories|Houston, TX, United States                |29.7589382|-95.3676974 |Unisex|2m Blue LED Car Interior Decorative Atmosphere Wire Strip Light Accessories US  |8.99 |4               |10                   |1.0   |AUXITO official store|99.6%          |New                    |https://www.ebay.com/itm/393070647324?hash=item5b84d6181c:g:J-0AAOSwS6Ff5tb0&amdata=enc%3AAQAIAAAAwEcjKjeIMaKyecuI8XT3SpG%2Be8IRt4CBXEmIL3VZi3N1B6RzJJgxAYLDmho1ilKOFDC4OWW8yCgRPcOKe3PdvAXjxG4r1oARX3wQF87pA%2BSQHyG5c%2F4G0fmQqf8JN9qa%2F4Gkn%2Bnf%2FgZbelWIVLA2IBe5XrXNuu5XH1Sp%2BiEtomJvdwg8QNaX6yIcCro2C3dGX862JpJVfg32ZU5rtVKvuWMMp%2BQUSPgp%2FLf34R6dQzwN3Hn8lTgVrpEEOZEHWYGVYQ%3D%3D%7Ctkp%3ABk9SR7yOq4uHYw                                            |\n",
      "|7  |Car Accessories|Longwood, Florida, United States          |28.7008496|-81.3465575 |Unisex|1x Mini LED USB Car Interior Neon Atmosphere Light Ambient Lamp Bulb Accessories|2.89 |379             |10                   |1.5   |faiths75             |97.2%          |New other (see details)|https://www.ebay.com/itm/235092292208?hash=item36bc97b270:g:4wIAAOSwsr9js84m&amdata=enc%3AAQAIAAAA4Fl41GzvFhy0TTqUHglO8XCq6kcRoiOR13Vh1oQTcGLyfewsqi5F3kj4CbvxVAZ8Gt%2FyK%2Bl2Dmv2msweTDwSIusGgBK41IbCy8ecvl%2FJV56p6tWqTTg%2FeSseZwKO9E3uqhgYWb6rwzF0caFaDsMYxrGneDUis%2FJIHX%2FoVPusAsaBfvpNDKgzuPbPoVRp5LLMGXZxGiiSFrBToifsxSPO%2Bzxt2NCSDnXRo63tU4JEux%2F3ppYjLBxDw06w037secuKMJcMIjG7BFTrFyG5zXKHSgelDYTNNrK2BP4oISg4gK3V%7Ctkp%3ABk9SR7yOq4uHYw          |\n",
      "|8  |Car Accessories|New York, New York, United States         |40.7127281|-74.0060152 |Unisex|New 2Pcs Car Truck Metal USA Flag Sticker American Decal Body Emblem Accessories|4.49 |23              |10                   |4.0   |ideal8253            |99.3%          |New                    |https://www.ebay.com/itm/386257919102?hash=item59eec41c7e:g:QK8AAOSwCXdlSGCK&amdata=enc%3AAQAIAAAA4HPXZRkcG%2FBsXKRT0DDrzP83nHBQ%2BAleaRaa%2BHw6TBZXP0G8Dg%2BB4XS%2BC6VzOktv7t982yuSabGMzaP0sJ9s1Ci0rMlNsCQ3OaMQgHZ3lkHyAzUC5qb%2BRoRTJddvypZ3DnJBO9GaWHpP5%2BK3%2FQDzAwX8wqSISaUl5ElescT815IqcjREiAVxlVEwifuaibNh7Oc1rl3CR%2FiXVmwtsn7%2Bf0IWh81RKU1dfEmYUx%2BGuDjk69ggKM%2F7ImxgdXdk3JFd1goNT%2Fl9VSlk5MaYJXIOtiTPfPiOM4aKWPmdBRwC84H%2B%7Ctkp%3ABFBMpo-ri4dj|\n",
      "|9  |Car Accessories|Nanuet, New York, United States           |41.0902848|-74.0148205 |Unisex|Car Auto Accessories Armrest Cushion Cover Center Console Box Pad Protector US  |4.99 |562             |10                   |1.0   |valuebuybattery      |98.3%          |New                    |https://www.ebay.com/itm/115606169905?hash=item1aeaaa2931:g:DXEAAOSwl45jdUnt&amdata=enc%3AAQAIAAAA4E15ZEi%2BRfStvc4Js12kpPzdJRqN%2Fo3wlgzzpmhqf%2FC19bHbQCAd5QO%2FYz6ltEkwCCLuPIor0BviarvsZ6Wm7zqbAB9KQnEMtYud4bM7OW6ancwOtY%2FLeXzRa31RjMsTNqlmmaCUOwWaHvB5432Sce1hjDKgbgiU16ZxxW9mP031qtrquNssvHhFe0gbSJM3OlQhNVPgPeSWwHyr0U7iw5sUUeQBceXz10genwJ2ZLouF%2BJp6lnT4dIZShD%2FgnhBgpkWfMCgcvyViWXz5Oq7zUzFPm0fhmBHELhYY3WHWmN%2B%7Ctkp%3ABFBMpo-ri4dj            |\n",
      "|10 |Car Accessories|Fountain Valley, California, United States|33.7038145|-117.9627349|Unisex|Car Accessories Auto Armrest Cushion Cover Center Console Box Pad Protector USA |13.79|73              |10                   |3.0   |Doremojp8890 Store   |98.6%          |New                    |https://www.ebay.com/itm/256153651639?hash=item3ba3f289b7:g:GhUAAOSwrZxkvhB7&amdata=enc%3AAQAIAAAA4A%2Bg4BLDA00CdIj8%2B9UriMrfPvthStOJomU8AzTsdlRLtCKyX%2B%2Frf2COm%2F9koN%2FBh%2Bl1EpYg9M2jPi%2BKRMSqXbjKb06SpUqdvUCgZrJaTnANzxrWkrwSZpxEcU%2F6OP4rPw3lPSnN0JqIC8KL2flvBjwowuEoKoa6o6NiJthTvf8BTRagB7X0QC3eFDa8dPVeTBaFKEIPl%2FOi9vI%2BuWccCUgyD6FXghKUrzCxgxB61Cz5p8B01zXKTGGIK%2Bp1yb9TTWqFkDDQS%2BIzfv1%2B5QqvqEngcWyhVDWE5GJXdUtEfZYw%7Ctkp%3ABFBMpo-ri4dj|\n",
      "|11 |Car Accessories|Alameda, California, United States        |37.6090291|-121.899142 |Unisex|Left Side Car Accessories Seat Gap Filler Phone Holder Storage Box Organizer Bag|17.26|103             |10                   |2.5   |EverydayGadgetz      |99.5%          |New                    |https://www.ebay.com/itm/134530669102?hash=item1f52a71a2e:g:luMAAOSwhhxkOIBP&amdata=enc%3AAQAIAAAA4PHIE79H0%2B%2BS51q7iBU9oQu65BFO5tn%2BkhMjKpVi8TdtQy0RjzluFgjmDSbYUaM5hssDqlJZniKajRiYl2rWNXh0tXMFo1piYeBr7KMbw4eeRhHPFBHysVvQvgkCKRwGk6Yn4ziEOT7dfyyhgjkH%2Btcjvur7vMlV%2F19AhoCXzoW1OgY8wVa%2FZjEzwtwfuceDUBvRubI73IXj6fZAojKbpv3T6SpgB9synEv4Qqku%2F3QXg2qNmGN05Q%2FsWhWXLT%2B86aqyNq9FwVbFqejUh755GaH%2BSbAo3yWfk891r3Nl6xj4%7Ctkp%3ABFBMpo-ri4dj        |\n",
      "|12 |Car Accessories|Longwood, Florida, United States          |28.7008496|-81.3465575 |Unisex|USB Car Accessories Interior Atmosphere Star Sky Lamp Ambient Night Lights US   |4.69 |45              |10                   |5.0   |Sheve101             |98.5%          |New                    |https://www.ebay.com/itm/355018600841?hash=item52a8c1f189:g:D04AAOSwOCZk9vbf&amdata=enc%3AAQAIAAAA4AB9VXUje1nbj7iK6XrRt5q5wiMJQBJgAvNWpC3Q1Dfkq52yzPvRaW9OKqZTwYurRf3O7J1%2FiVDD23ruGaE78iDOR%2B1ugDY8LgrATXpBxnLVpKMLytJtkuCTM%2FDi3p4MHyJ%2FEs9ghwEAh1cdaDVhe%2BtSHGxE5c2xrtSOAzAdrjmH7rXvt6E3KGbUpXGufbF9De1Lqmw7CmrX1RUGsS%2BUNc517shmL5hbgTkh89AX9%2FxwU715pT9SJ9rE7kGdUxK81UUKbhZj3UPQ2vIXBYtzCoIETFNGfRs%2BLuN%2F6ETgWHIe%7Ctkp%3ABFBMpo-ri4dj          |\n",
      "|13 |Car Accessories|Hebron, Kentucky, United States           |39.065813 |-84.7027575 |Unisex|Car Accessories Armrest Cushion Cover Center Console Box Pad Protector Universal|4.99 |186             |8                    |1.0   |quadpartstore4       |99.5%          |New                    |https://www.ebay.com/itm/394832694426?hash=item5beddccc9a:g:PysAAOSwLwhk-tbT&amdata=enc%3AAQAIAAAA4F%2FXtjSVnygXeDOxzrpwEBEiYKF8E7TVp32WOOiVSy1a5ruS3HwQRa8Y2g4AK5kVVzM9%2FfNAX5ERKHZUWctoD069UTjPBTpzYGwkDegmoEg4YKeYDFD%2B6AGNyjsvP9%2FfDLL8%2FECC%2FhLAUr2XfOYlMwNyErCfPNKnRkkUw4wL5CvlhlXva0GB%2BCNj6tC39ejH%2F5ns9XdaxrkHDgjGJQc19y%2BrM0AouQhA4TXCmp3i3wOSaL5G9Okt9CBAsJWyHJYhHOeCiDqPd6G7g0kQ0xxh3bKL5sjvurym2YQAGQOAMwCY%7Ctkp%3ABFBMpo-ri4dj          |\n",
      "|14 |Car Accessories|New York, New York, United States         |40.7127281|-74.0060152 |Unisex|28Pcs Car Interior LED Light For Dome Map License Plate Lamp Bulbs Accessories  |9.99 |187             |10                   |4.5   |autocarlighting9012  |98.7%          |New                    |https://www.ebay.com/itm/314159806573?hash=item492562386d:g:z4sAAOSwyvxjLncd&amdata=enc%3AAQAIAAAA4FO2UQ%2BD%2FJ%2FfK9tg6%2BT4sDUGyYuTERM%2FLv30sdfsHbimOaEL49XtJogF7WIBXhCEe554CW6%2BUNKwk8IR33kSXurqNWN4CHAxOxQ6IsQGgpE9RqDBR%2Bte0rFgjpTlEyGR7tkNYYn9dGfOx6zRaExx87V4vRmjTgtU5pJmLsuia%2BRXi0bH255piCwZnDmzafAJ7pxESOd5PU%2B%2BBxCytZ9hbhwhJFbMfcELOD8GJ0aZ%2BPQ9V3SKc06UoUabfHU3R2J0k70b8GzwTjDD60S22ajfJ74Ke%2FejsJbDeh9rElyAfYUG%7Ctkp%3ABFBMpo-ri4dj    |\n",
      "|15 |Car Accessories|Fountain Valley, California, United States|33.7038145|-117.9627349|Unisex|Car Sun Shade Side Window Curtain Auto Foldable UV Protection Accessories Kit US|13.79|449             |6                    |2.0   |entaifirst           |98.6%          |New                    |https://www.ebay.com/itm/144156678993?hash=item2190685b51:g:1qYAAOSwBYxhGcXE&amdata=enc%3AAQAIAAAA4Du1%2F%2FaycDBDDyoFea4mflMgwKEFlPI2jk4UWZce0klKc%2F8Sy9lJN%2Fi208HQ5ic9Yx7C1k%2BMJV%2FnA08shDpPOq2FsYLZLYufjJCEjxKyfxqlZx7XxKek53Te0nVxNpsfy6XN5Kp71nmcdZAAk0LM3%2FZkVXimpjaDN1ssRG9WAvdK2gsPCfS9mlSZcUqewBjMAw0kYpgBcQbI9Au%2Bpbv%2BRjjJ9H17LhUgKAjMiaBMrCbmBGqNdnn4EiJwlIACDV7UoRV3i0kqu%2FvIpVjsmzoG2eELojPnx1R4qZjCLdUygu6S%7Ctkp%3ABFBMpo-ri4dj        |\n",
      "|16 |Car Accessories|Houston, TX, United States                |29.7589382|-95.3676974 |Unisex|Universal White Flexible Car Hood Day Running LED Light Strip Accessories USA   |11.96|440             |10                   |4.5   |adjac-37             |96.4%          |New                    |https://www.ebay.com/itm/125900096542?hash=item1d503b041e:g:AN4AAOSwIN5kRcii&amdata=enc%3AAQAIAAAAwGa2JOJS5%2FYdqPYxcLej%2BoUAfdIVhT4nLAlSykUbE0tEYq1%2Fc6UVmquX3nl4PYwmNWh6IZNGqF3e5u3TQwViCCB4EsZhm92VYC9qpts%2Fm4G6hNU0d0gaCNPH7CJb%2F%2B2gzGCau82l4fxoiPL7LLdRRFtmX1OTF6VH8l5a7mdSO3OfgbcFgINOiveKJZTwiuSIBALmIDRTDgjZTbi%2Fkq6Yp%2FO6K%2FSXJrHoJ4B0irZ3MJmkVITMH1IC6SIp9MLVqL3XJg%3D%3D%7Ctkp%3ABk9SR7yOq4uHYw                                            |\n",
      "|17 |Car Accessories|New York, New York, United States         |40.7127281|-74.0060152 |Unisex|USB Car Accessories Interior Atmosphere Star Sky Lamp Ambient Night Lights US   |5.9  |1               |10                   |3.7   |iokhouse-19          |99%            |New                    |https://www.ebay.com/itm/394155116736?hash=item5bc579c8c0:g:t9MAAOSwGcNjMQPJ&amdata=enc%3AAQAIAAAA4DHcqCP7c27DbVHewyPBI5yaaZQc8m30FtA8swXuXqbl631P4uloj22UFVGGQSCGoREjmVCu9%2FtYdGnlHgfZ10MYkxScxwaFYNoyFjgLNttOOvmRGZJtu3KCISQK%2Fhd9zOGOcSntvh9UPYsquOm1PK7pNSdq7Zm0jCRmPLi5ILCvyxJu3ci1dawTUvHTBvT%2FMGSzWBefFQOukTleqkEwFN4I4v5K5AtN628uNOQS9rMZ4dsPW0qpIGuWeVRJ8DXT8geoasiH8a7ramO%2FX8oOZtYj8wq%2Fk9qEITzPBTymXIqk%7Ctkp%3ABk9SR76Oq4uHYw                |\n",
      "|18 |Car Accessories|Houston, TX, United States                |29.7589382|-95.3676974 |Unisex|Universal Blue Luminous Car Interior Window Door Switch Sticker Car Accessories |3.87 |183             |10                   |4.5   |dolphin4107          |98.3%          |New                    |https://www.ebay.com/itm/364222974114?hash=item54cd6188a2:g:OPAAAOSwqa9kPi1r&amdata=enc%3AAQAIAAAA4NEGD7QSlg36Fjm6x0jN2Ckgvn3nfPHbcNCJlI04iPIySO7mlZWu%2FoNtn4Tkrb8Me9XlJT0YLnOk7PAGOSbDropH9aFRb6JMIMucZoi7Yw%2Byar5lAhUho1M8G4plHDEtCKUBu3X%2BHd2SXgDsNbTqoKMKbqNjCLEcjV92i9vfxYObk%2By26xHCsch%2BVB8xoqJSBHuG4Wze9BHGhs0SKfQwNhWmJAHYh8JC3avFulLRslPkgXHDhLxyxbWVeJRzgRZuStMGUmrVO1wEGCr%2BIvPPGvqc4CF6ok%2Fndo7LF6hivp1N%7Ctkp%3ABk9SR76Oq4uHYw            |\n",
      "|19 |Car Accessories|Longwood, Florida, United States          |28.7008496|-81.3465575 |Unisex|SUV Car Accessories Envelope Style Trunk Cargo Net Storage Organizer Universal  |9.95 |1               |10                   |2.5   |fantastic_fairing    |98.6%          |New                    |https://www.ebay.com/itm/165535462352?hash=item268aaeb3d0:g:bDMAAOSw81Jg57UE&amdata=enc%3AAQAIAAAA4LxavwJv4jkxv72vUFBR%2BrliwK6%2BgIWy9iR3CpJjRpAdq3vPbtB4MrHP%2FWyQHe%2BFTsm6kKXZKS%2F0WPqqWoDmHK87jWfdJfrqwX%2F1X9BPcoMI0LX6Bborwbt0RDzr8Vgp9yfWWuvYHlz%2FBlhJk1HaQ3NYGOVqZHebNwZIhchYTi3%2BydSRK3Be2VIomdCvg0VTrHK7c7a1PXG%2BfMipTAtfYSETKd9yFHFWt7wiDCFdICyEumVBEsX%2Bj%2FJ8HjtzOXMaw%2BA%2BydW1w0xtWYqXnwEBkLqIc36euaOGbx5st9MgGplv%7Ctkp%3ABk9SR76Oq4uHYw|\n",
      "+---+---------------+------------------------------------------+----------+------------+------+--------------------------------------------------------------------------------+-----+----------------+---------------------+------+---------------------+---------------+-----------------------+---------------------------------------------------------------------------------------------------------------------------------------------------------------------------------------------------------------------------------------------------------------------------------------------------------------------------------------------------------------------------------------------------------------------------------------------------------------+\n"
     ]
    }
   ],
   "source": [
    "from pyspark.sql.functions import col\n",
    "\n",
    "# Define the allowed categories\n",
    "allowed_categories = [\n",
    "    \"Antiques\",\n",
    "    \"Men Accessories\"\n",
    "    \"Home and Industrial Accessories\",\n",
    "    \"Vehicles\",\n",
    "    \"Kids\",\n",
    "    \"Electronics\",\n",
    "    \"Automotive\",\n",
    "    \"Sports\",\n",
    "    \"Women Clothing\",\n",
    "    \"Musical Instruments\",\n",
    "    \"Car Accessories\",\n",
    "    \"Miscellaneous\"\n",
    "]\n",
    "\n",
    "# Filter the DataFrame to keep only the allowed categories\n",
    "final_dataset = final_dataset.filter(col(\"Category\").isin(allowed_categories))\n",
    "\n",
    "# Show the result or perform further analysis as needed\n",
    "final_dataset.show(truncate=False)\n"
   ],
   "metadata": {
    "collapsed": false,
    "ExecuteTime": {
     "end_time": "2023-12-07T02:46:20.193822700Z",
     "start_time": "2023-12-07T02:46:19.976821400Z"
    }
   },
   "id": "dda531c9da12398b"
  },
  {
   "cell_type": "code",
   "execution_count": 9,
   "outputs": [],
   "source": [
    "final_dataset.coalesce(1).write.csv(\"E:\\\\Ebay Data Analysis\\\\Ebay_Analysis\\\\Output\", header=True, mode=\"overwrite\")"
   ],
   "metadata": {
    "collapsed": false,
    "ExecuteTime": {
     "end_time": "2023-12-07T02:47:50.796549200Z",
     "start_time": "2023-12-07T02:47:42.272551200Z"
    }
   },
   "id": "6a6b8ba1789e80a4"
  },
  {
   "cell_type": "code",
   "execution_count": 36,
   "outputs": [
    {
     "name": "stdout",
     "output_type": "stream",
     "text": [
      "root\n",
      " |-- Gender: string (nullable = true)\n",
      " |-- Title: string (nullable = true)\n",
      " |-- Price: string (nullable = true)\n",
      " |-- Total Sold: string (nullable = true)\n",
      " |-- Total Available: string (nullable = true)\n",
      " |-- Location: string (nullable = true)\n",
      " |-- Rating: string (nullable = true)\n",
      " |-- Seller Name: string (nullable = true)\n",
      " |-- Seller Feedback: string (nullable = true)\n",
      " |-- Product Condition: string (nullable = true)\n",
      " |-- URL: string (nullable = true)\n",
      " |-- Category: string (nullable = false)\n"
     ]
    }
   ],
   "source": [
    "from pyspark.sql.functions import lit\n",
    "\n",
    "column_names = [\"Gender\", \"Title\", \"Price\", \"Total Sold\", \"Total Available\", \"Location\", \"Rating\", \"Seller Name\", \"Seller Feedback\", \"Product Condition\", \"URL\"]\n",
    "\n",
    "# Assuming data is your DataFrame with the default column names\n",
    "women_clothing_df = women_clothing_df.toDF(*column_names)\n",
    "\n",
    "women_clothing_df = women_clothing_df.withColumn('Category', lit('Women Clothing'))\n",
    "# Now you can explore the dataframe with the correct column names\n",
    "women_clothing_df.printSchema()\n",
    "\n"
   ],
   "metadata": {
    "collapsed": false,
    "ExecuteTime": {
     "end_time": "2023-12-05T19:08:38.113447500Z",
     "start_time": "2023-12-05T19:08:38.050946800Z"
    }
   },
   "id": "a9813b6f70216ad3"
  },
  {
   "cell_type": "code",
   "execution_count": 37,
   "outputs": [
    {
     "name": "stdout",
     "output_type": "stream",
     "text": [
      "+------+--------------------+------------+----------+--------------------+--------------------+-------------+---------------+---------------+-----------------+--------------------+--------------+\n",
      "|Gender|               Title|       Price|Total Sold|     Total Available|            Location|       Rating|    Seller Name|Seller Feedback|Product Condition|                 URL|      Category|\n",
      "+------+--------------------+------------+----------+--------------------+--------------------+-------------+---------------+---------------+-----------------+--------------------+--------------+\n",
      "|Unisex|Faux PU Leather S...|US $16.99/ea|1,992 sold|         9 available|San Francisco, Ca...|Not Available|    1 To 3 Shop|          98.8%|    New with tags|https://www.ebay....|Women Clothing|\n",
      "|Female|Women's Cotton Bl...|   US $21.98|3,023 sold|        13 available|Las Vegas, Nevada...|Not Available|   auctiontrove|          99.8%|    New with tags|https://www.ebay....|Women Clothing|\n",
      "|Female|Women Winter Warm...|   US $14.10|  578 sold|More than 10 avai...|Alameda, Californ...|Not Available|EverydayGadgetz|          99.5%|    New with tags|https://www.ebay....|Women Clothing|\n",
      "|Female|JVINI Women's Hig...| US $6.86/ea|  288 sold|         6 available|Los Angeles, Cali...|Not Available|          JVINI|          98.6%|    New with tags|https://www.ebay....|Women Clothing|\n",
      "|Female|Women's Winter Wa...| US $8.95/ea|4,300 sold|More than 10 avai...|City of Industry,...|Not Available|    ekimosports|          99.4%|    New with tags|https://www.ebay....|Women Clothing|\n",
      "|Female|Fleece Lined Legg...|    US $7.95|  221 sold|More than 10 avai...|Lomita, Californi...|Not Available|      maxxilano|          99.5%|    New with tags|https://www.ebay....|Women Clothing|\n",
      "|Female|Women Winter Warm...|US $10.92/ea|   80 sold|More than 10 avai...|Piscataway, New J...|Not Available|     casedazzle|            99%| New without tags|https://www.ebay....|Women Clothing|\n",
      "|Female|Women Fleece Line...|    US $8.49|8,155 sold|More than 10 avai...|Lomita, Californi...|Not Available|      maxxilano|          99.5%|    New with tags|https://www.ebay....|Women Clothing|\n",
      "|Unisex|Faux PU Leather S...|US $16.99/ea|1,992 sold|         9 available|San Francisco, Ca...|Not Available|    1 To 3 Shop|          98.8%|    New with tags|https://www.ebay....|Women Clothing|\n",
      "|Female|Women's Cotton Bl...|   US $21.98|3,023 sold|        13 available|Las Vegas, Nevada...|Not Available|   auctiontrove|          99.8%|    New with tags|https://www.ebay....|Women Clothing|\n",
      "|Female|Women Winter Sher...|   US $14.95|   59 sold|More than 10 avai...|Piscataway, New J...|Not Available|     Ecclegends|          99.3%| New without tags|https://www.ebay....|Women Clothing|\n",
      "|Female|Women Winter Warm...|    US $8.51|   33 sold|More than 10 avai...|Piscataway, New J...|Not Available|         tsuinz|          98.9%| New without tags|https://www.ebay....|Women Clothing|\n",
      "|Female|Women's Sexy High...|   US $16.99|   29 sold|            Last One|San Francisco, Ca...|Not Available|    1 To 3 Shop|          98.8%|    New with tags|https://www.ebay....|Women Clothing|\n",
      "|Female|Women's High-Rise...| US $8.68/ea|  128 sold|         6 available|Los Angeles, Cali...|Not Available|          JVINI|          98.6%|    New with tags|https://www.ebay....|Women Clothing|\n",
      "|Female|Womens Fleece Lin...| US $7.95/ea|   42 sold|More than 10 avai...|Lomita, Californi...|Not Available|      maxxilano|          99.5%|    New with tags|https://www.ebay....|Women Clothing|\n",
      "|Female|Womens Buttery Ul...| US $3.31/ea|   71 sold|         3 available|Los Angeles, Cali...|Not Available|          JVINI|          98.6%|    New with tags|https://www.ebay....|Women Clothing|\n",
      "|Female|Womens Fleece Lin...| US $7.95/ea|   42 sold|More than 10 avai...|Lomita, Californi...|Not Available|      maxxilano|          99.5%|    New with tags|https://www.ebay....|Women Clothing|\n",
      "|Female|Women Winter Sher...|   US $14.95|   59 sold|More than 10 avai...|Piscataway, New J...|Not Available|     Ecclegends|          99.3%| New without tags|https://www.ebay....|Women Clothing|\n",
      "|Female|ON SALE!! Women F...|   US $15.99|  187 sold|More than 10 avai...|Brisbane, Califor...|Not Available|  Cosplay-Party|          98.7%|    New with tags|https://www.ebay....|Women Clothing|\n",
      "|Female|Fleece Lined Legg...| US $8.95/ea|4,693 sold|More than 10 avai...|City of Industry,...|Not Available|    zubbconcept|          98.2%|    New with tags|https://www.ebay....|Women Clothing|\n",
      "+------+--------------------+------------+----------+--------------------+--------------------+-------------+---------------+---------------+-----------------+--------------------+--------------+\n"
     ]
    }
   ],
   "source": [
    "from pyspark.sql.functions import monotonically_increasing_id\n",
    "\n",
    "\n",
    "elec_auto_df_with_id = women_clothing_df.withColumn(\"row_id\", monotonically_increasing_id())\n",
    "\n",
    "# Identify the row to be deleted (in this case, the first row)\n",
    "women_clothing_df = elec_auto_df_with_id.filter(\"row_id != 0\")\n",
    "\n",
    "# Drop the identifier column if not needed\n",
    "women_clothing_df = women_clothing_df.drop(\"row_id\")\n",
    "\n",
    "\n",
    "# Show the result or proceed with further analysis\n",
    "women_clothing_df.show()"
   ],
   "metadata": {
    "collapsed": false,
    "ExecuteTime": {
     "end_time": "2023-12-05T19:08:51.186958500Z",
     "start_time": "2023-12-05T19:08:49.144095800Z"
    }
   },
   "id": "8477e811aa29efd"
  },
  {
   "cell_type": "code",
   "execution_count": 38,
   "outputs": [
    {
     "name": "stdout",
     "output_type": "stream",
     "text": [
      "+---+--------------+------+--------------------+------------+----------+--------------------+--------------------+-------------+---------------+---------------+-----------------+--------------------+\n",
      "|PID|      Category|Gender|               Title|       Price|Total Sold|     Total Available|            Location|       Rating|    Seller Name|Seller Feedback|Product Condition|                 URL|\n",
      "+---+--------------+------+--------------------+------------+----------+--------------------+--------------------+-------------+---------------+---------------+-----------------+--------------------+\n",
      "|  0|Women Clothing|Unisex|Faux PU Leather S...|US $16.99/ea|1,992 sold|         9 available|San Francisco, Ca...|Not Available|    1 To 3 Shop|          98.8%|    New with tags|https://www.ebay....|\n",
      "|  1|Women Clothing|Female|Women's Cotton Bl...|   US $21.98|3,023 sold|        13 available|Las Vegas, Nevada...|Not Available|   auctiontrove|          99.8%|    New with tags|https://www.ebay....|\n",
      "|  2|Women Clothing|Female|Women Winter Warm...|   US $14.10|  578 sold|More than 10 avai...|Alameda, Californ...|Not Available|EverydayGadgetz|          99.5%|    New with tags|https://www.ebay....|\n",
      "|  3|Women Clothing|Female|JVINI Women's Hig...| US $6.86/ea|  288 sold|         6 available|Los Angeles, Cali...|Not Available|          JVINI|          98.6%|    New with tags|https://www.ebay....|\n",
      "|  4|Women Clothing|Female|Women's Winter Wa...| US $8.95/ea|4,300 sold|More than 10 avai...|City of Industry,...|Not Available|    ekimosports|          99.4%|    New with tags|https://www.ebay....|\n",
      "|  5|Women Clothing|Female|Fleece Lined Legg...|    US $7.95|  221 sold|More than 10 avai...|Lomita, Californi...|Not Available|      maxxilano|          99.5%|    New with tags|https://www.ebay....|\n",
      "|  6|Women Clothing|Female|Women Winter Warm...|US $10.92/ea|   80 sold|More than 10 avai...|Piscataway, New J...|Not Available|     casedazzle|            99%| New without tags|https://www.ebay....|\n",
      "|  7|Women Clothing|Female|Women Fleece Line...|    US $8.49|8,155 sold|More than 10 avai...|Lomita, Californi...|Not Available|      maxxilano|          99.5%|    New with tags|https://www.ebay....|\n",
      "|  8|Women Clothing|Unisex|Faux PU Leather S...|US $16.99/ea|1,992 sold|         9 available|San Francisco, Ca...|Not Available|    1 To 3 Shop|          98.8%|    New with tags|https://www.ebay....|\n",
      "|  9|Women Clothing|Female|Women's Cotton Bl...|   US $21.98|3,023 sold|        13 available|Las Vegas, Nevada...|Not Available|   auctiontrove|          99.8%|    New with tags|https://www.ebay....|\n",
      "| 10|Women Clothing|Female|Women Winter Sher...|   US $14.95|   59 sold|More than 10 avai...|Piscataway, New J...|Not Available|     Ecclegends|          99.3%| New without tags|https://www.ebay....|\n",
      "| 11|Women Clothing|Female|Women Winter Warm...|    US $8.51|   33 sold|More than 10 avai...|Piscataway, New J...|Not Available|         tsuinz|          98.9%| New without tags|https://www.ebay....|\n",
      "| 12|Women Clothing|Female|Women's Sexy High...|   US $16.99|   29 sold|            Last One|San Francisco, Ca...|Not Available|    1 To 3 Shop|          98.8%|    New with tags|https://www.ebay....|\n",
      "| 13|Women Clothing|Female|Women's High-Rise...| US $8.68/ea|  128 sold|         6 available|Los Angeles, Cali...|Not Available|          JVINI|          98.6%|    New with tags|https://www.ebay....|\n",
      "| 14|Women Clothing|Female|Womens Fleece Lin...| US $7.95/ea|   42 sold|More than 10 avai...|Lomita, Californi...|Not Available|      maxxilano|          99.5%|    New with tags|https://www.ebay....|\n",
      "| 15|Women Clothing|Female|Womens Buttery Ul...| US $3.31/ea|   71 sold|         3 available|Los Angeles, Cali...|Not Available|          JVINI|          98.6%|    New with tags|https://www.ebay....|\n",
      "| 16|Women Clothing|Female|Womens Fleece Lin...| US $7.95/ea|   42 sold|More than 10 avai...|Lomita, Californi...|Not Available|      maxxilano|          99.5%|    New with tags|https://www.ebay....|\n",
      "| 17|Women Clothing|Female|Women Winter Sher...|   US $14.95|   59 sold|More than 10 avai...|Piscataway, New J...|Not Available|     Ecclegends|          99.3%| New without tags|https://www.ebay....|\n",
      "| 18|Women Clothing|Female|ON SALE!! Women F...|   US $15.99|  187 sold|More than 10 avai...|Brisbane, Califor...|Not Available|  Cosplay-Party|          98.7%|    New with tags|https://www.ebay....|\n",
      "| 19|Women Clothing|Female|Fleece Lined Legg...| US $8.95/ea|4,693 sold|More than 10 avai...|City of Industry,...|Not Available|    zubbconcept|          98.2%|    New with tags|https://www.ebay....|\n",
      "+---+--------------+------+--------------------+------------+----------+--------------------+--------------------+-------------+---------------+---------------+-----------------+--------------------+\n"
     ]
    }
   ],
   "source": [
    "women_clothing_df = women_clothing_df.withColumn(\"PID\", monotonically_increasing_id())\n",
    "# women_clothing_df = women_clothing_df.select(\"PID\", *women_clothing_df.columns)\n",
    "# Show the DataFrame with the new \"PID\" column\n",
    "women_clothing_df = women_clothing_df.select('PID', 'Category', *[col for col in women_clothing_df.columns if col not in ['PID', 'Category']])\n",
    "\n",
    "\n",
    "women_clothing_df.show()"
   ],
   "metadata": {
    "collapsed": false,
    "ExecuteTime": {
     "end_time": "2023-12-05T19:11:28.000860700Z",
     "start_time": "2023-12-05T19:11:26.468691400Z"
    }
   },
   "id": "70bd5d5f14ca3820"
  },
  {
   "cell_type": "code",
   "execution_count": 39,
   "outputs": [],
   "source": [
    "from pyspark.sql.functions import regexp_replace, col, regexp_extract, when, rand, round\n",
    "\n",
    "women_clothing_df_temp = women_clothing_df.withColumn(\"Price\", regexp_replace(col(\"Price\"), \"[^0-9.]\", \"\"))\n",
    "\n",
    "# Convert the \"Price\" column to a numeric format\n",
    "women_clothing_df_temp = women_clothing_df_temp.withColumn(\"Price\", col(\"Price\").cast(\"float\"))\n",
    "\n",
    "women_clothing_df_temp = women_clothing_df_temp.withColumn(\"Total Sold\",\n",
    "                                                                 regexp_extract(col(\"Total Sold\"), r'(\\d+)', 1).cast(\"integer\"))\n",
    "\n",
    "women_clothing_df_temp = women_clothing_df_temp.withColumn(\"Rating\",\n",
    "                                                                 when(col(\"Rating\") == \"Not Available\",\n",
    "                                                                      (round(rand() * 9 + 1) / 2).cast(\"float\"))\n",
    "                                                                 .otherwise(col(\"Rating\").cast(\"float\")))\n",
    "\n",
    "women_clothing_df_temp = women_clothing_df_temp.withColumn(\"Total Available\",\n",
    "                                                                 regexp_extract(col(\"Total Available\"), r'(\\d+)', 1).cast(\"integer\"))\n",
    "\n"
   ],
   "metadata": {
    "collapsed": false,
    "ExecuteTime": {
     "end_time": "2023-12-05T19:12:05.297023100Z",
     "start_time": "2023-12-05T19:12:05.203283400Z"
    }
   },
   "id": "36eb0c06caa7a2b8"
  },
  {
   "cell_type": "code",
   "execution_count": 40,
   "outputs": [
    {
     "name": "stdout",
     "output_type": "stream",
     "text": [
      "+---+--------------+------+--------------------+-----+----------+---------------+--------------------+------+---------------+---------------+-----------------+--------------------+\n",
      "|PID|      Category|Gender|               Title|Price|Total Sold|Total Available|            Location|Rating|    Seller Name|Seller Feedback|Product Condition|                 URL|\n",
      "+---+--------------+------+--------------------+-----+----------+---------------+--------------------+------+---------------+---------------+-----------------+--------------------+\n",
      "|  0|Women Clothing|Unisex|Faux PU Leather S...|16.99|         1|              9|San Francisco, Ca...|   1.5|    1 To 3 Shop|          98.8%|    New with tags|https://www.ebay....|\n",
      "|  1|Women Clothing|Female|Women's Cotton Bl...|21.98|         3|             13|Las Vegas, Nevada...|   3.5|   auctiontrove|          99.8%|    New with tags|https://www.ebay....|\n",
      "|  2|Women Clothing|Female|Women Winter Warm...| 14.1|       578|             10|Alameda, Californ...|   2.0|EverydayGadgetz|          99.5%|    New with tags|https://www.ebay....|\n",
      "|  3|Women Clothing|Female|JVINI Women's Hig...| 6.86|       288|              6|Los Angeles, Cali...|   4.0|          JVINI|          98.6%|    New with tags|https://www.ebay....|\n",
      "|  4|Women Clothing|Female|Women's Winter Wa...| 8.95|         4|             10|City of Industry,...|   0.5|    ekimosports|          99.4%|    New with tags|https://www.ebay....|\n",
      "|  5|Women Clothing|Female|Fleece Lined Legg...| 7.95|       221|             10|Lomita, Californi...|   1.5|      maxxilano|          99.5%|    New with tags|https://www.ebay....|\n",
      "|  6|Women Clothing|Female|Women Winter Warm...|10.92|        80|             10|Piscataway, New J...|   1.0|     casedazzle|            99%| New without tags|https://www.ebay....|\n",
      "|  7|Women Clothing|Female|Women Fleece Line...| 8.49|         8|             10|Lomita, Californi...|   4.0|      maxxilano|          99.5%|    New with tags|https://www.ebay....|\n",
      "|  8|Women Clothing|Unisex|Faux PU Leather S...|16.99|         1|              9|San Francisco, Ca...|   2.5|    1 To 3 Shop|          98.8%|    New with tags|https://www.ebay....|\n",
      "|  9|Women Clothing|Female|Women's Cotton Bl...|21.98|         3|             13|Las Vegas, Nevada...|   3.5|   auctiontrove|          99.8%|    New with tags|https://www.ebay....|\n",
      "| 10|Women Clothing|Female|Women Winter Sher...|14.95|        59|             10|Piscataway, New J...|   1.0|     Ecclegends|          99.3%| New without tags|https://www.ebay....|\n",
      "| 11|Women Clothing|Female|Women Winter Warm...| 8.51|        33|             10|Piscataway, New J...|   2.5|         tsuinz|          98.9%| New without tags|https://www.ebay....|\n",
      "| 12|Women Clothing|Female|Women's Sexy High...|16.99|        29|           NULL|San Francisco, Ca...|   5.0|    1 To 3 Shop|          98.8%|    New with tags|https://www.ebay....|\n",
      "| 13|Women Clothing|Female|Women's High-Rise...| 8.68|       128|              6|Los Angeles, Cali...|   2.0|          JVINI|          98.6%|    New with tags|https://www.ebay....|\n",
      "| 14|Women Clothing|Female|Womens Fleece Lin...| 7.95|        42|             10|Lomita, Californi...|   1.0|      maxxilano|          99.5%|    New with tags|https://www.ebay....|\n",
      "| 15|Women Clothing|Female|Womens Buttery Ul...| 3.31|        71|              3|Los Angeles, Cali...|   1.5|          JVINI|          98.6%|    New with tags|https://www.ebay....|\n",
      "| 16|Women Clothing|Female|Womens Fleece Lin...| 7.95|        42|             10|Lomita, Californi...|   2.0|      maxxilano|          99.5%|    New with tags|https://www.ebay....|\n",
      "| 17|Women Clothing|Female|Women Winter Sher...|14.95|        59|             10|Piscataway, New J...|   3.5|     Ecclegends|          99.3%| New without tags|https://www.ebay....|\n",
      "| 18|Women Clothing|Female|ON SALE!! Women F...|15.99|       187|             10|Brisbane, Califor...|   3.5|  Cosplay-Party|          98.7%|    New with tags|https://www.ebay....|\n",
      "| 19|Women Clothing|Female|Fleece Lined Legg...| 8.95|         4|             10|City of Industry,...|   2.5|    zubbconcept|          98.2%|    New with tags|https://www.ebay....|\n",
      "+---+--------------+------+--------------------+-----+----------+---------------+--------------------+------+---------------+---------------+-----------------+--------------------+\n"
     ]
    }
   ],
   "source": [
    "# women_clothing_df_temp = women_clothing_df_temp.drop(\"PID\")\n",
    "women_clothing_df_temp.show()"
   ],
   "metadata": {
    "collapsed": false,
    "ExecuteTime": {
     "end_time": "2023-12-05T19:12:08.177270Z",
     "start_time": "2023-12-05T19:12:06.581572300Z"
    }
   },
   "id": "8790d6150dc10cf9"
  },
  {
   "cell_type": "code",
   "execution_count": 44,
   "outputs": [
    {
     "name": "stdout",
     "output_type": "stream",
     "text": [
      "+-----------+--------------+------+--------------------+-----+----------+---------------+--------------------+------+--------------------+---------------+-----------------+--------------------+\n",
      "|        PID|      Category|Gender|               Title|Price|Total Sold|Total Available|            Location|Rating|         Seller Name|Seller Feedback|Product Condition|                 URL|\n",
      "+-----------+--------------+------+--------------------+-----+----------+---------------+--------------------+------+--------------------+---------------+-----------------+--------------------+\n",
      "|25769805213|Women Clothing|Unisex|NEW LADIES ITALIA...|17.99|       975|              6|       Not Available|   1.0|          elabelleuk|           100%|    New with tags|https://www.ebay....|\n",
      "|60129544846|Women Clothing|Female|Sexy Women's Deep...|13.99|       972|             10|       Not Available|   1.5|           Kaylee_xo|           100%| New without tags|https://www.ebay....|\n",
      "|        844|Women Clothing|Female|Womens 3/4 Length...| 4.99|       963|              6|Leicester, United...|   3.5|The Celebrity Fas...|          97.5%|    New with tags|https://www.ebay....|\n",
      "|        823|Women Clothing|Female|Womens 3/4 Length...| 4.99|       963|              6|Leicester, United...|   1.0|The Celebrity Fas...|          97.5%|    New with tags|https://www.ebay....|\n",
      "|17179873218|Women Clothing|Unisex|Essentials Fleece...| 34.0|       958|             10|Spartanburg, Sout...|   2.5|              adidas|          98.2%|    New with tags|https://www.ebay....|\n",
      "|17179873256|Women Clothing|Unisex|Essentials Fleece...| 34.0|       958|             10|Spartanburg, Sout...|   2.0|              adidas|          98.2%|    New with tags|https://www.ebay....|\n",
      "|51539608104|Women Clothing|Female|Womens Heel Knee ...|37.99|       951|           NULL|North Bergen, New...|   3.5|       goldenshoes88|         99.40%|     New with box|https://www.ebay....|\n",
      "|17179873260|Women Clothing|Female|Women's Winter Pl...|21.95|       946|              4|Ridgewood, New Yo...|   3.0|      Boutique4Divas|          99.1%|    New with tags|https://www.ebay....|\n",
      "|         62|Women Clothing|Female|Women's Winter Pl...|21.95|       946|              4|Ridgewood, New Yo...|   3.0|      Boutique4Divas|          99.1%|    New with tags|https://www.ebay....|\n",
      "|17179873609|Women Clothing|Female|Women Sweatpants ...|12.99|       946|              6|Walnut, Californi...|   0.5|       SPECIAL MAGIC|          99.4%|    New with tags|https://www.ebay....|\n",
      "|        864|Women Clothing|Female|Womens Harem Trou...| 9.99|       946|              7|Leicester, United...|   1.0|The Celebrity Fas...|          97.5%|    New with tags|https://www.ebay....|\n",
      "|60129544260|Women Clothing|Female|Women's Basic Lon...| 9.99|       942|             10|Cape Coral, Flori...|   4.0|       TIckled Tunic|         99.30%| New without tags|https://www.ebay....|\n",
      "|25769805923|Women Clothing|Unisex|Tommie Copper Kne...| 29.5|       940|              6|Clifton, New Jers...|   3.0|TommieCopper.com ...|          98.9%|              New|https://www.ebay....|\n",
      "|25769803788|Women Clothing|Female|2 PACK LADIES BOO...| 9.99|       932|              3|       Not Available|   4.5|        Stylo Online|          98.7%|    New with tags|https://www.ebay....|\n",
      "|34359745201|Women Clothing|Unisex|Ex M&S Ladies Str...|17.99|       930|              3|Cheshire, United ...|   3.5|  fashionlabels4less|          99.6%| New without tags|https://www.ebay....|\n",
      "|17179873235|Women Clothing|Unisex|Adicolor Classics...| 20.0|       920|             10|Spartanburg, Sout...|   3.0|              adidas|          98.2%|    New with tags|https://www.ebay....|\n",
      "|        797|Women Clothing|Female|PACK OF 2 WOMENS ...| 9.97|       916|              3|       Not Available|   2.5|         MyShoeStore|          98.9%|    New with tags|https://www.ebay....|\n",
      "|        879|Women Clothing|Female|LADIES WOMENS TRO...| 4.99|       911|              3|       Not Available|   4.5|         MyShoeStore|          98.9%|    New with tags|https://www.ebay....|\n",
      "|34359744173|Women Clothing|Female|NEW WOMENS PLUS S...|24.99|       904|             10|Los Angeles, Cali...|   0.5|     discountsjungle|          98.5%|    New with tags|https://www.ebay....|\n",
      "|34359744198|Women Clothing|Female|NEW WOMENS PLUS S...|24.99|       904|             10|Los Angeles, Cali...|   1.5|     discountsjungle|          98.5%|    New with tags|https://www.ebay....|\n",
      "+-----------+--------------+------+--------------------+-----+----------+---------------+--------------------+------+--------------------+---------------+-----------------+--------------------+\n"
     ]
    }
   ],
   "source": [
    "# Top Selling products in the category... \n",
    "\n",
    "top_selling_products = women_clothing_df_temp.sort(col(\"Total Sold\").desc()).limit(50)\n",
    "top_selling_products.show()\n",
    "\n",
    "top_selling_products.write.csv(\"C:\\\\Users\\\\dhrum\\\\Desktop\", header=True, mode=\"overwrite\")"
   ],
   "metadata": {
    "collapsed": false,
    "ExecuteTime": {
     "end_time": "2023-12-05T19:16:16.688112500Z",
     "start_time": "2023-12-05T19:16:07.705826200Z"
    }
   },
   "id": "7e1c7c30aea6cd84"
  },
  {
   "cell_type": "code",
   "execution_count": 32,
   "outputs": [
    {
     "name": "stdout",
     "output_type": "stream",
     "text": [
      "+------------+-----+\n",
      "| Price Range|count|\n",
      "+------------+-----+\n",
      "|   $0 - $100|24038|\n",
      "|     Unknown|  947|\n",
      "| $300 - $400|  909|\n",
      "| $200 - $300| 1439|\n",
      "| $100 - $200| 4367|\n",
      "|$500 - $1000| 1033|\n",
      "|     $1000 +|  786|\n",
      "| $400 - $500|  574|\n",
      "+------------+-----+\n"
     ]
    }
   ],
   "source": [
    "# Counting products in each Price Range (Price Range Distribution) - To identify popular price ranges\n",
    "\n",
    "price_bins = [0, 100, 200, 300, 400, 500, 1000, float('inf')]\n",
    "labels = [\"$0 - $100\", \"$100 - $200\", \"$200 - $300\", \"$300 - $400\", \"$400 - $500\", \"$500 - $1000\", \"$1000 +\"]\n",
    "\n",
    "df_with_price_ranges = women_clothing_df_temp.withColumn(\"Price Range\",\n",
    "                                              when((col(\"Price\") >= price_bins[0]) & (col(\"Price\") < price_bins[1]), labels[0])\n",
    "                                              .when((col(\"Price\") >= price_bins[1]) & (col(\"Price\") < price_bins[2]), labels[1])\n",
    "                                              .when((col(\"Price\") >= price_bins[2]) & (col(\"Price\") < price_bins[3]), labels[2])\n",
    "                                              .when((col(\"Price\") >= price_bins[3]) & (col(\"Price\") < price_bins[4]), labels[3])\n",
    "                                              .when((col(\"Price\") >= price_bins[4]) & (col(\"Price\") < price_bins[5]), labels[4])\n",
    "                                              .when((col(\"Price\") >= price_bins[5]) & (col(\"Price\") < price_bins[6]), labels[5])\n",
    "                                              .when(col(\"Price\") >= price_bins[6], labels[6])\n",
    "                                              .otherwise(\"Unknown\")\n",
    "                                              )\n",
    "\n",
    "# Group by \"Price Range\" and count the occurrences\n",
    "price_range_counts = df_with_price_ranges.groupBy(\"Price Range\").count()\n",
    "\n",
    "# Show the result\n",
    "price_range_counts.show()"
   ],
   "metadata": {
    "collapsed": false,
    "ExecuteTime": {
     "end_time": "2023-12-05T04:16:24.512819900Z",
     "start_time": "2023-12-05T04:16:23.753214800Z"
    }
   },
   "id": "45ef375b6d197c0f"
  },
  {
   "cell_type": "code",
   "execution_count": 21,
   "outputs": [
    {
     "name": "stdout",
     "output_type": "stream",
     "text": [
      "+--------------------+----------------+\n",
      "|         Seller Name|Total Items Sold|\n",
      "+--------------------+----------------+\n",
      "|Megatone_Electron...|            8661|\n",
      "|Drone Superstore ...|            7650|\n",
      "|  DJI Official Store|            7149|\n",
      "|       Not Available|            4769|\n",
      "|  Bliss Toys for All|            4760|\n",
      "|Caold Solar and S...|            4400|\n",
      "|            4drctoys|            4299|\n",
      "|Sherco Automotive...|            3847|\n",
      "|     EverydayGadgetz|            3637|\n",
      "|     infinity-drones|            3272|\n",
      "|Steve's I Want That!|            2317|\n",
      "|    BLUETTI OFFICIAL|            2098|\n",
      "|Eagle Eye Drones LLC|            2071|\n",
      "|          Bluetti US|            1931|\n",
      "|Los Gatos, Califo...|            1883|\n",
      "|Paladin Distribution|            1746|\n",
      "|   Knownobob's Store|            1683|\n",
      "|          DYNORACING|            1588|\n",
      "|    GO NITRO HOBBIES|            1496|\n",
      "|SMONET Official S...|            1461|\n",
      "+--------------------+----------------+\n"
     ]
    }
   ],
   "source": [
    "# \n",
    "\n",
    "from  pyspark.sql.functions import sum\n",
    "women_clothing_df_temp = women_clothing_df_temp.withColumn(\"Total Sold\", when(col(\"Total Sold\").cast(\"int\").isNotNull(), col(\"Total Sold\").cast(\"int\")).otherwise(0))\n",
    "\n",
    "top_sellers = women_clothing_df_temp.groupBy(\"Seller Name\").agg(sum(\"Total Sold\").alias(\"Total Items Sold\")).orderBy(col(\"Total Items Sold\").desc())\n",
    "\n",
    "top_sellers.show()"
   ],
   "metadata": {
    "collapsed": false,
    "ExecuteTime": {
     "end_time": "2023-12-04T23:52:07.251838700Z",
     "start_time": "2023-12-04T23:52:05.493416900Z"
    }
   },
   "id": "90e925fe79f77e2e"
  },
  {
   "cell_type": "code",
   "execution_count": 22,
   "outputs": [
    {
     "name": "stdout",
     "output_type": "stream",
     "text": [
      "+--------------------+----------------+\n",
      "|            Location|Total Items Sold|\n",
      "+--------------------+----------------+\n",
      "|       Not Available|           35047|\n",
      "|Rockaway Park, Ne...|            8705|\n",
      "|New York, New Yor...|            7692|\n",
      "|Los Angeles, Cali...|            7525|\n",
      "|Fort Lauderdale, ...|            7161|\n",
      "|Princeton Junctio...|            5669|\n",
      "|Pompano Beach, Fl...|            5492|\n",
      "|Miami, Florida, U...|            4528|\n",
      "|La Puente, Califo...|            4411|\n",
      "|Alameda, Californ...|            3637|\n",
      "|       United States|            2806|\n",
      "|Walnut, Californi...|            2785|\n",
      "|Chino, California...|            2711|\n",
      "|Laingsburg, Michi...|            2317|\n",
      "|Hebron, Kentucky,...|            2277|\n",
      "|Potsdam, New York...|            2071|\n",
      "|Chicago, Illinois...|            1750|\n",
      "|Walton, Kentucky,...|            1717|\n",
      "|Perth Amboy, New ...|            1717|\n",
      "|La Mesa, Californ...|            1683|\n",
      "+--------------------+----------------+\n"
     ]
    }
   ],
   "source": [
    "# Location based Analysis - which \n",
    "sales_by_location = women_clothing_df_temp.groupBy(\"Location\").agg(sum(\"Total Sold\").alias(\"Total Items Sold\")).orderBy(col(\"Total Items Sold\").desc())\n",
    "\n",
    "sales_by_location.show()"
   ],
   "metadata": {
    "collapsed": false,
    "ExecuteTime": {
     "end_time": "2023-12-04T23:59:17.725946400Z",
     "start_time": "2023-12-04T23:59:16.557780Z"
    }
   },
   "id": "e7e261f41c8d0d85"
  },
  {
   "cell_type": "code",
   "execution_count": 23,
   "outputs": [
    {
     "name": "stdout",
     "output_type": "stream",
     "text": [
      "+------+-----+\n",
      "|Rating|count|\n",
      "+------+-----+\n",
      "|  NULL|   43|\n",
      "|   0.5| 1382|\n",
      "|   1.0| 2947|\n",
      "|   1.5| 2865|\n",
      "|   2.0| 2817|\n",
      "|   2.3|    1|\n",
      "|   2.5| 2726|\n",
      "|   3.0| 2824|\n",
      "|   3.1|    2|\n",
      "|   3.2|    2|\n",
      "|   3.3|    8|\n",
      "|   3.5| 2868|\n",
      "|   3.6|   14|\n",
      "|   3.7|   60|\n",
      "|   3.8|   21|\n",
      "|   3.9|    8|\n",
      "|   4.0| 3056|\n",
      "|   4.1|   23|\n",
      "|   4.2|   74|\n",
      "|   4.3|  192|\n",
      "+------+-----+\n"
     ]
    }
   ],
   "source": [
    "ratings_distribution = women_clothing_df_temp.groupBy(\"Rating\").count().orderBy(\"Rating\")\n",
    "\n",
    "ratings_distribution.show()"
   ],
   "metadata": {
    "collapsed": false,
    "ExecuteTime": {
     "end_time": "2023-12-05T00:01:47.697059700Z",
     "start_time": "2023-12-05T00:01:46.877880700Z"
    }
   },
   "id": "9acd5b47f7646763"
  },
  {
   "cell_type": "code",
   "execution_count": 27,
   "outputs": [
    {
     "name": "stdout",
     "output_type": "stream",
     "text": [
      "+--------------------+----------------+\n",
      "|   Product Condition|Total Items Sold|\n",
      "+--------------------+----------------+\n",
      "|                 New|          139061|\n",
      "|                Used|           14049|\n",
      "|Certified - Refur...|            8889|\n",
      "|            Open box|            3162|\n",
      "|          OnlineSemi|            1883|\n",
      "|               98.6%|            1395|\n",
      "|               99.4%|            1298|\n",
      "|                100%|             830|\n",
      "|New other (see de...|             767|\n",
      "|               97.6%|             449|\n",
      "|For parts or not ...|             342|\n",
      "|               99.1%|             339|\n",
      "|               96.3%|             266|\n",
      "|CE Showroom and A...|             240|\n",
      "|      New � Open box|             219|\n",
      "|                 98%|             214|\n",
      "|               98.2%|             194|\n",
      "|               98.5%|             171|\n",
      "|                   2|             169|\n",
      "|           Brand New|              95|\n",
      "+--------------------+----------------+\n"
     ]
    }
   ],
   "source": [
    "sales_by_condition = women_clothing_df_temp.groupBy(\"Product Condition\").agg(sum(\"Total Sold\").alias(\"Total Items Sold\")).orderBy(col(\"Total Items Sold\").desc())\n",
    "\n",
    "sales_by_condition.show()"
   ],
   "metadata": {
    "collapsed": false,
    "ExecuteTime": {
     "end_time": "2023-12-05T00:09:00.526799600Z",
     "start_time": "2023-12-05T00:08:59.727926100Z"
    }
   },
   "id": "c0b56426d33da535"
  },
  {
   "cell_type": "code",
   "execution_count": 29,
   "outputs": [
    {
     "name": "stdout",
     "output_type": "stream",
     "text": [
      "+-----+----------------+\n",
      "|Price|Total Items Sold|\n",
      "+-----+----------------+\n",
      "| NULL|            2707|\n",
      "| 0.25|               4|\n",
      "| 0.99|              68|\n",
      "|  1.0|              13|\n",
      "| 1.39|               0|\n",
      "| 1.47|               0|\n",
      "| 1.49|               7|\n",
      "|  1.5|               7|\n",
      "| 1.59|               0|\n",
      "| 1.61|              60|\n",
      "| 1.65|              38|\n",
      "| 1.67|              26|\n",
      "| 1.69|              25|\n",
      "| 1.75|              35|\n",
      "| 1.79|               6|\n",
      "| 1.83|               0|\n",
      "| 1.85|               1|\n",
      "| 1.87|               0|\n",
      "| 1.89|              53|\n",
      "| 1.93|               4|\n",
      "+-----+----------------+\n"
     ]
    }
   ],
   "source": [
    "price_performance = women_clothing_df_temp.groupBy(\"Price\").agg(sum(\"Total Sold\").alias(\"Total Items Sold\")).orderBy(\"Price\")\n",
    "\n",
    "price_performance.show()"
   ],
   "metadata": {
    "collapsed": false,
    "ExecuteTime": {
     "end_time": "2023-12-05T00:10:18.727741Z",
     "start_time": "2023-12-05T00:10:17.719497Z"
    }
   },
   "id": "1b05bb0db48db4b8"
  },
  {
   "cell_type": "code",
   "execution_count": 8,
   "outputs": [],
   "source": [
    "# output_path = r\"E:\\Ebay Data Analysis\\Ebay_Analysis\\Output\"\n",
    "women_clothing_df_temp.coalesce(1).write.csv(\"E:\\\\Ebay Data Analysis\\\\Ebay_Analysis\\\\Output\", header=True, mode=\"overwrite\")\n"
   ],
   "metadata": {
    "collapsed": false,
    "ExecuteTime": {
     "end_time": "2023-12-04T21:18:29.066832500Z",
     "start_time": "2023-12-04T21:18:26.670829900Z"
    }
   },
   "id": "502330043d4deaab"
  },
  {
   "cell_type": "code",
   "execution_count": null,
   "outputs": [],
   "source": [
    "women_clothing_df_temp.show()"
   ],
   "metadata": {
    "collapsed": false
   },
   "id": "1b6776551c1f4cfa"
  },
  {
   "cell_type": "code",
   "execution_count": null,
   "outputs": [],
   "source": [],
   "metadata": {
    "collapsed": false
   },
   "id": "11c572cea1d40943"
  }
 ],
 "metadata": {
  "kernelspec": {
   "display_name": "Python 3",
   "language": "python",
   "name": "python3"
  },
  "language_info": {
   "codemirror_mode": {
    "name": "ipython",
    "version": 2
   },
   "file_extension": ".py",
   "mimetype": "text/x-python",
   "name": "python",
   "nbconvert_exporter": "python",
   "pygments_lexer": "ipython2",
   "version": "2.7.6"
  }
 },
 "nbformat": 4,
 "nbformat_minor": 5
}
