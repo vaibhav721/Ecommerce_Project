{
 "cells": [
  {
   "cell_type": "code",
   "execution_count": 1,
   "id": "fc91fa39",
   "metadata": {},
   "outputs": [
    {
     "name": "stderr",
     "output_type": "stream",
     "text": [
      "/opt/anaconda3/lib/python3.9/site-packages/pandas/core/computation/expressions.py:21: UserWarning: Pandas requires version '2.8.0' or newer of 'numexpr' (version '2.7.3' currently installed).\n",
      "  from pandas.core.computation.check import NUMEXPR_INSTALLED\n",
      "/opt/anaconda3/lib/python3.9/site-packages/pandas/core/arrays/masked.py:62: UserWarning: Pandas requires version '1.3.4' or newer of 'bottleneck' (version '1.3.2' currently installed).\n",
      "  from pandas.core import (\n"
     ]
    }
   ],
   "source": [
    "import pandas as pd"
   ]
  },
  {
   "cell_type": "code",
   "execution_count": null,
   "id": "0e350363",
   "metadata": {},
   "outputs": [],
   "source": []
  },
  {
   "cell_type": "code",
   "execution_count": 2,
   "id": "12a88a5f",
   "metadata": {},
   "outputs": [],
   "source": [
    "import csv"
   ]
  },
  {
   "cell_type": "code",
   "execution_count": 3,
   "id": "d3a42f67",
   "metadata": {},
   "outputs": [
    {
     "data": {
      "text/html": [
       "<div>\n",
       "<style scoped>\n",
       "    .dataframe tbody tr th:only-of-type {\n",
       "        vertical-align: middle;\n",
       "    }\n",
       "\n",
       "    .dataframe tbody tr th {\n",
       "        vertical-align: top;\n",
       "    }\n",
       "\n",
       "    .dataframe thead th {\n",
       "        text-align: right;\n",
       "    }\n",
       "</style>\n",
       "<table border=\"1\" class=\"dataframe\">\n",
       "  <thead>\n",
       "    <tr style=\"text-align: right;\">\n",
       "      <th></th>\n",
       "      <th>Location</th>\n",
       "      <th>Latitude</th>\n",
       "      <th>Longitude</th>\n",
       "      <th>Gender</th>\n",
       "      <th>Title</th>\n",
       "      <th>Price</th>\n",
       "      <th>Total Sold Items</th>\n",
       "      <th>Total Available Items</th>\n",
       "      <th>Rating</th>\n",
       "      <th>Seller Name</th>\n",
       "      <th>Seller Feedback</th>\n",
       "      <th>Product Condition</th>\n",
       "      <th>URL</th>\n",
       "      <th>Category</th>\n",
       "    </tr>\n",
       "  </thead>\n",
       "  <tbody>\n",
       "    <tr>\n",
       "      <th>0</th>\n",
       "      <td>Not Available</td>\n",
       "      <td>26.673956</td>\n",
       "      <td>-80.128403</td>\n",
       "      <td>Unisex</td>\n",
       "      <td>Car Steering Wheel Booster Cover Non Slip Inte...</td>\n",
       "      <td>US $15.46</td>\n",
       "      <td>2 sold</td>\n",
       "      <td>3 available</td>\n",
       "      <td>Not Available</td>\n",
       "      <td>luobo-e</td>\n",
       "      <td>100%</td>\n",
       "      <td>New</td>\n",
       "      <td>https://www.ebay.com/itm/176036075298?hash=ite...</td>\n",
       "      <td>Car Accessories</td>\n",
       "    </tr>\n",
       "    <tr>\n",
       "      <th>1</th>\n",
       "      <td>Not Available</td>\n",
       "      <td>26.673956</td>\n",
       "      <td>-80.128403</td>\n",
       "      <td>Unisex</td>\n",
       "      <td>1pc Carbon Fiber Style Car Interior Hand Brake...</td>\n",
       "      <td>US $6.54</td>\n",
       "      <td>4 sold</td>\n",
       "      <td>More than 10 available</td>\n",
       "      <td>Not Available</td>\n",
       "      <td>luobo-e</td>\n",
       "      <td>100%</td>\n",
       "      <td>New</td>\n",
       "      <td>https://www.ebay.com/itm/176036074583?hash=ite...</td>\n",
       "      <td>Car Accessories</td>\n",
       "    </tr>\n",
       "    <tr>\n",
       "      <th>2</th>\n",
       "      <td>Not Available</td>\n",
       "      <td>26.673956</td>\n",
       "      <td>-80.128403</td>\n",
       "      <td>Unisex</td>\n",
       "      <td>For Toyota Camry 2018 2019 2020 2021 2022 2023...</td>\n",
       "      <td>US $8.69</td>\n",
       "      <td>255 sold</td>\n",
       "      <td>Last One</td>\n",
       "      <td>Not Available</td>\n",
       "      <td>easyfind123</td>\n",
       "      <td>96.5%</td>\n",
       "      <td>New</td>\n",
       "      <td>https://www.ebay.com/itm/313924057075?hash=ite...</td>\n",
       "      <td>Car Accessories</td>\n",
       "    </tr>\n",
       "    <tr>\n",
       "      <th>3</th>\n",
       "      <td>Rowland Heights, California, United States</td>\n",
       "      <td>33.976124</td>\n",
       "      <td>-117.905339</td>\n",
       "      <td>Unisex</td>\n",
       "      <td>4PCS Car Mud Flaps Splash Guards for Front or ...</td>\n",
       "      <td>US $12.89</td>\n",
       "      <td>11 sold</td>\n",
       "      <td>More than 10 available</td>\n",
       "      <td>Not Available</td>\n",
       "      <td>wallet1444</td>\n",
       "      <td>95.5%</td>\n",
       "      <td>New</td>\n",
       "      <td>https://www.ebay.com/itm/145410340180?hash=ite...</td>\n",
       "      <td>Car Accessories</td>\n",
       "    </tr>\n",
       "    <tr>\n",
       "      <th>4</th>\n",
       "      <td>Not Available</td>\n",
       "      <td>26.673956</td>\n",
       "      <td>-80.128403</td>\n",
       "      <td>Unisex</td>\n",
       "      <td>2X Cup Pad Car Accessories LED Light Cover Int...</td>\n",
       "      <td>US $9.99</td>\n",
       "      <td>2,518 sold</td>\n",
       "      <td>More than 10 available</td>\n",
       "      <td>4.2</td>\n",
       "      <td>casedazzle</td>\n",
       "      <td>99%</td>\n",
       "      <td>New</td>\n",
       "      <td>https://www.ebay.com/itm/234115698477?epid=404...</td>\n",
       "      <td>Car Accessories</td>\n",
       "    </tr>\n",
       "  </tbody>\n",
       "</table>\n",
       "</div>"
      ],
      "text/plain": [
       "                                     Location   Latitude   Longitude  Gender  \\\n",
       "0                               Not Available  26.673956  -80.128403  Unisex   \n",
       "1                               Not Available  26.673956  -80.128403  Unisex   \n",
       "2                               Not Available  26.673956  -80.128403  Unisex   \n",
       "3  Rowland Heights, California, United States  33.976124 -117.905339  Unisex   \n",
       "4                               Not Available  26.673956  -80.128403  Unisex   \n",
       "\n",
       "                                               Title      Price  \\\n",
       "0  Car Steering Wheel Booster Cover Non Slip Inte...  US $15.46   \n",
       "1  1pc Carbon Fiber Style Car Interior Hand Brake...   US $6.54   \n",
       "2  For Toyota Camry 2018 2019 2020 2021 2022 2023...   US $8.69   \n",
       "3  4PCS Car Mud Flaps Splash Guards for Front or ...  US $12.89   \n",
       "4  2X Cup Pad Car Accessories LED Light Cover Int...   US $9.99   \n",
       "\n",
       "  Total Sold Items   Total Available Items         Rating  Seller Name  \\\n",
       "0           2 sold             3 available  Not Available      luobo-e   \n",
       "1           4 sold  More than 10 available  Not Available      luobo-e   \n",
       "2         255 sold                Last One  Not Available  easyfind123   \n",
       "3          11 sold  More than 10 available  Not Available   wallet1444   \n",
       "4       2,518 sold  More than 10 available            4.2   casedazzle   \n",
       "\n",
       "  Seller Feedback Product Condition  \\\n",
       "0            100%               New   \n",
       "1            100%               New   \n",
       "2           96.5%               New   \n",
       "3           95.5%               New   \n",
       "4             99%               New   \n",
       "\n",
       "                                                 URL         Category  \n",
       "0  https://www.ebay.com/itm/176036075298?hash=ite...  Car Accessories  \n",
       "1  https://www.ebay.com/itm/176036074583?hash=ite...  Car Accessories  \n",
       "2  https://www.ebay.com/itm/313924057075?hash=ite...  Car Accessories  \n",
       "3  https://www.ebay.com/itm/145410340180?hash=ite...  Car Accessories  \n",
       "4  https://www.ebay.com/itm/234115698477?epid=404...  Car Accessories  "
      ]
     },
     "execution_count": 3,
     "metadata": {},
     "output_type": "execute_result"
    }
   ],
   "source": [
    "df=pd.read_csv('Final_Dataset.csv')\n",
    "df.head()"
   ]
  },
  {
   "cell_type": "code",
   "execution_count": 5,
   "id": "a9c9c377",
   "metadata": {},
   "outputs": [
    {
     "name": "stderr",
     "output_type": "stream",
     "text": [
      "/var/folders/hr/_4vrqxc53bq1gwv1mgjs80dw0000gn/T/ipykernel_2392/2553675917.py:1: FutureWarning: DataFrame.applymap has been deprecated. Use DataFrame.map instead.\n",
      "  df_encoded = df.applymap(lambda x: x.encode('utf-8').decode('utf-8', 'ignore') if isinstance(x, str) else x)\n"
     ]
    }
   ],
   "source": [
    "df_encoded = df.applymap(lambda x: x.encode('utf-8').decode('utf-8', 'ignore') if isinstance(x, str) else x)\n"
   ]
  },
  {
   "cell_type": "code",
   "execution_count": 6,
   "id": "196833a2",
   "metadata": {},
   "outputs": [],
   "source": [
    "# Update the original DataFrame with the encoded values\n",
    "df.update(df_encoded)"
   ]
  },
  {
   "cell_type": "code",
   "execution_count": 8,
   "id": "81a0b180",
   "metadata": {},
   "outputs": [],
   "source": []
  },
  {
   "cell_type": "code",
   "execution_count": null,
   "id": "13d9c49c",
   "metadata": {},
   "outputs": [],
   "source": []
  }
 ],
 "metadata": {
  "kernelspec": {
   "display_name": "Python 3 (ipykernel)",
   "language": "python",
   "name": "python3"
  },
  "language_info": {
   "codemirror_mode": {
    "name": "ipython",
    "version": 3
   },
   "file_extension": ".py",
   "mimetype": "text/x-python",
   "name": "python",
   "nbconvert_exporter": "python",
   "pygments_lexer": "ipython3",
   "version": "3.9.7"
  }
 },
 "nbformat": 4,
 "nbformat_minor": 5
}
